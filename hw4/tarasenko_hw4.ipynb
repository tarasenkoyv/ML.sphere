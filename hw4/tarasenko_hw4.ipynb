{
 "cells": [
  {
   "cell_type": "markdown",
   "metadata": {},
   "source": [
    "### Алгоритмы интеллектуальной обработки больших объемов данных\n",
    "## Домашнее задание №4 - Градиентный бустинг\n"
   ]
  },
  {
   "cell_type": "markdown",
   "metadata": {},
   "source": [
    "**Общая информация**\n",
    "\n",
    "**Срок сдачи:** 10 мая 2021, 08:30   \n",
    "**Штраф за опоздание:** -2 балла после 08:30 10 мая, -4 балла после 08:30 17 мая, -6 баллов после 08:30 24 мая, -8 баллов после 08:30 31 мая.\n",
    "\n",
    "При отправлении ДЗ указывайте фамилию в названии файла Присылать ДЗ необходимо в виде ссылки на свой github репозиторий на почту ml1.sphere@mail.ru с указанием темы в следующем формате:\n",
    "[ML0221, Задание 4] Фамилия Имя. \n",
    "\n",
    "\n",
    "Используйте данный Ipython Notebook при оформлении домашнего задания."
   ]
  },
  {
   "cell_type": "markdown",
   "metadata": {},
   "source": [
    "##  Считаем производные для функций потерь (1 балл)"
   ]
  },
  {
   "cell_type": "markdown",
   "metadata": {},
   "source": [
    "Мы будем реализовать градиентный бустинг для 3 функций потерь:\n",
    "\n",
    "1) MSE  $L(a(x_i), y_i) = (y_i - a(x_i)) ^ 2$\n",
    "\n",
    "2) Экспоненциальная  $L(a(x_i), y_i) = exp( -a(x_i) y_i), y_i \\in \\{-1, 1\\}$\n",
    "\n",
    "3) Логистическая  $L(a(x_i), y_i) = \\log (1 + exp( -a(x_i) y_i)), y_i \\in \\{-1, 1\\}$\n",
    "\n",
    "где $a(x_i)$ предсказание бустинга на итом объекте. \n",
    "\n",
    "Для каждой функции потерь напишите таргет, на который будет настраиваться каждое дерево в бустинге. "
   ]
  },
  {
   "cell_type": "markdown",
   "metadata": {},
   "source": [
    "#### Ответ:"
   ]
  },
  {
   "cell_type": "markdown",
   "metadata": {},
   "source": [
    "1) $2\\cdot(y_{i} - a_{i})$\n",
    "\n",
    "2) $y_{i}\\cdot exp(-a(x_i)\\cdot y_i)$\n",
    "\n",
    "3) $\\frac{1}{(1 + exp( -a(x_i) y_i))}\\cdot y_{i}\\cdot exp(-a(x_i)\\cdot y_i)$\n"
   ]
  },
  {
   "cell_type": "markdown",
   "metadata": {},
   "source": [
    "##  Реализуем градиентный бустинг (3 балла)"
   ]
  },
  {
   "cell_type": "markdown",
   "metadata": {},
   "source": [
    "Реализуйте класс градиентного бустинга для классификации. Ваша реализация бустинга должна работать по точности не более чем на 5 процентов хуже чем GradientBoostingClassifier из sklearn. \n"
   ]
  },
  {
   "cell_type": "markdown",
   "metadata": {},
   "source": [
    "Детали реализации:\n",
    "\n",
    "-- должно поддерживаться 3 функции потерь\n",
    "\n",
    "-- сами базовые алгоритмы(деревья, линейные модели и тп) реализовать не надо, просто возьмите готовые из sklearn\n",
    "\n",
    "-- в качестве функции потерь для построения одного дерева используйте MSE\n",
    "\n",
    "-- шаг в бустинге можно не подбирать, можно брать константный\n",
    "\n",
    "-- можно брать разные модели в качестве инициализации бустинга\n",
    "\n",
    "-- должны поддерживаться следующие параметры:\n",
    "\n",
    "а) число итераций\n",
    "б) размер шага\n",
    "в) процент случайных фичей при построении одного дерева\n",
    "д) процент случайных объектов при построении одного дерева\n",
    "е) параметры базового алгоритма (передавайте через **kwargs)"
   ]
  },
  {
   "cell_type": "code",
   "execution_count": 1,
   "metadata": {},
   "outputs": [],
   "source": [
    "import numpy as np\n",
    "import operator\n",
    "import matplotlib.pyplot as plt\n",
    "\n",
    "from sklearn.datasets import load_wine\n",
    "from sklearn.datasets import load_breast_cancer\n",
    "\n",
    "from sklearn.ensemble import GradientBoostingClassifier\n",
    "from sklearn.metrics import accuracy_score\n",
    "from sklearn.model_selection import train_test_split\n",
    "\n",
    "from sklearn.base import BaseEstimator, ClassifierMixin\n",
    "from collections import defaultdict\n",
    "\n",
    "from sklearn.dummy import DummyRegressor\n",
    "from sklearn.dummy import DummyClassifier\n",
    "from sklearn.linear_model import LogisticRegression\n",
    "from sklearn.tree import DecisionTreeRegressor\n",
    "from sklearn.ensemble import RandomForestClassifier\n",
    "from sklearn.ensemble import RandomForestRegressor\n",
    "from sklearn.ensemble import BaggingClassifier\n",
    "from sklearn.svm import SVR\n",
    "from sklearn.svm import SVC\n",
    "\n",
    "from sklearn.model_selection import StratifiedKFold\n",
    "from sklearn.model_selection import GridSearchCV, RandomizedSearchCV\n",
    "\n",
    "from scipy.special import expit, logsumexp\n",
    "\n",
    "from multiprocessing.dummy import Pool, Lock, Queue\n",
    "from tqdm.notebook import tqdm\n",
    "\n",
    "from collections import namedtuple"
   ]
  },
  {
   "cell_type": "code",
   "execution_count": 2,
   "metadata": {},
   "outputs": [],
   "source": [
    "class LossFunction:\n",
    "    is_multi_class = False\n",
    "    \n",
    "    def __init__(self, n_classes):\n",
    "        self.K = n_classes\n",
    "\n",
    "    def get_init_raw_predictions(self, X, estimator):\n",
    "        predictions = estimator.predict(X)\n",
    "        return predictions.reshape(-1, 1).astype(np.float64)\n",
    "    \n",
    "    def update_terminal_regions(self, tree, X, y, residual, raw_predictions,\n",
    "                                sample_weight,\n",
    "                                sample_mask, learning_rate=0.1, k=0):\n",
    "        terminal_regions = tree.apply(X.astype(np.float32))\n",
    "\n",
    "        # mask all which are not in sample mask.\n",
    "        masked_terminal_regions = terminal_regions.copy()\n",
    "        masked_terminal_regions[~sample_mask] = -1\n",
    "\n",
    "        # update each leaf (= perform line search)\n",
    "        for leaf in np.where(tree.children_left == -1)[0]:\n",
    "            self._update_terminal_region(tree, masked_terminal_regions,\n",
    "                                         leaf, X, y, residual,\n",
    "                                         raw_predictions[:, k], sample_weight)\n",
    "\n",
    "        # update predictions (both in-bag and out-of-bag)\n",
    "        raw_predictions[:, k] += \\\n",
    "            learning_rate * tree.value[:, 0, 0].take(terminal_regions, axis=0)\n",
    "\n",
    "class MultinomialDeviance(LossFunction):\n",
    "\n",
    "    is_multi_class = True\n",
    "\n",
    "    def __init__(self, n_classes):\n",
    "        super().__init__(n_classes)\n",
    "    \n",
    "    def __call__(self, y, raw_predictions, sample_weight=None):\n",
    "        from scipy.special import expit, logsumexp\n",
    "        \"\"\"Compute the Multinomial deviance.\n",
    "        Parameters\n",
    "        ----------\n",
    "        y : ndarray of shape (n_samples,)\n",
    "            True labels.\n",
    "        raw_predictions : ndarray of shape (n_samples, K)\n",
    "            The raw predictions (i.e. values from the tree leaves) of the\n",
    "            tree ensemble.\n",
    "        sample_weight : ndarray of shape (n_samples,), default=None\n",
    "            Sample weights.\n",
    "        \"\"\"\n",
    "        # create one-hot label encoding\n",
    "        Y = np.zeros((y.shape[0], self.K), dtype=np.float)\n",
    "        for k in range(self.K):\n",
    "            Y[:, k] = y == k\n",
    "\n",
    "        return np.average(\n",
    "            -1 * (Y * raw_predictions).sum(axis=1) +\n",
    "            logsumexp(raw_predictions, axis=1),\n",
    "            weights=sample_weight\n",
    "        )\n",
    "\n",
    "    def negative_gradient(self, y, raw_predictions, k=0, **kwargs):\n",
    "        from scipy.special import expit, logsumexp\n",
    "        \"\"\"Compute negative gradient for the ``k``-th class.\n",
    "        Parameters\n",
    "        ----------\n",
    "        y : ndarray of shape (n_samples,)\n",
    "            The target labels.\n",
    "        raw_predictions : ndarray of shape (n_samples, K)\n",
    "            The raw predictions (i.e. values from the tree leaves) of the\n",
    "            tree ensemble at iteration ``i - 1``.\n",
    "        k : int, default=0\n",
    "            The index of the class.\n",
    "        \"\"\"\n",
    "        return y - np.nan_to_num(np.exp(raw_predictions[:, k] -\n",
    "                                        logsumexp(raw_predictions, axis=1)))\n",
    "\n",
    "    def _update_terminal_region(self, tree, terminal_regions, leaf, X, y,\n",
    "                                residual, raw_predictions, sample_weight):\n",
    "        \"\"\"Make a single Newton-Raphson step. \"\"\"\n",
    "        terminal_region = np.where(terminal_regions == leaf)[0]\n",
    "        residual = residual.take(terminal_region, axis=0)\n",
    "        y = y.take(terminal_region, axis=0)\n",
    "        sample_weight = sample_weight.take(terminal_region, axis=0)\n",
    "\n",
    "        numerator = np.sum(sample_weight * residual)\n",
    "        numerator *= (self.K - 1) / self.K\n",
    "\n",
    "        denominator = np.sum(sample_weight * (y - residual) *\n",
    "                             (1 - y + residual))\n",
    "\n",
    "        # prevents overflow and division by zero\n",
    "        if abs(denominator) < 1e-150:\n",
    "            tree.value[leaf, 0, 0] = 0.0\n",
    "        else:\n",
    "            tree.value[leaf, 0, 0] = numerator / denominator\n",
    "\n",
    "    def _raw_prediction_to_proba(self, raw_predictions):\n",
    "        from scipy.special import expit, logsumexp\n",
    "        return np.nan_to_num(\n",
    "            np.exp(raw_predictions -\n",
    "                   (logsumexp(raw_predictions, axis=1)[:, np.newaxis])))\n",
    "\n",
    "    def _raw_prediction_to_decision(self, raw_predictions):\n",
    "        proba = self._raw_prediction_to_proba(raw_predictions)\n",
    "        return np.argmax(proba, axis=1)\n",
    "\n",
    "class LeastSquaresError(LossFunction):\n",
    "    \"\"\"Loss function for least squares (LS) estimation \n",
    "    for binary classification.\n",
    "    \"\"\"\n",
    "    def __init__(self, n_classes):\n",
    "        if n_classes != 2:\n",
    "            raise ValueError(\"{0:s} requires 2 classes; got {1:d} class(es)\"\n",
    "                             .format(self.__class__.__name__, n_classes))\n",
    "        # we only need to fit one model for binary clf.\n",
    "        super().__init__(n_classes=1)\n",
    "\n",
    "    def __call__(self, y, raw_predictions, sample_weight=None):\n",
    "        if sample_weight is None:\n",
    "            return np.mean((y - raw_predictions.ravel()) ** 2)\n",
    "        else:\n",
    "            return (1 / sample_weight.sum() * np.sum(\n",
    "                sample_weight * ((y - raw_predictions.ravel()) ** 2)))\n",
    "\n",
    "    def negative_gradient(self, y, raw_predictions):\n",
    "        return y - raw_predictions.ravel()\n",
    "\n",
    "    def update_terminal_regions(self, tree, X, y, residual, raw_predictions,\n",
    "                                sample_weight,\n",
    "                                sample_mask, learning_rate=0.1, k=0):\n",
    "        raw_predictions[:, k] += learning_rate * tree.predict(X.astype(np.float32)).ravel()\n",
    "\n",
    "    def _update_terminal_region(self, tree, terminal_regions, leaf, X, y,\n",
    "                            residual, raw_predictions):\n",
    "        pass\n",
    "\n",
    "    def _raw_prediction_to_proba(self, raw_predictions):\n",
    "        from scipy.special import expit\n",
    "        proba = np.ones((raw_predictions.shape[0], 2), dtype=np.float64)\n",
    "        proba[:, 1] = expit(2.0 * raw_predictions.ravel())\n",
    "        proba[:, 0] -= proba[:, 1]\n",
    "        return proba\n",
    "\n",
    "    def _raw_prediction_to_decision(self, raw_predictions):\n",
    "        return (raw_predictions.ravel() >= 0).astype(int)\n",
    "\n",
    "class BinomialDeviance(LossFunction):\n",
    "    def __init__(self, n_classes):\n",
    "        super().__init__(n_classes=1)\n",
    "    \n",
    "    def __call__(self, y, raw_predictions,  sample_weight=None):\n",
    "        # logaddexp(0, v) == log(1.0 + exp(v))\n",
    "        raw_predictions = raw_predictions.ravel()\n",
    "        if sample_weight is None:\n",
    "            return -2 * np.mean((y * raw_predictions) -\n",
    "                                np.logaddexp(0, raw_predictions))\n",
    "        else:\n",
    "            return (-2 / sample_weight.sum() * np.sum(\n",
    "                sample_weight * ((y * raw_predictions) -\n",
    "                                 np.logaddexp(0, raw_predictions))))\n",
    "\n",
    "    def negative_gradient(self, y, raw_predictions):\n",
    "        from scipy.special import expit\n",
    "        return y - expit(raw_predictions.ravel())\n",
    "\n",
    "    def _raw_prediction_to_proba(self, raw_predictions):\n",
    "        from scipy.special import expit\n",
    "        proba = np.ones((raw_predictions.shape[0], 2), dtype=np.float)\n",
    "        proba[:, 1] = expit(raw_predictions.ravel())\n",
    "        proba[:, 0] -= proba[:, 1]\n",
    "        return proba\n",
    "\n",
    "    def _raw_prediction_to_decision(self, raw_predictions):\n",
    "        proba = self._raw_prediction_to_proba(raw_predictions)\n",
    "        return np.argmax(proba, axis=1)\n",
    "\n",
    "    def _update_terminal_region(self, tree, terminal_regions, leaf, X, y, \n",
    "                                residual, raw_predictions, sample_weight):\n",
    "        terminal_region = np.where(terminal_regions == leaf)[0]\n",
    "        residual = residual.take(terminal_region, axis=0)\n",
    "        y = y.take(terminal_region, axis=0)\n",
    "        sample_weight = sample_weight.take(terminal_region, axis=0)\n",
    "\n",
    "        numerator = np.sum(sample_weight * residual)\n",
    "        denominator = np.sum(sample_weight *\n",
    "                                (y - residual) * (1 - y + residual))\n",
    "\n",
    "        # prevents overflow and division by zero\n",
    "        if abs(denominator) < 1e-150:\n",
    "            tree.value[leaf, 0, 0] = 0.0\n",
    "        else:\n",
    "            tree.value[leaf, 0, 0] = numerator / denominator\n",
    "\n",
    "class ExponentialLoss(LossFunction):\n",
    "    \"\"\"Exponential loss function for binary classification.\"\"\"\n",
    "    def __init__(self, n_classes):\n",
    "        if n_classes != 2:\n",
    "            raise ValueError(\"{0:s} requires 2 classes; got {1:d} class(es)\"\n",
    "                             .format(self.__class__.__name__, n_classes))\n",
    "        # we only need to fit one model for binary clf.\n",
    "        super().__init__(n_classes=1)\n",
    "    \n",
    "    def __call__(self, y, raw_predictions, sample_weight=None):\n",
    "        raw_predictions = raw_predictions.ravel()\n",
    "        if sample_weight is None:\n",
    "            return np.mean(np.exp(-(2. * y - 1.) * raw_predictions))\n",
    "        else:\n",
    "            return (1.0 / sample_weight.sum() * np.sum(\n",
    "                sample_weight * np.exp(-(2 * y - 1) * raw_predictions)))\n",
    "\n",
    "    def negative_gradient(self, y, raw_predictions):\n",
    "        y_ = -(2. * y - 1.)\n",
    "        return y_ * np.exp(y_ * raw_predictions.ravel())\n",
    "\n",
    "    def _raw_prediction_to_proba(self, raw_predictions):\n",
    "        from scipy.special import expit\n",
    "        proba = np.ones((raw_predictions.shape[0], 2), dtype=np.float)\n",
    "        proba[:, 1] = expit(2.0 * raw_predictions.ravel())\n",
    "        proba[:, 0] -= proba[:, 1]\n",
    "        return proba\n",
    "\n",
    "    def _raw_prediction_to_decision(self, raw_predictions):\n",
    "        return (raw_predictions.ravel() >= 0).astype(int)\n",
    "\n",
    "    def _update_terminal_region(self, tree, terminal_regions, leaf, X, y, \n",
    "                                residual, raw_predictions, sample_weight):\n",
    "        terminal_region = np.where(terminal_regions == leaf)[0]\n",
    "        raw_predictions = raw_predictions.take(terminal_region, axis=0)\n",
    "        y = y.take(terminal_region, axis=0)\n",
    "        sample_weight = sample_weight.take(terminal_region, axis=0)\n",
    "\n",
    "        y_ = 2. * y - 1.\n",
    "\n",
    "        numerator = np.sum(y_ * sample_weight * np.exp(-y_ * raw_predictions))\n",
    "        denominator = np.sum(sample_weight * np.exp(-y_ * raw_predictions))\n",
    "\n",
    "        # prevents overflow and division by zero\n",
    "        if abs(denominator) < 1e-150:\n",
    "            tree.value[leaf, 0, 0] = 0.0\n",
    "        else:\n",
    "            tree.value[leaf, 0, 0] = numerator / denominator\n",
    "\n",
    "LOSS_FUNCTIONS = {\n",
    "    \"squared_error\": LeastSquaresError,\n",
    "    'deviance': BinomialDeviance,\n",
    "    'exponential': ExponentialLoss,\n",
    "}"
   ]
  },
  {
   "cell_type": "code",
   "execution_count": 3,
   "metadata": {},
   "outputs": [],
   "source": [
    "class MyGradientBoostingClassifier(ClassifierMixin):\n",
    "    \"\"\"\n",
    "    subsample : float, default=1.0\n",
    "        The fraction of samples to be used for fitting the individual base\n",
    "        learners.\n",
    "    init_model : estimator or 'zero', default=None\n",
    "        An estimator object that is used to compute the initial predictions.\n",
    "    max_features : {'auto', 'sqrt', 'log2'}, int or float, default=None\n",
    "        The number of features to consider when looking for the best split.\n",
    "    \"\"\"\n",
    "    DEFAULT_PARAMS_TREE = {'criterion': 'mse',\n",
    "                           'min_samples_split': 2,\n",
    "                           'max_depth': 3}\n",
    "\n",
    "    DEFAULT_PARAMS_SVM = {'kernel': 'rbf',\n",
    "                          'degree': 3,\n",
    "                          'gamma': 'scale',\n",
    "                          'C': 1.0,\n",
    "                          'max_iter':-1}\n",
    "    DEFAULT_PARAMS_LOGREG = {'C': 1.0, 'max_iter': 2000}\n",
    "    \n",
    "    DEFAULT_PARAMS_RF = {'max_samples': 0.5, 'n_jobs': -1}\n",
    "    \n",
    "    def __init__(self, loss='deviance', learning_rate=0.1, n_estimators=100, \n",
    "                 subsample = 1.0,\n",
    "                 max_features = 1.0,\n",
    "                 init_model_class=None,\n",
    "                 base_model_class = DecisionTreeRegressor,\n",
    "                 *args, **base_model_params):\n",
    "        \"\"\"\n",
    "        loss -- один из 3 лоссов\n",
    "        learning_rate -- шаг бустинга\n",
    "        n_estimators -- число итераций\n",
    "        max_features -- процент рандомных признаков при обучнеии одного алгоритма\n",
    "        subsample -- процент рандомных объектов при обучнеии одного алгоритма\n",
    "        args, kwargs -- параметры  базовых моделей\n",
    "        \"\"\"\n",
    "        # Ваш код здесь\n",
    "        self.n_estimators = n_estimators\n",
    "        self.learning_rate = learning_rate\n",
    "        self.loss = loss\n",
    "        self.subsample = subsample\n",
    "        self.max_features = max_features\n",
    "        \n",
    "        self.init_model_class = init_model_class\n",
    "        if self.init_model_class is None:\n",
    "            self.init_ = 'zero'\n",
    "        else:\n",
    "            if self.init_model_class == LogisticRegression:\n",
    "                self.init_ = self.init_model_class(**DEFAULT_PARAMS_LOGREG)\n",
    "            else:\n",
    "                self.init_ = self.init_model_class()\n",
    "            \n",
    "        self.base_model_class = base_model_class\n",
    "        if self.base_model_class == DecisionTreeRegressor:\n",
    "            self.base_model_params = MyGradientBoostingClassifier.DEFAULT_PARAMS_TREE.copy()\n",
    "            self.base_model_params.update(base_model_params)\n",
    "            self.base_model_params['max_features'] = self.max_features\n",
    "        elif self.base_model_class == RandomForestRegressor:\n",
    "            self.base_model_params = MyGradientBoostingClassifier.DEFAULT_PARAMS_RF.copy()\n",
    "            self.base_model_params.update(base_model_params)\n",
    "            self.base_model_params['max_features'] = self.max_features\n",
    "        elif self.base_model_class == SVR:\n",
    "            self.base_model_params = MyGradientBoostingClassifier.DEFAULT_PARAMS_SVM.copy()\n",
    "            self.base_model_params.update(base_model_params)\n",
    "        else:\n",
    "            raise ValueError(f\"base_model '{base_model_class}' is not recognized\")\n",
    "\n",
    "    def factory_base_model(self):\n",
    "        return self.base_model_class(**self.base_model_params)\n",
    "\n",
    "    def _clear_state(self):\n",
    "        \"\"\"Clear the state of the gradient boosting model. \"\"\"\n",
    "        if hasattr(self, 'estimators_'):\n",
    "            self.estimators_ = np.empty((0, 0), dtype=object)\n",
    "\n",
    "    def _init_state(self):\n",
    "        self.estimators_ = np.empty((self.n_estimators, self.loss_.K),\n",
    "                                    dtype=object)\n",
    "\n",
    "    def _is_initialized(self):\n",
    "        return len(getattr(self, 'estimators_', [])) > 0\n",
    "\n",
    "    def fit(self, X, y):\n",
    "        \"\"\"\n",
    "        X -- объекты для обучения:\n",
    "        y -- таргеты для обучения\n",
    "        base_model -- класс базовых моделей, например sklearn.tree.DecisionTreeRegressor\n",
    "        init_model -- класс для первой модели, если None то берем константу (только для посл задания)\n",
    "        \"\"\"\n",
    "        # Ваш код здесь\n",
    "        sample_weight = np.ones(X.shape[0])\n",
    "        self._clear_state()\n",
    "\n",
    "        y = np.asarray(y)\n",
    "        self.classes_, y = np.unique(y, return_inverse=True)\n",
    "        self.n_classes_ = len(self.classes_)\n",
    "\n",
    "        if self.loss == 'deviance':\n",
    "            loss_class = (MultinomialDeviance\n",
    "                          if len(self.classes_) > 2\n",
    "                          else BinomialDeviance)\n",
    "        else:\n",
    "            loss_class = LOSS_FUNCTIONS[self.loss]\n",
    "\n",
    "        self.loss_ = loss_class(self.n_classes_)\n",
    "\n",
    "        X_val = y_val = sample_weight_val = None\n",
    "\n",
    "        if not self._is_initialized():\n",
    "            # init state\n",
    "            self._init_state()\n",
    "            # fit initial model and initialize raw predictions\n",
    "            if self.init_ == 'zero':\n",
    "                raw_predictions = np.zeros(shape=(X.shape[0], self.loss_.K),\n",
    "                                           dtype=np.float)\n",
    "            else:\n",
    "                if isinstance(self.init_, SVC):\n",
    "                    if not hasattr(self, 'fit_status_'):\n",
    "                        self.init_.fit(X, y)\n",
    "                else:\n",
    "                    self.init_.fit(X, y)\n",
    "                \n",
    "                raw_predictions = \\\n",
    "                    self.loss_.get_init_raw_predictions(X, self.init_)\n",
    "\n",
    "            begin_at_stage = 0\n",
    "\n",
    "        # fit the boosting stages\n",
    "        n_stages = self._fit_stages(\n",
    "            X, y, raw_predictions, sample_weight, \n",
    "            X_val, y_val, sample_weight_val, \n",
    "            begin_at_stage)\n",
    "\n",
    "        self.n_estimators_ = n_stages\n",
    "        return self\n",
    "\n",
    "    def predict(self, X):\n",
    "        # Ваш код здесь\n",
    "        if self.init_ == 'zero':\n",
    "            raw_predictions = np.zeros(shape=(X.shape[0], self.loss_.K), dtype=np.float)\n",
    "        else:\n",
    "            raw_predictions = self.loss_.get_init_raw_predictions(X, self.init_).astype(np.float)\n",
    "        \n",
    "        for k in range(self.loss_.K):\n",
    "            for i in range(self.n_estimators):\n",
    "                if self.base_model_class in (DecisionTreeRegressor, RandomForestRegressor):\n",
    "                    raw_predictions[:, k] += self.learning_rate * self.estimators_[i, k].predict(X).astype(np.float)\n",
    "                else:\n",
    "                    estimator, feature_indices = self.estimators_[i, k]\n",
    "                    raw_predictions[:, k] += self.learning_rate * estimator.predict(X[:, feature_indices]).astype(np.float)\n",
    "        \n",
    "        encoded_labels = \\\n",
    "            self.loss_._raw_prediction_to_decision(raw_predictions)\n",
    "        return self.classes_.take(encoded_labels, axis=0)\n",
    "\n",
    "    def _fit_stage(self, i, X, y, raw_predictions, sample_weight, sample_mask, feature_indices):\n",
    "        \"\"\"Fit another stage of ``_n_classes`` models to the boosting model.\"\"\"\n",
    "        loss = self.loss_\n",
    "        original_y = y\n",
    "\n",
    "        # For base_model_class == DecisionTreeRegressor:\n",
    "        # Need to pass a copy of raw_predictions to negative_gradient()\n",
    "        # because raw_predictions is partially updated at the end of the loop\n",
    "        # in update_terminal_regions(), and gradients need to be evaluated at\n",
    "        # iteration i - 1.\n",
    "        raw_predictions_copy = raw_predictions.copy()\n",
    "\n",
    "        # Classification with more than 2 classes requires the induction of n_classes regression models \n",
    "        # at each iteration, thus, the total number of induced trees equals n_classes * n_estimators.\n",
    "        for k in range(loss.K):\n",
    "            if loss.is_multi_class:\n",
    "                y = np.array(original_y == k, dtype=np.float)\n",
    "\n",
    "            residual = loss.negative_gradient(y, raw_predictions_copy)\n",
    "\n",
    "            # induce regression base model on residuals\n",
    "            model = self.factory_base_model()\n",
    "\n",
    "            if self.subsample < 1.0:\n",
    "                # no inplace multiplication!\n",
    "                sample_weight = sample_weight * sample_mask.astype(np.float)\n",
    "            \n",
    "            if self.base_model_class == DecisionTreeRegressor:\n",
    "                model.fit(X, residual, sample_weight=sample_weight, check_input=False)\n",
    "            elif self.base_model_class == RandomForestRegressor:\n",
    "                model.fit(X, residual, sample_weight=sample_weight)\n",
    "            else:\n",
    "                model.fit(X[:, feature_indices], residual, sample_weight=sample_weight)\n",
    "\n",
    "            # update tree leaves\n",
    "            if self.base_model_class == DecisionTreeRegressor:\n",
    "                loss.update_terminal_regions(\n",
    "                    model.tree_, X, y, residual, raw_predictions, sample_weight,\n",
    "                    sample_mask, learning_rate=self.learning_rate, k=k)\n",
    "            elif self.base_model_class == RandomForestRegressor:\n",
    "                new_raw_predictions = model.predict(X)\n",
    "                raw_predictions[:, k] += self.learning_rate * new_raw_predictions\n",
    "            else:\n",
    "                new_raw_predictions = model.predict(X[:, feature_indices])\n",
    "                raw_predictions[:, k] += self.learning_rate * new_raw_predictions\n",
    "                \n",
    "            # add model to ensemble\n",
    "            if self.base_model_class in (DecisionTreeRegressor, RandomForestRegressor):\n",
    "                self.estimators_[i, k] = model\n",
    "            else:\n",
    "                self.estimators_[i, k] = (model, feature_indices)\n",
    "\n",
    "        return raw_predictions\n",
    "\n",
    "    def _fit_stages(self, X, y, raw_predictions, sample_weight,\n",
    "                    X_val, y_val, sample_weight_val,\n",
    "                    begin_at_stage=0):\n",
    "        n_samples = X.shape[0]\n",
    "        n_features = X.shape[1]\n",
    "        do_oob = self.subsample < 1.0\n",
    "        sample_mask = np.ones((n_samples, ), dtype=bool)\n",
    "        n_inbag = max(1, int(self.subsample * n_samples))\n",
    "        n_inbag_features = max(1, int(self.max_features * n_features))\n",
    "        loss_ = self.loss_\n",
    "\n",
    "        # perform boosting iterations\n",
    "        i = begin_at_stage\n",
    "\n",
    "        for i in range(begin_at_stage, self.n_estimators):\n",
    "            # subsampling\n",
    "            sample_mask = np.zeros((n_samples,), dtype=bool)\n",
    "            sample_indices =  np.random.choice(n_samples, n_inbag, replace=False)\n",
    "            sample_mask[sample_indices] = True\n",
    "            feature_indices =  np.random.choice(n_features, n_inbag_features, replace=False)\n",
    "            # fit next stage of trees\n",
    "            raw_predictions = self._fit_stage(i, X, y, raw_predictions, sample_weight, sample_mask, feature_indices)\n",
    "\n",
    "        return i + 1"
   ]
  },
  {
   "cell_type": "markdown",
   "metadata": {},
   "source": [
    "### Многоклассовaя классификация:"
   ]
  },
  {
   "cell_type": "code",
   "execution_count": 36,
   "metadata": {},
   "outputs": [],
   "source": [
    "my_clf_tree = MyGradientBoostingClassifier(loss='deviance', n_estimators=100, learning_rate=0.1,\n",
    "                                           max_features=0.5, subsample=0.5,\n",
    "                                           base_model_class=DecisionTreeRegressor,\n",
    "                                           min_samples_split=3, max_depth=6)\n",
    "my_clf_svm = MyGradientBoostingClassifier(loss='deviance', n_estimators=100, learning_rate=0.1, \n",
    "                                          max_features=0.5, subsample=0.5, \n",
    "                                          base_model_class=SVR)\n",
    "clf = GradientBoostingClassifier(loss='deviance', n_estimators=100, learning_rate=0.1,\n",
    "                                 min_samples_split=3, max_depth=6,\n",
    "                                 max_features=0.5, subsample=0.5)"
   ]
  },
  {
   "cell_type": "code",
   "execution_count": 37,
   "metadata": {},
   "outputs": [],
   "source": [
    "wine = load_wine()\n",
    "X_train, X_test, y_train, y_test = train_test_split(wine.data, wine.target, \n",
    "                                                    test_size=0.1, stratify=wine.target,\n",
    "                                                    random_state=0)"
   ]
  },
  {
   "cell_type": "code",
   "execution_count": 38,
   "metadata": {},
   "outputs": [
    {
     "data": {
      "text/plain": [
       "GradientBoostingClassifier(max_depth=6, max_features=0.5, min_samples_split=3,\n",
       "                           subsample=0.5)"
      ]
     },
     "execution_count": 38,
     "metadata": {},
     "output_type": "execute_result"
    }
   ],
   "source": [
    "my_clf_tree.fit(X_train, y_train)\n",
    "my_clf_svm.fit(X_train, y_train)\n",
    "clf.fit(X_train, y_train)"
   ]
  },
  {
   "cell_type": "code",
   "execution_count": 39,
   "metadata": {},
   "outputs": [
    {
     "name": "stdout",
     "output_type": "stream",
     "text": [
      "clf accuracy_score = 1.0\n",
      "my_clf_tree accuracy_score = 1.0\n",
      "my_clf_svm accuracy_score = 0.7777777777777778\n"
     ]
    }
   ],
   "source": [
    "print(f\"clf accuracy_score = {accuracy_score(y_pred=clf.predict(X_test), y_true=y_test)}\")\n",
    "print(f\"my_clf_tree accuracy_score = {accuracy_score(y_pred=my_clf_tree.predict(X_test), y_true=y_test)}\")\n",
    "print(f\"my_clf_svm accuracy_score = {accuracy_score(y_pred=my_clf_svm.predict(X_test), y_true=y_test)}\")"
   ]
  },
  {
   "cell_type": "markdown",
   "metadata": {},
   "source": [
    "Видно,что SVM работает хуже в качестве базовой модели, чем DecisionTreeRegressor при заданных параметрах (n_estimators=100, learning_rate=0.1)."
   ]
  },
  {
   "cell_type": "markdown",
   "metadata": {},
   "source": [
    "### Бинарная классификация:"
   ]
  },
  {
   "cell_type": "code",
   "execution_count": 40,
   "metadata": {},
   "outputs": [],
   "source": [
    "breast_cancer = load_breast_cancer()\n",
    "X_train, X_test, y_train, y_test = train_test_split(breast_cancer.data, breast_cancer.target, \n",
    "                                                    test_size=0.1, stratify=breast_cancer.target, random_state=42)"
   ]
  },
  {
   "cell_type": "code",
   "execution_count": 48,
   "metadata": {},
   "outputs": [],
   "source": [
    "my_clf_tree = MyGradientBoostingClassifier(loss='exponential', n_estimators=100, learning_rate=0.1,\n",
    "                                           max_features=0.5, subsample=0.5,\n",
    "                                           base_model_class=DecisionTreeRegressor,\n",
    "                                           min_samples_split=3, max_depth=6)\n",
    "clf = GradientBoostingClassifier(loss='exponential', n_estimators=100, learning_rate=0.1,\n",
    "                                 min_samples_split=3, max_depth=6,\n",
    "                                 max_features=0.5, subsample=0.5)"
   ]
  },
  {
   "cell_type": "code",
   "execution_count": 49,
   "metadata": {},
   "outputs": [
    {
     "data": {
      "text/plain": [
       "GradientBoostingClassifier(loss='exponential', max_depth=6, max_features=0.5,\n",
       "                           min_samples_split=3, subsample=0.5)"
      ]
     },
     "execution_count": 49,
     "metadata": {},
     "output_type": "execute_result"
    }
   ],
   "source": [
    "my_clf_tree.fit(X_train, y_train)\n",
    "clf.fit(X_train, y_train)"
   ]
  },
  {
   "cell_type": "code",
   "execution_count": 51,
   "metadata": {},
   "outputs": [
    {
     "name": "stdout",
     "output_type": "stream",
     "text": [
      "clf accuracy_score = 0.9473684210526315\n",
      "my_clf_tree accuracy_score = 0.9649122807017544\n"
     ]
    }
   ],
   "source": [
    "print(f\"clf accuracy_score = {accuracy_score(y_pred=clf.predict(X_test), y_true=y_test)}\")\n",
    "print(f\"my_clf_tree accuracy_score = {accuracy_score(y_pred=my_clf_tree.predict(X_test), y_true=y_test)}\")"
   ]
  },
  {
   "cell_type": "markdown",
   "metadata": {},
   "source": [
    "## Подбираем параметры (2 балла)\n",
    "\n",
    "Давайте попробуем применить Ваш бустинг для предсказаний цены домов в Калифорнии. Чтобы можно было попробовтаь разные функции потерь, переведем по порогу таргет в 2 класса: дорогие и дешевые дома."
   ]
  },
  {
   "cell_type": "markdown",
   "metadata": {},
   "source": [
    "В задании нужно\n",
    "\n",
    "1) Построить график точности в зависимости от числа итераций на валидации.\n",
    "\n",
    "2) Подобрать оптимальные параметры Вашего бустинга на валидации. \n"
   ]
  },
  {
   "cell_type": "code",
   "execution_count": 52,
   "metadata": {},
   "outputs": [],
   "source": [
    "from sklearn.datasets import fetch_california_housing\n",
    "X, y = fetch_california_housing(return_X_y=True)"
   ]
  },
  {
   "cell_type": "code",
   "execution_count": 53,
   "metadata": {},
   "outputs": [
    {
     "name": "stdout",
     "output_type": "stream",
     "text": [
      "(20640, 8) (20640,)\n"
     ]
    }
   ],
   "source": [
    "# Превращаем регрессию в классификацию\n",
    "y = (y > 2.0).astype(int)\n",
    "print(X.shape, y.shape)"
   ]
  },
  {
   "cell_type": "code",
   "execution_count": 54,
   "metadata": {},
   "outputs": [],
   "source": [
    "X_train, X_test, y_train, y_test =  train_test_split(X, y, test_size=0.1, stratify=y, random_state=42)"
   ]
  },
  {
   "cell_type": "code",
   "execution_count": 55,
   "metadata": {},
   "outputs": [],
   "source": [
    "cv = StratifiedKFold(n_splits=3, shuffle=True, random_state=132)"
   ]
  },
  {
   "cell_type": "markdown",
   "metadata": {},
   "source": [
    "#### Вспомогательная функция cross_val_score:"
   ]
  },
  {
   "cell_type": "code",
   "execution_count": 19,
   "metadata": {},
   "outputs": [],
   "source": [
    "def cross_val_score(param_grid_value, wo_lock=False):\n",
    "    global cv\n",
    "    global X_train\n",
    "    global y_train\n",
    "    global init_model_class\n",
    "    global base_model_class\n",
    "    train_scores = []\n",
    "    valid_scores = []\n",
    "    my_clf = MyGradientBoostingClassifier(\n",
    "            n_estimators = 100,\n",
    "            loss='deviance', learning_rate=0.1,\n",
    "            max_features=0.5, subsample=0.5,\n",
    "            init_model_class=init_model_class,\n",
    "            base_model_class=base_model_class)\n",
    "    for train_idx, test_idx in cv.split(X_train, y_train):\n",
    "        X_train_f, X_test_f = X_train[train_idx], X_train[test_idx]\n",
    "        y_train_f, y_test_f = y_train[train_idx], y_train[test_idx]\n",
    "        my_clf.loss = param_grid_value.loss\n",
    "        my_clf.learning_rate = param_grid_value.learning_rate\n",
    "        my_clf.n_estimators = param_grid_value.n_estimators\n",
    "        my_clf.fit(X_train_f, y_train_f)\n",
    "        valid_scores.append(my_clf.score(X_test_f, y_test_f))\n",
    "        train_scores.append(my_clf.score(X_train_f, y_train_f))\n",
    "    if not wo_lock:\n",
    "        with lock:\n",
    "            pbar.update(1)\n",
    "    return ParamGridResult(param_grid_value.n_estimators,\n",
    "                           param_grid_value.learning_rate,\n",
    "                           param_grid_value.loss,\n",
    "                           train_scores, valid_scores)"
   ]
  },
  {
   "cell_type": "code",
   "execution_count": 9,
   "metadata": {},
   "outputs": [],
   "source": [
    "ParamGridValue = namedtuple(\"ParamGridValue\", [\"n_estimators\", \"learning_rate\", \"loss\"])\n",
    "ParamGridResult = namedtuple(\"ParamGridResult\", [\"n_estimators\", \"learning_rate\", \"loss\", \n",
    "                                                 \"train_scores\", \"valid_scores\"])"
   ]
  },
  {
   "cell_type": "code",
   "execution_count": 10,
   "metadata": {},
   "outputs": [],
   "source": [
    "def get_param_grid(param_dict):\n",
    "    loss_list = np.repeat(param_grid['loss'], \n",
    "                      len(param_grid['learning_rate']))\n",
    "    loss_list = np.repeat(np.asarray(loss_list).reshape(-1, 1), \n",
    "                      len(param_grid['n_estimators']), axis=1).T.ravel()\n",
    "    \n",
    "    learning_rate_list = np.repeat(\n",
    "        np.asarray(param_grid['learning_rate']).reshape(-1, 1),\n",
    "        len(param_grid['n_estimators']) * len(param_grid['loss']), axis=1).T.ravel()\n",
    "    \n",
    "    n_estimators_list = np.repeat(\n",
    "        np.asarray(param_grid['n_estimators']),\n",
    "        len(param_grid['learning_rate']) * len(param_grid['loss']))\n",
    "    \n",
    "    param_tuples = [\n",
    "         ParamGridValue(n_estimators, learning_rate, loss) \n",
    "         for n_estimators, loss, learning_rate in list(zip(n_estimators_list, loss_list, learning_rate_list))]\n",
    "    return param_tuples          "
   ]
  },
  {
   "cell_type": "code",
   "execution_count": 11,
   "metadata": {},
   "outputs": [],
   "source": [
    "def plot_accuracies(param_name, param_values, train_scores, valid_scores, fig=None, init_model_name='zero', add_subplot=111):\n",
    "    if fig is None:\n",
    "        fig = plt.figure(figsize=(13, 5))\n",
    "    ax = fig.add_subplot(add_subplot)\n",
    "    train_score_mean = train_scores.mean(axis=1)\n",
    "    train_score_std = train_scores.std(axis=1)\n",
    "    valid_scores_mean = valid_scores.mean(axis=1)\n",
    "    valid_scores_std = valid_scores.std(axis=1)\n",
    "\n",
    "    plt.fill_between(param_values, train_score_mean-train_score_std, train_score_mean+train_score_std, color='b',\n",
    "                     interpolate=True, alpha=0.5,)\n",
    "    plt.fill_between(param_values, valid_scores_mean-valid_scores_std, valid_scores_mean+valid_scores_std, color='r', \n",
    "                     interpolate=True, alpha=0.5)\n",
    "\n",
    "    plt.plot(param_values, train_score_mean, c='b', lw=2, label=\"Training score\")\n",
    "    plt.plot(param_values, valid_scores_mean, c='r', lw=2, label=\"Cross-validation score\")\n",
    "\n",
    "\n",
    "    plt.xlabel('n_estimators')\n",
    "    plt.ylabel('accuracy')\n",
    "    plt.legend(loc=\"best\")\n",
    "    plt.title(\n",
    "        f\"\"\"Validation Curve with init_model {init_model_name} ({param_name} vs. accuracy)\"\"\")"
   ]
  },
  {
   "cell_type": "markdown",
   "metadata": {},
   "source": [
    "#### Вычисление scores для графика:"
   ]
  },
  {
   "cell_type": "code",
   "execution_count": 153,
   "metadata": {},
   "outputs": [],
   "source": [
    "param_grid = {'loss': ['deviance'],\n",
    "              'learning_rate': [0.1],\n",
    "              'n_estimators': range(1, 101)}\n",
    "param_grid = get_param_grid(param_grid)"
   ]
  },
  {
   "cell_type": "code",
   "execution_count": 157,
   "metadata": {},
   "outputs": [
    {
     "data": {
      "application/vnd.jupyter.widget-view+json": {
       "model_id": "a7bf35a65af04e64aeaccb12ed833044",
       "version_major": 2,
       "version_minor": 0
      },
      "text/plain": [
       "HBox(children=(HTML(value=''), FloatProgress(value=0.0), HTML(value='')))"
      ]
     },
     "metadata": {},
     "output_type": "display_data"
    },
    {
     "name": "stdout",
     "output_type": "stream",
     "text": [
      "\n"
     ]
    }
   ],
   "source": [
    "init_model_class = RandomForestClassifier\n",
    "with Pool(processes=8) as pool, tqdm(total=len(param_grid)) as pbar:\n",
    "    lock = pbar.get_lock()\n",
    "    scores_rf = pool.map(cross_val_score, param_grid)\n",
    "pool.join()"
   ]
  },
  {
   "cell_type": "code",
   "execution_count": 154,
   "metadata": {},
   "outputs": [
    {
     "data": {
      "application/vnd.jupyter.widget-view+json": {
       "model_id": "18c186a450254d38ad35a082c467f324",
       "version_major": 2,
       "version_minor": 0
      },
      "text/plain": [
       "HBox(children=(HTML(value=''), FloatProgress(value=0.0), HTML(value='')))"
      ]
     },
     "metadata": {},
     "output_type": "display_data"
    },
    {
     "name": "stdout",
     "output_type": "stream",
     "text": [
      "\n"
     ]
    }
   ],
   "source": [
    "init_model_class = None\n",
    "with Pool(processes=8) as pool, tqdm(total=len(param_grid)) as pbar:\n",
    "    lock = pbar.get_lock()\n",
    "    scores_zero = pool.map(cross_val_score, param_grid)\n",
    "pool.join()"
   ]
  },
  {
   "cell_type": "code",
   "execution_count": 158,
   "metadata": {},
   "outputs": [],
   "source": [
    "scores_rf = sorted(scores_rf, key=operator.itemgetter(ParamGridResult._fields.index('n_estimators')))\n",
    "scores_zero = sorted(scores_zero, key=operator.itemgetter(ParamGridResult._fields.index('n_estimators')))"
   ]
  },
  {
   "cell_type": "code",
   "execution_count": 160,
   "metadata": {},
   "outputs": [],
   "source": [
    "train_scores_rf = [r.train_scores for r in scores_rf]\n",
    "valid_scores_rf = [r.valid_scores for r in scores_rf]\n",
    "train_scores_rf = np.asarray(train_scores_rf)\n",
    "valid_scores_rf = np.asarray(valid_scores_rf)\n",
    "\n",
    "train_scores_zero = [r.train_scores for r in scores_zero]\n",
    "valid_scores_zero = [r.valid_scores for r in scores_zero]\n",
    "train_scores_zero = np.asarray(train_scores_zero)\n",
    "valid_scores_zero = np.asarray(valid_scores_zero)"
   ]
  },
  {
   "cell_type": "markdown",
   "metadata": {},
   "source": [
    "### 1. Построить график точности в зависимости от числа итераций на валидации:"
   ]
  },
  {
   "cell_type": "code",
   "execution_count": 161,
   "metadata": {},
   "outputs": [
    {
     "data": {
      "image/png": "[encoded data removed]",
      "text/plain": [
       "<Figure size 936x360 with 1 Axes>"
      ]
     },
     "metadata": {
      "needs_background": "light"
     },
     "output_type": "display_data"
    },
    {
     "data": {
      "image/png": "[encoded data removed]",
      "text/plain": [
       "<Figure size 936x360 with 1 Axes>"
      ]
     },
     "metadata": {
      "needs_background": "light"
     },
     "output_type": "display_data"
    }
   ],
   "source": [
    "plot_accuracies('n_estimators', range(1, 101), \n",
    "                train_scores_rf, valid_scores_rf, init_model_name='RandomForestClassifier')\n",
    "plot_accuracies('n_estimators', range(1, 101), \n",
    "                train_scores_zero, valid_scores_zero, init_model_name='zero')"
   ]
  },
  {
   "cell_type": "markdown",
   "metadata": {},
   "source": [
    "Видно, что с увеличением кол-ва итерации (n_estimators) растет точность при init_model = 'zero' (константа).\n",
    "\n",
    "При это если init_model = RandomForestClassifier, то первоначальное приближение уже блико к 1.0 на train (0.98), поэтому с ростом кол-ва итерации качество на валидации не улучшается."
   ]
  },
  {
   "cell_type": "markdown",
   "metadata": {},
   "source": [
    "### 2. Подобрать оптимальные параметры Вашего бустинга на валидации:"
   ]
  },
  {
   "cell_type": "code",
   "execution_count": 12,
   "metadata": {},
   "outputs": [],
   "source": [
    "param_grid = {'loss': ['squared_error', 'deviance', 'exponential'],\n",
    "              'learning_rate': np.arange(0.1, 1.1, 1e-1),\n",
    "              'n_estimators': [100]}\n",
    "param_grid = get_param_grid(param_grid)"
   ]
  },
  {
   "cell_type": "code",
   "execution_count": 13,
   "metadata": {},
   "outputs": [],
   "source": [
    "init_model_class = None"
   ]
  },
  {
   "cell_type": "code",
   "execution_count": 19,
   "metadata": {},
   "outputs": [
    {
     "data": {
      "application/vnd.jupyter.widget-view+json": {
       "model_id": "33dbfdc812604441a5eda7eb31ab9b33",
       "version_major": 2,
       "version_minor": 0
      },
      "text/plain": [
       "HBox(children=(HTML(value=''), FloatProgress(value=0.0, max=30.0), HTML(value='')))"
      ]
     },
     "metadata": {},
     "output_type": "display_data"
    },
    {
     "name": "stdout",
     "output_type": "stream",
     "text": [
      "\n"
     ]
    }
   ],
   "source": [
    "with Pool(processes=8) as pool, tqdm(total=len(param_grid)) as pbar:\n",
    "    lock = pbar.get_lock()\n",
    "    results = pool.map(cross_val_score, param_grid)\n",
    "pool.join()"
   ]
  },
  {
   "cell_type": "code",
   "execution_count": 20,
   "metadata": {},
   "outputs": [],
   "source": [
    "idx_max = np.argmax(list(map(lambda x: np.mean(x.valid_scores), results)))\n",
    "best_params = results[idx_max]"
   ]
  },
  {
   "cell_type": "markdown",
   "metadata": {},
   "source": [
    "#### Оптимальные параметры:"
   ]
  },
  {
   "cell_type": "code",
   "execution_count": 21,
   "metadata": {},
   "outputs": [
    {
     "name": "stdout",
     "output_type": "stream",
     "text": [
      "loss - exponential\n",
      "learning_rate - 0.30000000000000004\n",
      "best_score on valid - 0.8873815676141258\n"
     ]
    }
   ],
   "source": [
    "print(f\"loss - {best_params.loss}\")\n",
    "print(f\"learning_rate - {best_params.learning_rate}\")\n",
    "print(f\"best_score on valid - {np.mean(best_params.valid_scores)}\")"
   ]
  },
  {
   "cell_type": "code",
   "execution_count": 23,
   "metadata": {},
   "outputs": [],
   "source": [
    "best_model = MyGradientBoostingClassifier(\n",
    "    n_estimators = 100,\n",
    "    loss='exponential', learning_rate=0.3,\n",
    "    max_features=0.5, subsample=0.5)"
   ]
  },
  {
   "cell_type": "code",
   "execution_count": 24,
   "metadata": {},
   "outputs": [
    {
     "data": {
      "text/plain": [
       "<__main__.MyGradientBoostingClassifier at 0x203268ee8e0>"
      ]
     },
     "execution_count": 24,
     "metadata": {},
     "output_type": "execute_result"
    }
   ],
   "source": [
    "best_model.fit(X_train, y_train)"
   ]
  },
  {
   "cell_type": "code",
   "execution_count": 25,
   "metadata": {},
   "outputs": [
    {
     "name": "stdout",
     "output_type": "stream",
     "text": [
      "best_model accuracy_score on test = 0.8880813953488372\n"
     ]
    }
   ],
   "source": [
    "print(f\"best_model accuracy_score on test = {best_model.score(X_test, y_test)}\")"
   ]
  },
  {
   "cell_type": "markdown",
   "metadata": {},
   "source": [
    "## BooBag BagBoo (1 балл)"
   ]
  },
  {
   "cell_type": "markdown",
   "metadata": {},
   "source": [
    "Попробуем объединить бустинг и бэгинг. Давайте\n",
    "\n",
    "1) в качестве базовой модели брать не дерево решений, а случайный лес (из sklearn)\n",
    "\n",
    "2) обучать N бустингов на бустрапированной выборке, а затем предикт усреднять"
   ]
  },
  {
   "cell_type": "markdown",
   "metadata": {},
   "source": [
    "Попробуйте обе этих стратегии на данных из прошлого задания. Получилось ли улучшить качество? Почему?"
   ]
  },
  {
   "cell_type": "markdown",
   "metadata": {},
   "source": [
    "#### Вспомогательные функции:"
   ]
  },
  {
   "cell_type": "code",
   "execution_count": 20,
   "metadata": {},
   "outputs": [],
   "source": [
    "def closs_val_score_bagging(n_estimators, wo_lock=False):\n",
    "    global base_model_params\n",
    "    bagger = MyBaggingClassifier(base_model_class=MyGradientBoostingClassifier, \n",
    "                                 n_base_models=n_estimators, \n",
    "                                 base_model_params=base_model_params)\n",
    "    valid_scores = []\n",
    "    train_scores = []\n",
    "    for train_idx, test_idx in cv.split(X_train, y_train):\n",
    "        X_train_f, X_test_f = X_train[train_idx], X_train[test_idx]\n",
    "        y_train_f, y_test_f = y_train[train_idx], y_train[test_idx]\n",
    "        bagger.fit(X_train_f, y_train_f)\n",
    "        valid_scores.append(bagger.score(X_test_f, y_test_f))\n",
    "        train_scores.append(bagger.score(X_train_f, y_train_f))\n",
    "    if not wo_lock:\n",
    "        with lock:\n",
    "            pbar.update(1)\n",
    "    return ParamGridResult(n_estimators, None, None,\n",
    "                           train_scores, valid_scores)"
   ]
  },
  {
   "cell_type": "markdown",
   "metadata": {},
   "source": [
    "#### 1) в качестве базовой модели брать не дерево решений, а случайный лес (из sklearn):"
   ]
  },
  {
   "cell_type": "code",
   "execution_count": 13,
   "metadata": {},
   "outputs": [],
   "source": [
    "param_grid = {'loss': ['deviance', 'exponential'],\n",
    "              'learning_rate': np.arange(0.1, 1.1, 1e-1),\n",
    "              'n_estimators': range(20, 51)}\n",
    "param_grid = get_param_grid(param_grid)"
   ]
  },
  {
   "cell_type": "code",
   "execution_count": null,
   "metadata": {},
   "outputs": [
    {
     "data": {
      "application/vnd.jupyter.widget-view+json": {
       "model_id": "7b422085df6443bb89297b48d9a3f016",
       "version_major": 2,
       "version_minor": 0
      },
      "text/plain": [
       "HBox(children=(HTML(value=''), FloatProgress(value=0.0, max=620.0), HTML(value='')))"
      ]
     },
     "metadata": {},
     "output_type": "display_data"
    }
   ],
   "source": [
    "init_model_class = None\n",
    "base_model_class = RandomForestRegressor\n",
    "\n",
    "with Pool(processes=8) as pool, tqdm(total=len(param_grid)) as pbar:\n",
    "    lock = pbar.get_lock()\n",
    "    results = pool.map(cross_val_score, param_grid)\n",
    "pool.join()"
   ]
  },
  {
   "cell_type": "code",
   "execution_count": 182,
   "metadata": {},
   "outputs": [
    {
     "name": "stdout",
     "output_type": "stream",
     "text": [
      "loss - deviance\n",
      "learning_rate - 0.4\n",
      "n_estimators - 48\n",
      "best_score on valid - 0.881782945736434\n"
     ]
    }
   ],
   "source": [
    "idx_max = np.argmax(list(map(lambda x: np.mean(x.valid_scores), results)))\n",
    "best_params_BooBag = results[idx_max]\n",
    "print(f\"loss - {best_params_BooBag.loss}\")\n",
    "print(f\"learning_rate - {best_params_BooBag.learning_rate}\")\n",
    "print(f\"n_estimators - {best_params_BooBag.n_estimators}\")\n",
    "print(f\"best_score on valid - {np.mean(best_params_BooBag.valid_scores)}\")"
   ]
  },
  {
   "cell_type": "code",
   "execution_count": 21,
   "metadata": {},
   "outputs": [],
   "source": [
    "init_model_class = None\n",
    "base_model_class = RandomForestRegressor\n",
    "best_params_BooBag = ParamGridValue(48, 0.4, \"deviance\")\n",
    "scores_BooBag = cross_val_score(best_params_BooBag, wo_lock=True)"
   ]
  },
  {
   "cell_type": "code",
   "execution_count": 32,
   "metadata": {},
   "outputs": [
    {
     "name": "stdout",
     "output_type": "stream",
     "text": [
      "BooBag_score on valid - 0.8889427217915591\n"
     ]
    }
   ],
   "source": [
    "print(f\"BooBag_score on valid - {np.mean(scores_BooBag.valid_scores)}\")"
   ]
  },
  {
   "cell_type": "markdown",
   "metadata": {},
   "source": [
    "#### 2) обучать N бустингов на бустрапированной выборке, а затем предикт усреднять:"
   ]
  },
  {
   "cell_type": "markdown",
   "metadata": {},
   "source": [
    "Поскольку estimator MyGradientBoostingClassifier.__init__() не удовлетворяет требованиям scikit-learn.\n",
    "\n",
    "Так как по данному зададнию имеет сигнатуру __init__()(..., *args, **base_model_params) не удовлетворяющую требованиям.\n",
    "\n",
    "То используем вспомогательный класс MyBaggingClassifier."
   ]
  },
  {
   "cell_type": "code",
   "execution_count": 35,
   "metadata": {},
   "outputs": [],
   "source": [
    "class MyBaggingClassifier(ClassifierMixin):\n",
    "    \n",
    "    def __init__(self, base_model_class, n_base_models, **base_model_params):\n",
    "        \"\"\"\n",
    "        Initialize instance of BaggingClassifier (build base models)\n",
    "        :param base_model_class: class (not instance!) of a model to be used as base model\n",
    "        :param n_base_models: int number of base models to use in bagging\n",
    "        :param **base_model_params: **kwargs of params to pass to base_models .init() method\n",
    "        \"\"\"\n",
    "        self.n_base_models = n_base_models\n",
    "        self.base_models = [self._create_model_(base_model_class, **base_model_params) \n",
    "                            for _ in range(self.n_base_models)]\n",
    "    \n",
    "    def _create_model_(self, base_model_class, **base_model_params):\n",
    "        return base_model_class(n_estimators=base_model_params['base_model_params']['n_estimators'],\n",
    "                                loss=base_model_params['base_model_params']['loss'],\n",
    "                                learning_rate=base_model_params['base_model_params']['learning_rate'],\n",
    "                                max_features=base_model_params['base_model_params']['max_features'],\n",
    "                                subsample=base_model_params['base_model_params']['subsample'],\n",
    "                                base_model_class=base_model_params['base_model_params']['base_model_class'])\n",
    "    \n",
    "    def _create_bagging_subsample_(self, X, y):\n",
    "        \"\"\"\n",
    "        Create subsample of X using bagging sampling\n",
    "        :param X: array-like features (n_obj x n_features)\n",
    "        :param y: array-like targets\n",
    "        :return X_bagging: array-like features of subsample \n",
    "        :return y_bagging: array-like targets of subsample\n",
    "        \"\"\"\n",
    "        subsample = 0.5\n",
    "        n_samples = X.shape[0]\n",
    "        n_inbag = max(1, int(subsample * n_samples))\n",
    "        indices = np.random.choice(n_samples, n_inbag)\n",
    "        X_bagging, y_bagging = X[indices,:], y[indices]\n",
    "        #TODO: your code here\n",
    "        return X_bagging, y_bagging\n",
    "        \n",
    "    def fit(self, X, y):\n",
    "        \"\"\"\n",
    "        Train classifier by calling .train() method of base models\n",
    "        :param X: array-like features (n_obj x n_features)\n",
    "        :param y: array-like targets\n",
    "        \"\"\"\n",
    "        self.classes_, y = np.unique(y, return_inverse=True)\n",
    "        for base_model in self.base_models:\n",
    "            X_bagging, y_bagging = self._create_bagging_subsample_(X, y)\n",
    "            base_model.fit(X_bagging, y_bagging)\n",
    "    \n",
    "    def _raw_prediction_to_proba(self, raw_predictions):\n",
    "        from scipy.special import expit\n",
    "        proba = np.ones((raw_predictions.shape[0], 2), dtype=np.float)\n",
    "        proba[:, 1] = expit(raw_predictions.ravel())\n",
    "        proba[:, 0] -= proba[:, 1]\n",
    "        return proba\n",
    "\n",
    "    def _raw_prediction_to_decision(self, raw_predictions):\n",
    "        proba = self._raw_prediction_to_proba(raw_predictions)\n",
    "        return np.argmax(proba, axis=1)\n",
    "\n",
    "    def predict(self, X):\n",
    "        \"\"\"\n",
    "        Make prediction for X using .predict() method of base models and simple voting\n",
    "        :param X: array-like features (n_obj x n_features)\n",
    "        :return results: array-like target predictions (n_obj)\n",
    "        \"\"\"\n",
    "        # N_objects x N_base_models\n",
    "        base_models_predictions = np.asarray([\n",
    "            base_model.predict(X) for base_model in self.base_models], \n",
    "            dtype=np.int).transpose(1, 0)  \n",
    "        raw_predictions = np.mean(base_models_predictions, axis=1)\n",
    "        encoded_labels = self._raw_prediction_to_decision(raw_predictions)\n",
    "        return self.classes_.take(encoded_labels, axis=0)\n",
    "        #TODO: your code here - handle base model format\n",
    "        return np.asarray(result)\n",
    "    \n",
    "    def predict_proba(self, X):\n",
    "        \"\"\"\n",
    "        Make probability prediction for X using .predict_proba() method of base models and averaging them\n",
    "        :param X: array-like features (n_obj x n_features)\n",
    "        :return results: array-like target probabilities predictions (n_obj x n_classes)\n",
    "        \"\"\"\n",
    "        # N_objects xы N_base_models x N_classes\n",
    "        base_models_predictions = np.asarray([base_model.predict_proba(X) \n",
    "                                              for base_model in self.base_models], dtype=np.float).transpose(1, 0, 2)  \n",
    "        return base_models_predictions.mean(axis=1)"
   ]
  },
  {
   "cell_type": "code",
   "execution_count": 25,
   "metadata": {},
   "outputs": [],
   "source": [
    "base_model_params = {\n",
    "    'n_estimators': 100,\n",
    "    'loss': 'deviance', \n",
    "    'learning_rate': 0.4,\n",
    "    'max_features': 0.5, \n",
    "    'subsample': 0.5,\n",
    "    'base_model_class': DecisionTreeRegressor}"
   ]
  },
  {
   "cell_type": "code",
   "execution_count": 27,
   "metadata": {},
   "outputs": [],
   "source": [
    "param_range = range(1, 51)"
   ]
  },
  {
   "cell_type": "code",
   "execution_count": 28,
   "metadata": {},
   "outputs": [
    {
     "data": {
      "application/vnd.jupyter.widget-view+json": {
       "model_id": "df80b10e2f614df88eebb5b25d8efb8a",
       "version_major": 2,
       "version_minor": 0
      },
      "text/plain": [
       "HBox(children=(HTML(value=''), FloatProgress(value=0.0, max=50.0), HTML(value='')))"
      ]
     },
     "metadata": {},
     "output_type": "display_data"
    },
    {
     "name": "stdout",
     "output_type": "stream",
     "text": [
      "\n"
     ]
    }
   ],
   "source": [
    "with Pool(processes=8) as pool, tqdm(total=len(param_range)) as pbar:\n",
    "    lock = pbar.get_lock()\n",
    "    results_BagBoo = pool.map(closs_val_score_bagging, param_range)\n",
    "pool.join()"
   ]
  },
  {
   "cell_type": "code",
   "execution_count": 30,
   "metadata": {},
   "outputs": [
    {
     "name": "stdout",
     "output_type": "stream",
     "text": [
      "n_estimators - 1\n",
      "best_score on valid - 0.8743001722652886\n"
     ]
    }
   ],
   "source": [
    "idx_max = np.argmax(list(map(lambda x: np.mean(x.valid_scores), results_BagBoo)))\n",
    "best_params_BagBoo = results_BagBoo[idx_max]\n",
    "print(f\"n_estimators - {best_params_BagBoo.n_estimators}\")\n",
    "print(f\"best_score on valid - {np.mean(best_params_BagBoo.valid_scores)}\")"
   ]
  },
  {
   "cell_type": "code",
   "execution_count": 26,
   "metadata": {},
   "outputs": [],
   "source": [
    "scores_BagBoo = closs_val_score_bagging(1, wo_lock=True)"
   ]
  },
  {
   "cell_type": "code",
   "execution_count": 33,
   "metadata": {},
   "outputs": [
    {
     "name": "stdout",
     "output_type": "stream",
     "text": [
      "BagBoo_score on valid - 0.8745693367786392\n"
     ]
    }
   ],
   "source": [
    "print(f\"BagBoo_score on valid - {np.mean(scores_BagBoo.valid_scores)}\")"
   ]
  },
  {
   "cell_type": "markdown",
   "metadata": {},
   "source": [
    "#### Сравнение BooBag (1) и BagBoo (2)"
   ]
  },
  {
   "cell_type": "code",
   "execution_count": 34,
   "metadata": {},
   "outputs": [
    {
     "data": {
      "image/png": "[encoded data removed]",
      "text/plain": [
       "<Figure size 432x288 with 1 Axes>"
      ]
     },
     "metadata": {
      "needs_background": "light"
     },
     "output_type": "display_data"
    }
   ],
   "source": [
    "data = [scores_BooBag.valid_scores, scores_BagBoo.valid_scores]\n",
    "fig, ax = plt.subplots()\n",
    "ax.set_title('accuracy on valid vs. strategy')\n",
    "ax.boxplot(data, labels=['BooBag', 'BagBoo'])\n",
    "plt.grid()\n",
    "plt.xlabel('strategy')\n",
    "plt.ylabel('accuracy')\n",
    "plt.show()"
   ]
  },
  {
   "cell_type": "markdown",
   "metadata": {},
   "source": [
    "#### Ответ:"
   ]
  },
  {
   "cell_type": "markdown",
   "metadata": {},
   "source": [
    "С заданными параметрами BooBag (88.8 %) немного лучше по качеству на валидации, чем BagBoo (87.4 %).\n",
    "\n",
    "Но в целом качество на валидации (88.8 %), полученное при бустинге, не улучшено.\n",
    "\n",
    "При поиске гиперпараметров (n_estimators) на валидации для BagBoo получилось n_estimators = 1, то есть BagBoo с такими параметрами эквивалентен бустингу. Поэтому качество не лучше.\n",
    "\n",
    "В бустинге для базовых моделей (DecisionTreeRegressor) использовались параметры sample_weight, max_features.\n",
    "Поэтому бустинг с такими параметрами базовых моделей в принципе эквивалентен RandomForest.\n",
    "В свою очередь BooBag (бустинг с base_model = RandomForest) - это линейная комбинация RandomForest.\n",
    "То есть модели в принципе одного класса сложности.\n",
    "Поэтому полученное качество на валидации у них сравнимо."
   ]
  },
  {
   "cell_type": "markdown",
   "metadata": {
    "collapsed": true
   },
   "source": [
    "## Умная инициализация (1 балл)\n",
    "\n",
    "Попробуйте брать в качестве инициализации бустинга не константу, а какой-то алгоритм и уже от его предикта стартовать итерации бустинга. Попробуйте разные модели из sklearn: линейные модели, рандом форест, svm..\n",
    "\n",
    "Получилось ли улучшить качество? Почему?\n",
    "\n"
   ]
  },
  {
   "cell_type": "code",
   "execution_count": 94,
   "metadata": {},
   "outputs": [],
   "source": [
    "param_grid = {'loss': [best_params.loss],\n",
    "              'learning_rate': [best_params.learning_rate],\n",
    "              'n_estimators': [best_params.n_estimators]}"
   ]
  },
  {
   "cell_type": "code",
   "execution_count": 95,
   "metadata": {},
   "outputs": [],
   "source": [
    "param_grid = get_param_grid(param_grid)"
   ]
  },
  {
   "cell_type": "code",
   "execution_count": 113,
   "metadata": {},
   "outputs": [],
   "source": [
    "init_model_class = SVC\n",
    "scores_svc = cross_val_score(param_grid[0])"
   ]
  },
  {
   "cell_type": "code",
   "execution_count": 114,
   "metadata": {},
   "outputs": [],
   "source": [
    "init_model_class = LogisticRegression\n",
    "scores_logreg = cross_val_score(param_grid[0])"
   ]
  },
  {
   "cell_type": "code",
   "execution_count": 122,
   "metadata": {},
   "outputs": [],
   "source": [
    "init_model_class = RandomForestClassifier\n",
    "scores_rf = cross_val_score(param_grid[0])"
   ]
  },
  {
   "cell_type": "code",
   "execution_count": 128,
   "metadata": {},
   "outputs": [],
   "source": [
    "init_model_class = None\n",
    "scores_zero = cross_val_score(param_grid[0])"
   ]
  },
  {
   "cell_type": "markdown",
   "metadata": {},
   "source": [
    "#### Ответ:\n"
   ]
  },
  {
   "cell_type": "code",
   "execution_count": 130,
   "metadata": {},
   "outputs": [
    {
     "data": {
      "image/png": "[encoded data removed]",
      "text/plain": [
       "<Figure size 432x288 with 1 Axes>"
      ]
     },
     "metadata": {
      "needs_background": "light"
     },
     "output_type": "display_data"
    }
   ],
   "source": [
    "data = [scores_zero.valid_scores, scores_svc.valid_scores, \n",
    "        scores_rf.valid_scores, scores_logreg.valid_scores]\n",
    "fig, ax = plt.subplots()\n",
    "ax.set_title('accuracy on valid vs. init model')\n",
    "ax.boxplot(data, labels=['Zero', 'SVM', 'RF', 'LogReg'])\n",
    "plt.grid()\n",
    "plt.xlabel('init_model')\n",
    "plt.ylabel('accuracy')\n",
    "plt.show()"
   ]
  },
  {
   "cell_type": "markdown",
   "metadata": {},
   "source": [
    "Качество модели на валидации не улучшилось (с учетом фиксированного для всех вариантов n_estimators).\n",
    "Построенная последовательность моделей (base_model) исправляет ошибки init_model.\n",
    "Поэтому качество особо не зависит от первоначального приближения (init_model) при заданном n_estimators."
   ]
  },
  {
   "cell_type": "markdown",
   "metadata": {},
   "source": [
    "## Фидбек (бесценно)"
   ]
  },
  {
   "cell_type": "markdown",
   "metadata": {},
   "source": [
    "* Какие аспекты обучения  ансамблей Вам показались непонятными? Какое место стоит дополнительно объяснить?"
   ]
  },
  {
   "cell_type": "markdown",
   "metadata": {},
   "source": [
    "### Ваш ответ здесь"
   ]
  },
  {
   "cell_type": "markdown",
   "metadata": {},
   "source": [
    "* Здесь Вы можете оставить отзыв о этой домашней работе или о всем курсе."
   ]
  },
  {
   "cell_type": "markdown",
   "metadata": {},
   "source": [
    "### ВАШ ОТЗЫВ ЗДЕСЬ\n",
    "\n"
   ]
  },
  {
   "cell_type": "code",
   "execution_count": null,
   "metadata": {
    "collapsed": true
   },
   "outputs": [],
   "source": []
  },
  {
   "cell_type": "code",
   "execution_count": null,
   "metadata": {
    "collapsed": true
   },
   "outputs": [],
   "source": []
  }
 ],
 "metadata": {
  "anaconda-cloud": {},
  "kernelspec": {
   "display_name": "Python 3",
   "language": "python",
   "name": "python3"
  },
  "language_info": {
   "codemirror_mode": {
    "name": "ipython",
    "version": 3
   },
   "file_extension": ".py",
   "mimetype": "text/x-python",
   "name": "python",
   "nbconvert_exporter": "python",
   "pygments_lexer": "ipython3",
   "version": "3.8.5"
  }
 },
 "nbformat": 4,
 "nbformat_minor": 2
}
