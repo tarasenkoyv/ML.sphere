{
 "cells": [
  {
   "cell_type": "markdown",
   "metadata": {},
   "source": [
    "# Алгоритмы интеллектуальной обработки больших объемов данных\n",
    "## Домашнее задание №2: Линейные модели\n"
   ]
  },
  {
   "cell_type": "markdown",
   "metadata": {},
   "source": [
    "###### <hr\\>\n",
    "**Общая информация**\n",
    "\n",
    "**Срок сдачи:** 05 апреля 18:00 Сдача **очная** на онлайн занятии. <br\\>\n",
    "\n",
    "\n",
    "Используйте данный Ipython Notebook при оформлении домашнего задания.\n",
    "\n",
    "Присылать ДЗ необходимо в виде ссылки на свой github репозиторий на почту ml1.sphere@mail.ru с указанием темы в следующем формате:\n",
    "\n",
    "[ML0920, Задание 2] Фамилия Имя.\n",
    "\n",
    "\n",
    "\n",
    "**Штрафные баллы:**\n",
    "\n",
    "1. Невыполнение PEP8 -1 балл\n",
    "2. Отсутствие фамилии в имени скрипта (скрипт должен называться по аналогии со stroykova_hw2.ipynb) -1 балл\n",
    "3. Все строчки должны быть выполнены. Нужно, чтобы output команды можно было увидеть уже в git'е. В противном случае -1 балл\n",
    "4. При оформлении ДЗ нужно пользоваться данным файлом в качестве шаблона. Не нужно удалять и видоизменять написанный код и текст, если явно не указана такая возможность. В противном случае -1 балл\n",
    "<hr\\>"
   ]
  },
  {
   "cell_type": "code",
   "execution_count": 7,
   "metadata": {},
   "outputs": [],
   "source": [
    "import pandas as pd\n",
    "import numpy as np\n",
    "import matplotlib.pyplot as plt\n",
    "\n",
    "%matplotlib inline\n",
    "\n",
    "plt.style.use('ggplot')\n",
    "plt.rcParams['figure.figsize'] = (12,5)"
   ]
  },
  {
   "cell_type": "markdown",
   "metadata": {},
   "source": [
    "Здравствуйте, уважаемые студенты! \n",
    "\n",
    "В этом задании мы будем реализовать линейные модели. Необходимо реализовать линейную и логистическую регрессии с L2 регуляризацией"
   ]
  },
  {
   "cell_type": "markdown",
   "metadata": {},
   "source": [
    "# Теоретическое введение\n",
    "\n"
   ]
  },
  {
   "cell_type": "markdown",
   "metadata": {},
   "source": [
    "Линейная регрессия решает задачу регрессии и оптимизирует функцию потерь MSE \n",
    "\n",
    "$$L(w) =  \\frac{1}{N}\\left[\\sum_i (y_i - a_i) ^ 2 \\right], $$ где $y_i$ $-$ целевая функция,  $a_i = a(x_i) =  \\langle\\,x_i,w\\rangle ,$ $-$ предсказание алгоритма на объекте $x_i$, $w$ $-$ вектор весов (размерности $D$), $x_i$ $-$ вектор признаков (такой же размерности $D$).\n",
    "\n",
    "Не забываем, что здесь и далее  мы считаем, что в $x_i$ есть тождественный вектор единиц, ему соответствует вес $w_0$.\n"
   ]
  },
  {
   "cell_type": "markdown",
   "metadata": {},
   "source": [
    "Логистическая регрессия является линейным классификатором, который оптимизирует так называемый функционал log loss:"
   ]
  },
  {
   "cell_type": "markdown",
   "metadata": {},
   "source": [
    "$$L(w) = - \\frac{1}{N}\\left[\\sum_i y_i \\log a_i + ( 1 - y_i) \\log (1 - a_i) \\right],$$\n",
    "где  $y_i  \\in \\{0,1\\}$ $-$ метка класса, $a_i$ $-$ предсказание алгоритма на объекте $x_i$. Модель пытается предсказать апостериорую вероятность объекта принадлежать к классу \"1\":\n",
    "$$ p(y_i = 1 | x_i) = a(x_i) =  \\sigma( \\langle\\,x_i,w\\rangle ),$$\n",
    "$w$ $-$ вектор весов (размерности $D$), $x_i$ $-$ вектор признаков (такой же размерности $D$).\n",
    "\n",
    "Функция $\\sigma(x)$ $-$ нелинейная функция, пероводящее скалярное произведение объекта на веса в число $\\in (0,1)$ (мы же моделируем вероятность все-таки!)\n",
    "\n",
    "$$\\sigma(x) = \\frac{1}{1 + \\exp(-x)}$$\n",
    "\n",
    "Если внимательно посмотреть на функцию потерь, то можно заметить, что в зависимости от правильного ответа алгоритм штрафуется или функцией $-\\log a_i$, или функцией $-\\log (1 - a_i)$.\n",
    "\n"
   ]
  },
  {
   "cell_type": "markdown",
   "metadata": {},
   "source": [
    "Часто для решения проблем, которые так или иначе связаны с проблемой переобучения, в функционал качества добавляют слагаемое, которое называют ***регуляризацией***. Итоговый функционал для линейной регрессии тогда принимает вид:\n",
    "\n",
    "$$L(w) =  \\frac{1}{N}\\left[\\sum_i (y_i - a_i) ^ 2 \\right] + \\frac{1}{C}R(w) $$\n",
    "\n",
    "Для логистической: \n",
    "$$L(w) = - \\frac{1}{N}\\left[\\sum_i y_i \\log a_i + ( 1 - y_i) \\log (1 - a_i) \\right] +  \\frac{1}{C}R(w)$$\n",
    "\n",
    "Самое понятие регуляризации введено основателем ВМК академиком Тихоновым https://ru.wikipedia.org/wiki/Метод_регуляризации_Тихонова\n",
    "\n",
    "Идейно методика регуляризации заключается в следующем $-$ мы рассматриваем некорректно поставленную задачу (что это такое можно найти в интернете), для того чтобы сузить набор различных вариантов (лучшие из которых будут являться переобучением ) мы вводим дополнительные ограничения на множество искомых решений. На лекции Вы уже рассмотрели два варианта регуляризации.\n",
    "\n",
    "$L1$ регуляризация:\n",
    "$$R(w) = \\sum_{j=1}^{D}|w_j|$$\n",
    "$L2$ регуляризация:\n",
    "$$R(w) =  \\sum_{j=1}^{D}w_j^2$$\n",
    "\n",
    "С их помощью мы ограничиваем модель в  возможности выбора каких угодно весов минимизирующих наш лосс, модель уже не сможет подстроиться под данные как ей угодно. \n",
    "\n",
    "Вам нужно добавить соотвествущую Вашему варианту $L2$ регуляризацию.\n",
    "\n",
    "И так, мы поняли, какую функцию ошибки будем минимизировать, разобрались, как получить предсказания по объекту и обученным весам. Осталось разобраться, как получить оптимальные веса. Для этого нужно выбрать какой-то метод оптимизации.\n",
    "\n"
   ]
  },
  {
   "cell_type": "markdown",
   "metadata": {},
   "source": [
    "Градиентный спуск является самым популярным алгоритмом обучения линейных моделей. В этом задании Вам предложат реализовать стохастический градиентный спуск или  мини-батч градиентный спуск (мини-батч на русский язык довольно сложно перевести, многие переводят это как \"пакетный\", но мне не кажется этот перевод удачным). Далее нам потребуется определение **эпохи**.\n",
    "Эпохой в SGD и MB-GD называется один проход по **всем** объектам в обучающей выборки.\n",
    "* В SGD градиент расчитывается по одному случайному объекту. Сам алгоритм выглядит примерно так:\n",
    "        1) Перемешать выборку\n",
    "        2) Посчитать градиент функции потерь на одном объекте (далее один объект тоже будем называть батчем)\n",
    "        3) Сделать шаг спуска\n",
    "        4) Повторять 2) и 3) пока не пройдет максимальное число эпох.\n",
    "* В Mini Batch SGD - по подвыборке объектов. Сам алгоритм выглядит примерно так::\n",
    "        1) Перемешать выборку, выбрать размер мини-батча (от 1 до размера выборки)\n",
    "        2) Почитать градиент функции потерь по мини-батчу (не забыть поделить на  число объектов в мини-батче)\n",
    "        3) Сделать шаг спуска\n",
    "        4) Повторять 2) и 3) пока не пройдет максимальное число эпох.\n",
    "* Для отладки алгоритма реализуйте возможность  вывода средней ошибки на обучении модели по объектам (мини-батчам). После шага градиентного спуска посчитайте значение ошибки на объекте (или мини-батче), а затем усредните, например, по ста шагам. Если обучение проходит корректно, то мы должны увидеть, что каждые 100 шагов функция потерь уменьшается. \n",
    "* Правило останова - максимальное количество эпох\n",
    "    \n"
   ]
  },
  {
   "cell_type": "markdown",
   "metadata": {},
   "source": [
    "# Теоретические вопросы (2 балла)\n",
    "В этой части Вам будут предложены теоретичские вопросы и задачи по теме. Вы, конечно, можете списать их у своего товарища или найти решение в интернете, но учтите, что они обязательно войдут в теоретический коллоквиум. Лучше разобраться в теме сейчас и успешно ответить на коллоквиуме, чем списать, не разобравшись в материале, и быть терзаемым совестью. \n",
    "\n",
    "\n",
    "Формулы надо оформлять в формате **LaTeX**."
   ]
  },
  {
   "cell_type": "markdown",
   "metadata": {},
   "source": [
    "Задача 1. Градиент для линейной регрессии.\n",
    "* Выпишите формулу обновления весов для линейной регрессии с L2 регуляризацией для мини-батч градиентого спуска размера $n$:\n",
    "\n",
    "$$ w_{new} = w_{old} - ... $$\n",
    "\n",
    " Отнеситесь к этому пункту максимально серьезно, это Вам нужно будет реализовать в задании.\n",
    " \n",
    "Проанализруйте итоговую формулу градиента - как  интуитивно можно  описать, чему равен градиент?"
   ]
  },
  {
   "cell_type": "markdown",
   "metadata": {},
   "source": [
    "***Ответ:***"
   ]
  },
  {
   "cell_type": "markdown",
   "metadata": {},
   "source": [
    "$w_{new} = w_{old} - \\alpha\\nabla_{w} Q(w_{old})$"
   ]
  },
  {
   "cell_type": "markdown",
   "metadata": {},
   "source": [
    "$\\nabla_{w}Q(w_{old}) =\\frac{2}{n}X^T(Xw_{old} - y) + \\frac{2}{C}Iw_{old}$"
   ]
  },
  {
   "cell_type": "markdown",
   "metadata": {},
   "source": [
    "$w^{i}_{new} = w^{i}_{old} - \\alpha \\left[\\frac{2}{n}\\sum_j (\\langle\\,x_{j},w_{old}\\rangle - y_j)x^{i}_{j} + \\frac{2}{C}w^{i}_{old}\\right]$\n",
    "\n",
    "\n",
    "$w^{0}_{new} = w^{0}_{old} - \\alpha \\left[\\frac{2}{n}\\sum_j (\\langle\\,x_{j},w_{old}\\rangle - y_j)x^{0}_{j}\\right]$\n",
    "\n",
    "В регуляризационный член при суммировании  $𝑤_{0}$ не входит.\n",
    "Градиент определяет направление наибольшего роста функции ошибки. Разница $\\left(\\langle\\,x_{j},w_{old}\\rangle - y_j\\right)$ - это ошибка нашего предсказания на $j$-ом примере.При изменении $𝑤_{i}$ на 1 согласно знаку градиента - ошибка вырастет на  𝑗 -ом примере приблизительно на $\\left(\\langle\\,x_{j},w_{old}\\rangle - y_{j}\\right)x^{i}_{j}$. В случае изменения $𝑤_{i}$ в направлении антиградиента, функция ошибки будет уменьшаться."
   ]
  },
  {
   "cell_type": "markdown",
   "metadata": {},
   "source": [
    "Задача 2. Градиент для логистической регрессии.\n",
    "* Выпишите формулу обновления весов для логистической регрессии с L2 регуляризацией  для мини-батч градиентого спуска размера $n$:\n",
    "\n",
    "$$ w_{new} = w_{old} - ... $$\n",
    "\n",
    " Отнеситесь к этому пункту максимально серьезно, это Вам нужно будет реализовать в задании.\n",
    " \n",
    "Проанализруйте итоговую формулу градиента - как  интуитивно можно  описать, чему равен градиент? Как соотносится этот градиент с градиентом, возникающий в задаче линейной регрессии?\n",
    "\n",
    "Подсказка: Вам градиент, которой получается если “в лоб” продифференцировать,  надо немного преобразовать.\n",
    "Надо подставить, что $1 - \\sigma(w,x) $ это  $1 - a(x_i)$, а  $-\\sigma(w,x)$ это $0 - a(x_i)$.  Тогда получится свести к одной красивой формуле с линейной регрессией, которую программировать будет намного проще."
   ]
  },
  {
   "cell_type": "markdown",
   "metadata": {},
   "source": [
    "***Ответ:***"
   ]
  },
  {
   "cell_type": "markdown",
   "metadata": {},
   "source": [
    "$w_{new} = w_{old} - \\alpha\\nabla_{w} Q(w_{old})$"
   ]
  },
  {
   "cell_type": "markdown",
   "metadata": {},
   "source": [
    "$\\nabla_{w}Q(w_{old}) = \\frac{1}{n}X^T(\\sigma\\left(\\langle\\,X, w_{old}\\rangle) - y\\right) + \\frac{2}{C}Iw_{old}$"
   ]
  },
  {
   "cell_type": "markdown",
   "metadata": {},
   "source": [
    "$w^{i}_{new} = w^{i}_{old} - \\alpha (\\frac{1}{n}\\sum_{j=1}^n\\left(\\sigma\\left(\\langle\\,x_{j},w_{old}\\rangle\\right)-y_{j}\\right)\\,x^{i}_{j} + \\frac{2}{C}w^{i}_{old})$"
   ]
  },
  {
   "cell_type": "markdown",
   "metadata": {},
   "source": [
    "$w^{0}_{new} = w^{0}_{old} - \\alpha (\\frac{1}{n}\\sum_{j=1}^n\\left(\\sigma\\left(\\langle\\,x_{j},w_{old}\\rangle\\right)-y_{j}\\right)\\,x^{0}_{j})$"
   ]
  },
  {
   "cell_type": "markdown",
   "metadata": {},
   "source": [
    "В регуляризационный член при суммировании  $𝑤_{0}$ не входит.\n",
    "Градиент определяет направление наибольшего роста функции ошибки. Разница $\\left(\\sigma\\left(\\langle\\,x_{j},w_{old}\\rangle\\right)-y_{j}\\right)$ - это ошибка нашего предсказания на $j$-ом примере.При изменении $𝑤_{i}$ на 1 согласно знаку градиента - ошибка вырастет примерно на $\\left(\\sigma\\left(\\langle\\,x,w_{old}\\rangle\\right)-y^{(i)}\\right)\\,x^{i}_{j}$. В случае изменения $𝑤_{i}$ в направлении антиградиента, функция ошибки будет уменьшаться.\n",
    "Градиент для логистической регрессии отличается от градиента линейной регрессии только тем, что скалярное произведение (предсказание в лин. рег.) мы подаем на вход $\\sigma$."
   ]
  },
  {
   "cell_type": "markdown",
   "metadata": {},
   "source": [
    "Задача 3. Точное решение линейной регрессии\n",
    "\n",
    "На лекции было показано, что точное решение линейной регрессии имеет вид $w = (X^TX)^{-1}X^TY $. \n",
    "* Покажите, что это действительно является точкой минимума в случае, если матрица X имеет строк не меньше, чем столбцов и имеет полный ранг. Подсказка: посчитайте Гессиан и покажите, что в этом случае он положительно определен. \n",
    "* Выпишите точное решение для модели с $L2$ регуляризацией. Как L2 регуляризация помогает с точным решением где матрица X имеет линейно зависимые признаки?"
   ]
  },
  {
   "cell_type": "markdown",
   "metadata": {},
   "source": [
    "***Ответ:***"
   ]
  },
  {
   "cell_type": "markdown",
   "metadata": {},
   "source": [
    "***1***\n",
    "\n",
    "Гессиан равен $(2X^TX)$. Рассмотрим систему векторов, состоящую из строк матрицы $X$. По условию матрица $X$ имеет полный ранг, отсюда следует, что рассматриваемые нами векторы линейно независимы. В том числе независимы и подсистемы векторов нашей системы.\n",
    "$(X^TX)$ - очевидно, это матрица Грамма нашей системы векторов. При этом подматрицы $(X^TX)$, соответсвующие главным минорам, также являются матрицами Грамма.\n",
    "Известно, что определитель матрицы Грамма всегда $>=0$. При этом равенство имеет место тогда и только тогда, когда векторы линейно зависимы.\n",
    "То есть в нашем случае все главные миноры $(X^TX)$ строго положительны. Отсюда следует, что $(X^TX)$ положительно определенная матрица. Следовательно, точное решение является точкой минимума."
   ]
  },
  {
   "cell_type": "markdown",
   "metadata": {},
   "source": [
    "***2***\n",
    "\n",
    "$Q(w) = \\frac{1}{N}(Xw-y)^T(Xw-y)+\\frac{1}{C}\\sum w^2_i$\n",
    "\n",
    "$\\nabla_{w} Q = [2X^TXw-2X^Ty]+\\frac{2}{C}Iw = 0$\n",
    "\n",
    "$w = (X^TX + \\frac{1}{C}I)^{-1}X^TY $"
   ]
  },
  {
   "cell_type": "markdown",
   "metadata": {},
   "source": [
    "В случае если $(X^TX)$ вырожденная, то матрица, очевидно, $(X^TX + \\frac{1}{C}I)$ является невырожденной. И тогда точное решение можно вычислить по формуле выше. Таким образом L2 регуляризация позволяет заменить вырожденную матрицу $(X^TX)$ на близкую к ней невырожденную $(X^TX + \\frac{1}{C}I)$ и вычислить точное решение."
   ]
  },
  {
   "cell_type": "markdown",
   "metadata": {},
   "source": [
    "Задача 4.  Предсказываем вероятности.\n",
    "\n",
    "Когда говорят о логистической регрессии, произносят фразу, что она \"предсказывает вероятности положительного класса\". Давайте разберемся, что же за этим стоит. Посчитаем математическое ожидание функции потерь и проверим, что предсказание алгоритма, оптимизирующее это мат. ожидание, будет являться вероятностью положительного класса. \n",
    "\n",
    "И так, функция потерь на объекте $x_i$, который имеет метку $y_i \\in \\{0,1\\}$  для предсказания $a(x_i)$ равна:\n",
    "$$L(y_i, b) =-[y_i == 1] \\log a(x_i)  - [y_i == 0] \\log(1 - a(x_i)) $$\n",
    "\n",
    "Где $[]$ означает индикатор $-$ он равен единице, если значение внутри него истинно, иначе он равен нулю. Тогда мат. ожидание при условии конкретного $x_i$  по определение мат. ожидания дискретной случайной величины:\n",
    "$$E(L | x_i) = -p(y_i = 1 |x_i ) \\log a(x_i)  - p(y_i = 0 | x_i) \\log( 1 - a(x_i))$$\n",
    "* Докажите, что значение $a(x_i)$, минимизирующее данное мат. ожидание, в точности равно $p(y_i = 1 |x_i)$, то есть равно вероятности положительного класса.\n",
    "\n",
    "Подсказка: возможно, придется воспользоваться, что  $p(y_i = 1 | x_i) + p(y_i = 0 | x_i) = 1$"
   ]
  },
  {
   "cell_type": "markdown",
   "metadata": {},
   "source": [
    "***Ответ:***"
   ]
  },
  {
   "cell_type": "markdown",
   "metadata": {},
   "source": [
    "Подставив  $p(y_i = 0 | x_i) = 1 - p(y_i = 1 | x_i)$ и возьмем производную от E по a :\n",
    "\n",
    "$\\frac{1- p(y_i = 1 | x_i)}{1-a} - \\frac{p(y_i = 1 | x_i)}{a}$ \n",
    "\n",
    "Вторая производная:\n",
    "$\\frac{1 - p(y_i = 1 | x_i)}{(1-a)^2} + \\frac{p(y_i = 1 | x_i)}{a^2} > 0$ при $a \\in (0, 1)$, а первая производная обращается в 0 при $a= p(y_i = 1 | x_i)$.\n",
    "Отсюда следует, что значение $a(x_i)$, минимизирующее данное мат. ожидание, в точности равно $p(y_i = 1 |x_i)$."
   ]
  },
  {
   "cell_type": "markdown",
   "metadata": {},
   "source": [
    "Задача 5.  Смысл регуляризации.\n",
    "\n",
    "Нужно ли в L1/L2 регуляризации использовать свободный член $w_0$ (который не умножается ни на какой признак)?\n",
    "\n",
    "Подсказка: подумайте, для чего мы вводим $w_0$"
   ]
  },
  {
   "cell_type": "markdown",
   "metadata": {},
   "source": [
    "***Ответ:***\n",
    "Нет, не нужно. В регуляризационный член при суммировании обычно не включают $w_0$, поскольку он отвечает за общий сдвиг значений функции, который может быть произвольным, а L1/L2 регуляризация стремится минимизировать значения $w_i$."
   ]
  },
  {
   "cell_type": "markdown",
   "metadata": {},
   "source": [
    "#  Реализация линейной модели (4 балла)"
   ]
  },
  {
   "cell_type": "markdown",
   "metadata": {},
   "source": [
    "## Зачем нужны батчи?\n"
   ]
  },
  {
   "cell_type": "markdown",
   "metadata": {},
   "source": [
    "Как Вы могли заметить из теоретического введения, что в случае SGD, что в случа mini-batch GD,  на каждой итерации обновление весов  происходит только по небольшой части данных (1 пример в случае SGD, batch примеров в случае mini-batch). То есть для каждой итерации нам *** не нужна вся выборка***. Мы можем просто итерироваться по выборке, беря батч нужного размера (далее 1 объект тоже будем называть батчом).\n",
    "\n",
    "Легко заметить, что в этом случае нам не нужно загружать все данные в оперативную память, достаточно просто считать батч с диска, обновить веса, считать диска другой батч и так далее. В целях упрощения домашней работы, прямо с диска  мы считывать не будем, будем работать с обычными numpy array. \n",
    "\n",
    "\n",
    "\n"
   ]
  },
  {
   "cell_type": "markdown",
   "metadata": {},
   "source": [
    "## Немножко про генераторы в Python\n",
    "\n"
   ]
  },
  {
   "cell_type": "markdown",
   "metadata": {},
   "source": [
    "Идея считывания данных кусками удачно ложится на так называемые ***генераторы*** из языка Python. В данной работе Вам предлагается не только разобраться с логистической регрессией, но  и познакомиться с таким важным элементом языка.  При желании Вы можете убрать весь код, связанный с генераторами, и реализовать логистическую регрессию и без них, ***штрафоваться это никак не будет***. Главное, чтобы сама модель была реализована правильно, и все пункты были выполнены. \n",
    "\n",
    "Подробнее можно почитать вот тут https://anandology.com/python-practice-book/iterators.html\n"
   ]
  },
  {
   "cell_type": "markdown",
   "metadata": {},
   "source": [
    "К генератору стоит относиться просто как к функции, которая порождает не один объект, а целую последовательность объектов. Новое значение из последовательности генерируется с помощью ключевого слова ***yield***. Ниже Вы можете насладиться  генератором чисел Фибоначчи."
   ]
  },
  {
   "cell_type": "code",
   "execution_count": 122,
   "metadata": {
    "collapsed": true
   },
   "outputs": [],
   "source": [
    "def fib(max_iter=4):\n",
    "    a, b = 0, 1\n",
    "    iter_num = 0\n",
    "    while 1:\n",
    "        yield a\n",
    "        a, b = b, a + b\n",
    "        iter_num += 1\n",
    "        if iter_num == max_iter:\n",
    "            break"
   ]
  },
  {
   "cell_type": "markdown",
   "metadata": {},
   "source": [
    "Вот так можно сгенерировать последовательность Фибоначчи. \n",
    "\n",
    "Заметьте, что к генераторам можно применять некоторые стандартные функции из Python, например enumerate."
   ]
  },
  {
   "cell_type": "code",
   "execution_count": 123,
   "metadata": {},
   "outputs": [
    {
     "name": "stdout",
     "output_type": "stream",
     "text": [
      "Fib num: 0 fib values: 0\n",
      "Fib num: 1 fib values: 1\n",
      "Fib num: 2 fib values: 1\n",
      "Fib num: 3 fib values: 2\n"
     ]
    }
   ],
   "source": [
    "new_generator = fib()\n",
    "for j, fib_val in enumerate(new_generator):\n",
    "    print (\"Fib num: \" + str(j) + \" fib values: \" + str(fib_val))"
   ]
  },
  {
   "cell_type": "markdown",
   "metadata": {},
   "source": [
    "Пересоздавая объект, можно сколько угодно раз генерировать заново последовательность. "
   ]
  },
  {
   "cell_type": "code",
   "execution_count": 127,
   "metadata": {},
   "outputs": [
    {
     "name": "stdout",
     "output_type": "stream",
     "text": [
      "Fib num: 0 fib values: 0\n",
      "Fib num: 1 fib values: 1\n",
      "Fib num: 2 fib values: 1\n",
      "Fib num: 3 fib values: 2\n",
      "Fib num: 0 fib values: 0\n",
      "Fib num: 1 fib values: 1\n",
      "Fib num: 2 fib values: 1\n",
      "Fib num: 3 fib values: 2\n",
      "Fib num: 0 fib values: 0\n",
      "Fib num: 1 fib values: 1\n",
      "Fib num: 2 fib values: 1\n",
      "Fib num: 3 fib values: 2\n"
     ]
    }
   ],
   "source": [
    "for i in range(0, 3):\n",
    "    new_generator = fib()\n",
    "    for j, fib_val in enumerate(new_generator):\n",
    "        print (\"Fib num: \" + str(j) + \" fib values: \" + str(fib_val))"
   ]
  },
  {
   "cell_type": "markdown",
   "metadata": {},
   "source": [
    "А вот так уже нельзя."
   ]
  },
  {
   "cell_type": "code",
   "execution_count": 128,
   "metadata": {},
   "outputs": [
    {
     "name": "stdout",
     "output_type": "stream",
     "text": [
      "Fib num: 0 fib values: 0\n",
      "Fib num: 1 fib values: 1\n",
      "Fib num: 2 fib values: 1\n",
      "Fib num: 3 fib values: 2\n"
     ]
    }
   ],
   "source": [
    "new_generator = fib()\n",
    "for i in range(0, 3):\n",
    "    for j, fib_val in enumerate(new_generator):\n",
    "        print (\"Fib num: \" + str(j) + \" fib values: \" + str(fib_val))"
   ]
  },
  {
   "cell_type": "markdown",
   "metadata": {},
   "source": [
    "Концепция крайне удобная для обучения  моделей $-$ у Вас есть некий источник данных, который Вам выдает их кусками, и Вам совершенно все равно откуда он их берет. Под ним может скрывать как массив в оперативной памяти, как файл на жестком диске, так и SQL база данных. Вы сами данные никуда не сохраняете, оперативную память экономите."
   ]
  },
  {
   "cell_type": "markdown",
   "metadata": {},
   "source": [
    "Если Вам понравилась идея с генераторами, то Вы можете реализовать свой, используя прототип batch_generator. В нем Вам нужно выдавать батчи признаков и ответов для каждой новой итерации спуска. Если не понравилась идея, то можете реализовывать SGD или mini-batch GD без генераторов."
   ]
  },
  {
   "cell_type": "code",
   "execution_count": 8,
   "metadata": {},
   "outputs": [],
   "source": [
    "def batch_generator(X, y, shuffle=True, batch_size=1):\n",
    "    \"\"\"\n",
    "    Гератор новых батчей для обучения\n",
    "    X          - матрица объекты-признаки\n",
    "    y_batch    - вектор ответов\n",
    "    shuffle    - нужно ли случайно перемешивать выборку\n",
    "    batch_size - размер батча ( 1 это SGD, > 1 mini-batch GD)\n",
    "    Генерирует подвыборку для итерации спуска (X_batch, y_batch)\n",
    "    \"\"\"\n",
    "    indices = np.arange(X.shape[0])\n",
    "    if(shuffle):\n",
    "        np.random.shuffle(indices)\n",
    "    y = y.reshape(-1, 1)\n",
    "    X = np.hstack((np.ones(X.shape[0])[:, np.newaxis], X))\n",
    "    train_size = X.shape[0]\n",
    "    num_iters = train_size // batch_size\n",
    "    if(num_iters > 0):\n",
    "        for i in range(num_iters):\n",
    "            start = i * batch_size\n",
    "            cnt_items = batch_size\n",
    "            if(i == num_iters - 1):\n",
    "                cnt_items = train_size - i * batch_size\n",
    "            X_batch = X[indices[start:start + cnt_items]]\n",
    "            y_batch = y[indices[start:start + cnt_items]]\n",
    "            yield (X_batch, y_batch)\n",
    "    else:\n",
    "        yield (X[indices], y[indices])\n",
    "        \n",
    "# Теперь можно сделать генератор по данным ()\n",
    "#  my_batch_generator = batch_generator(X, y, shuffle=True, batch_size=1):"
   ]
  },
  {
   "cell_type": "code",
   "execution_count": 360,
   "metadata": {},
   "outputs": [],
   "source": [
    "#!pip install pycodestyle\n",
    "#!pip install pycodestyle_magic\n",
    "#%load_ext pycodestyle_magic"
   ]
  },
  {
   "cell_type": "code",
   "execution_count": 345,
   "metadata": {},
   "outputs": [],
   "source": [
    "from scipy.special import expit\n",
    "from sklearn.base import BaseEstimator, ClassifierMixin"
   ]
  },
  {
   "cell_type": "code",
   "execution_count": 454,
   "metadata": {},
   "outputs": [],
   "source": [
    "#%%pycodestyle  \n",
    "def sigmoid(x):\n",
    "    \"\"\"\n",
    "    Вычисляем значение сигмоида.\n",
    "    X - выход линейной модели\n",
    "    \"\"\"\n",
    "    result = expit(x)\n",
    "    result[result > 0.9999] = 0.9999\n",
    "    result[result < 0.0001] = 0.0001\n",
    "    return result\n",
    "\n",
    "\n",
    "class MySGDClassifier(BaseEstimator, ClassifierMixin):\n",
    "    def __init__(self, batch_generator, C=1, alpha=0.01, max_epoch=10, model_type='lin_reg'):\n",
    "        \"\"\"\n",
    "        batch_generator -- функция генератор, которой будем создавать батчи\n",
    "        C - коэф. регуляризации\n",
    "        alpha - скорость спуска\n",
    "        max_epoch - максимальное количество эпох\n",
    "        model_type - тим модели, lin_reg или log_reg\n",
    "        \"\"\"\n",
    "        self.C = C\n",
    "        self.alpha = alpha\n",
    "        self.max_epoch = max_epoch\n",
    "        self.batch_generator = batch_generator\n",
    "        self.errors_log = {'iter': [], 'loss': []}\n",
    "        self.model_type = model_type\n",
    "\n",
    "    def calc_loss(self, X_batch, y_batch):\n",
    "        \"\"\"\n",
    "        Считаем функцию потерь по батчу\n",
    "        X_batch - матрица объекты-признаки по батчу\n",
    "        y_batch - вектор ответов по батчу\n",
    "        Не забудте тип модели (линейная или логистическая регрессия)!\n",
    "        \"\"\"\n",
    "        if self.model_type == 'lin_reg':\n",
    "            diff = (np.dot(X_batch, self.weights) - y_batch)\n",
    "            diff[diff > 35] = 35\n",
    "            diff[diff < -35] = -35\n",
    "            loss = np.mean(np.sum(diff ** 2)) / 2\n",
    "            w_1 = self.weights[1:]\n",
    "#             w_1[w_1 > 10] = 10\n",
    "#             w_1[w_1 < -10] = -10\n",
    "            r_w = w_1 ** 2\n",
    "#             r_w[r_w > 10] = 35\n",
    "#             r_w[r_w < -10] = -35\n",
    "            r = self.C * np.sum(r_w) / 2\n",
    "            loss = loss + r\n",
    "        else:\n",
    "            preds = sigmoid(X_batch.dot(self.weights))\n",
    "            loss = self.binary_cross_entropy(y_batch, preds, False)\n",
    "            r = self.C * np.sum(np.power(self.weights[1:], 2)) / 2\n",
    "            loss = loss + r\n",
    "        return loss\n",
    "\n",
    "    def binary_cross_entropy(self, target, pred, limit=False):\n",
    "        results = (-1)*(np.dot(target.T, np.log(pred)) + np.dot((1 - target).T, np.log(1 - pred)))\n",
    "        results = results * (1 / target.shape[0])\n",
    "        results = results.ravel()\n",
    "        if(limit):\n",
    "            results[results > 35] = 35\n",
    "        return np.sum(results)\n",
    "\n",
    "    def calc_loss_grad(self, X_batch, y_batch):\n",
    "        \"\"\"\n",
    "        Считаем  градиент функции потерь по батчу (то что Вы вывели в задании 1)\n",
    "        X_batch - матрица объекты-признаки по батчу\n",
    "        y_batch - вектор ответов по батчу\n",
    "        Не забудте тип модели (линейная или логистическая регрессия)!\n",
    "        \"\"\"\n",
    "        if self.model_type == 'lin_reg':\n",
    "            preds = X_batch.dot(self.weights)\n",
    "            diff = preds - y_batch\n",
    "            s = (X_batch.T).dot(diff) * (1 / X_batch.shape[0])\n",
    "            r = self.C * np.vstack((np.array([[0]]), self.weights[1:]))\n",
    "            loss_grad = s + r\n",
    "        else:\n",
    "            preds = sigmoid(X_batch.dot(self.weights))\n",
    "            diff = preds - y_batch\n",
    "            s = (X_batch.T).dot(diff) * (1 / X_batch.shape[0])\n",
    "            r = self.C * np.vstack((np.array([[0]]), self.weights[1:]))\n",
    "            loss_grad = s + r\n",
    "        return loss_grad\n",
    "\n",
    "    def update_weights(self, new_grad):\n",
    "        \"\"\"\n",
    "        Обновляем вектор весов\n",
    "        new_grad - градиент по батчу\n",
    "        \"\"\"\n",
    "        self.weights -= self.alpha * new_grad\n",
    "\n",
    "    def fit(self, X, y):\n",
    "        '''\n",
    "        Обучение модели\n",
    "        X - матрица объекты-признаки\n",
    "        y - вектор ответов\n",
    "        '''\n",
    "        # Нужно инициализровать случайно веса\n",
    "        self.weights = np.random.uniform(-1e-03, +1e-03, (X.shape[1] + 1, 1))\n",
    "        for n in range(0, self.max_epoch):\n",
    "            new_epoch_generator = self.batch_generator()\n",
    "            for batch_num, new_batch in enumerate(new_epoch_generator):\n",
    "                X_batch = new_batch[0]\n",
    "                y_batch = new_batch[1]\n",
    "                batch_grad = self.calc_loss_grad(X_batch, y_batch)\n",
    "                self.update_weights(batch_grad)\n",
    "                # Подумайте в каком месте стоит посчитать ошибку для отладки модели\n",
    "                # До градиентного шага или после\n",
    "                batch_loss = self.calc_loss(X_batch, y_batch)\n",
    "                self.errors_log['iter'].append(batch_num)\n",
    "                self.errors_log['loss'].append(batch_loss)\n",
    "        return self\n",
    "\n",
    "    def predict(self, X, th=0.5):\n",
    "        '''\n",
    "        Предсказание класса\n",
    "        X - матрица объекты-признаки\n",
    "        Не забудте тип модели (линейная или логистическая регрессия)!\n",
    "        '''\n",
    "        if self.model_type == 'lin_reg':\n",
    "            logit = X.dot(self.weights)\n",
    "            y_hat = np.where(logit < th, 0, 1)\n",
    "        else:\n",
    "            logit = X.dot(self.weights)\n",
    "            output = sigmoid(logit)\n",
    "            y_hat = np.where(output < th, 0, 1)\n",
    "        return y_hat.astype(int)"
   ]
  },
  {
   "cell_type": "markdown",
   "metadata": {},
   "source": [
    "Запустите обе регрессии на синтетических данных. \n",
    "\n",
    "\n",
    "Выведите полученные веса и нарисуйте разделяющую границу между классами (используйте только первых два веса для первых двух признаков X[:,0], X[:,1] для отображения в 2d пространство ).  "
   ]
  },
  {
   "cell_type": "code",
   "execution_count": 361,
   "metadata": {},
   "outputs": [],
   "source": [
    "def plot_decision_boundary(clf):\n",
    "    w = clf.weights.ravel()\n",
    "    th = 0\n",
    "    if clf.model_type =='lin_reg':\n",
    "        th = 0.5\n",
    "    x_values = np.linspace(-4., 8.)\n",
    "    y_values = -(w[0] + (w[1] * x_values) - th) / w[2]\n",
    "    return (x_values, y_values)"
   ]
  },
  {
   "cell_type": "code",
   "execution_count": 362,
   "metadata": {},
   "outputs": [],
   "source": [
    "import functools\n",
    "\n",
    "np.random.seed(0)\n",
    "\n",
    "C1 = np.array([[0., -0.8], [1.5, 0.8]])\n",
    "C2 = np.array([[1., -0.7], [2., 0.7]])\n",
    "gauss1 = np.dot(np.random.randn(200, 2) + np.array([5, 3]), C1)\n",
    "gauss2 = np.dot(np.random.randn(200, 2) + np.array([1.5, 0]), C2)\n",
    "\n",
    "X = np.vstack([gauss1, gauss2])\n",
    "y = np.r_[np.ones(200), np.zeros(200)]\n",
    "\n",
    "batch_generator_func = functools.partial(batch_generator, X, y, shuffle=True, batch_size=1000)\n",
    "\n",
    "clf_lin_reg = MySGDClassifier(batch_generator=batch_generator_func, C=1, alpha=0.01, max_epoch=1000, model_type='lin_reg')\n",
    "clf_lin_reg.fit(X, y)\n",
    "(x_values_lin_reg, y_values_lin_reg) = plot_decision_boundary(clf_lin_reg)\n",
    "\n",
    "clf_log_reg = MySGDClassifier(batch_generator=batch_generator_func, C=0.01, alpha=0.1, max_epoch=1000, model_type='log_reg')\n",
    "clf_log_reg.fit(X, y)\n",
    "(x_values_log_reg, y_values_log_reg) = plot_decision_boundary(clf_log_reg)"
   ]
  },
  {
   "cell_type": "code",
   "execution_count": 363,
   "metadata": {},
   "outputs": [
    {
     "data": {
      "text/plain": [
       "<matplotlib.collections.PathCollection at 0x1f307370a00>"
      ]
     },
     "execution_count": 363,
     "metadata": {},
     "output_type": "execute_result"
    },
    {
     "data": {
      "image/png": "[encoded data removed]",
      "text/plain": [
       "<Figure size 1008x360 with 2 Axes>"
      ]
     },
     "metadata": {},
     "output_type": "display_data"
    }
   ],
   "source": [
    "fig = plt.figure(figsize= (14,5))\n",
    "ax1 = fig.add_subplot(121)\n",
    "ax1.set_title(\"lin_reg\")\n",
    "plt.plot(x_values_lin_reg, y_values_lin_reg)\n",
    "plt.scatter(X[:,0], X[:,1], c=y)\n",
    "\n",
    "ax2 = fig.add_subplot(122)\n",
    "ax2.set_title(\"log_reg\")\n",
    "plt.plot(x_values_log_reg, y_values_log_reg)\n",
    "plt.scatter(X[:,0], X[:,1], c=y)"
   ]
  },
  {
   "cell_type": "markdown",
   "metadata": {},
   "source": [
    "Далее будем анализировать Ваш алгоритм. \n",
    "Для этих заданий используйте датасет ниже."
   ]
  },
  {
   "cell_type": "code",
   "execution_count": 364,
   "metadata": {},
   "outputs": [],
   "source": [
    "from sklearn.datasets import make_classification"
   ]
  },
  {
   "cell_type": "code",
   "execution_count": 365,
   "metadata": {},
   "outputs": [],
   "source": [
    "X, y = make_classification(n_samples=100000, n_features=10, \n",
    "                           n_informative=4, n_redundant=0, \n",
    "                           random_state=123, class_sep=1.0,\n",
    "                           n_clusters_per_class=1)"
   ]
  },
  {
   "cell_type": "markdown",
   "metadata": {},
   "source": [
    "Покажите сходимости обеих регрессией на этом датасете: изобразите график  функции потерь, усредненной по $N$ шагам градиентого спуска, для разных `alpha` (размеров шага). Разные `alpha` расположите на одном графике. \n",
    "\n",
    "$N$ можно брать 10, 50, 100 и т.д. "
   ]
  },
  {
   "cell_type": "code",
   "execution_count": 367,
   "metadata": {},
   "outputs": [],
   "source": [
    "def plot_mean_loss(clf, N=50):\n",
    "    mean_loss = []\n",
    "    mean_x = []\n",
    "    errors_log = np.array(clf.errors_log['loss'])\n",
    "    steps = len(clf.errors_log['loss']) // N\n",
    "\n",
    "    for i in range(steps):\n",
    "        start = i * N\n",
    "        end = start + N\n",
    "        mean_loss.append(np.mean(errors_log[start:end]))\n",
    "        mean_x.append(i)\n",
    "\n",
    "    return (mean_x, mean_loss)"
   ]
  },
  {
   "cell_type": "code",
   "execution_count": 381,
   "metadata": {},
   "outputs": [
    {
     "data": {
      "text/plain": [
       "<matplotlib.legend.Legend at 0x1f30fd61f10>"
      ]
     },
     "execution_count": 381,
     "metadata": {},
     "output_type": "execute_result"
    },
    {
     "data": {
      "image/png": "[encoded data removed]",
      "text/plain": [
       "<Figure size 1008x1008 with 4 Axes>"
      ]
     },
     "metadata": {},
     "output_type": "display_data"
    }
   ],
   "source": [
    "batch_generator_func = functools.partial(batch_generator, X, y, shuffle=True, batch_size=1000)\n",
    "\n",
    "N = 50\n",
    "    \n",
    "fig = plt.figure(figsize= (14, 14))\n",
    "ax1 = fig.add_subplot(221)\n",
    "ax1.set_title(\"lin_reg\")\n",
    "\n",
    "for alpha in [1e-03, 1e-02, 1e-01, 0.3]:\n",
    "    model_type='lin_reg'\n",
    "    clf = MySGDClassifier(batch_generator=batch_generator_func, C=1, max_epoch=10, alpha=alpha,model_type=model_type)\n",
    "    clf.fit(X,y)\n",
    "    (mean_x, mean_errors) = plot_mean_loss(clf, N)\n",
    "    ax1.plot(mean_x, mean_errors, label='alpha {}'.format(alpha))\n",
    "ax1.legend()\n",
    "\n",
    "ax3 = fig.add_subplot(223)\n",
    "for alpha in [1e-01, 0.3]:\n",
    "    model_type='lin_reg'\n",
    "    clf = MySGDClassifier(batch_generator=batch_generator_func, C=1, max_epoch=10, alpha=alpha,model_type=model_type)\n",
    "    clf.fit(X,y)\n",
    "    (mean_x, mean_errors) = plot_mean_loss(clf, N)\n",
    "    ax3.plot(mean_x, mean_errors, label='alpha {}'.format(alpha))\n",
    "ax3.legend()\n",
    "\n",
    "ax2 = fig.add_subplot(222)\n",
    "ax2.set_title(\"log_reg\")\n",
    "for alpha in [1e-04, 1e-03, 1e-02, 1e-01, 1]:\n",
    "    model_type='log_reg'\n",
    "    clf = MySGDClassifier(batch_generator=batch_generator_func, C=0.1, max_epoch=10, alpha=alpha,model_type=model_type)\n",
    "    clf.fit(X,y)\n",
    "    (mean_x, mean_errors) = plot_mean_loss(clf, N)\n",
    "    ax2.plot(mean_x, mean_errors, label='alpha {}'.format(alpha))\n",
    "ax2.legend()\n",
    "\n",
    "N = 100\n",
    "ax4 = fig.add_subplot(224)\n",
    "for alpha in [1e-01, 1]:\n",
    "    model_type='log_reg'\n",
    "    clf = MySGDClassifier(batch_generator=batch_generator_func, C=1, max_epoch=50, alpha=alpha,model_type=model_type)\n",
    "    clf.fit(X,y)\n",
    "    (mean_x, mean_errors) = plot_mean_loss(clf, N)\n",
    "    ax4.plot(mean_x, mean_errors, label='alpha {}'.format(alpha))\n",
    "ax4.legend()"
   ]
  },
  {
   "cell_type": "markdown",
   "metadata": {},
   "source": [
    "Что Вы можете сказать про сходимость метода при различных `alpha`? Какое значение стоит выбирать для лучшей сходимости?"
   ]
  },
  {
   "cell_type": "markdown",
   "metadata": {},
   "source": [
    "## Ответ:\n",
    "при batch_size=1000:\n",
    "для lin_reg метод быстрее сходится при alpha = 1e-01. Для log_reg при alpha = 1e-01."
   ]
  },
  {
   "cell_type": "markdown",
   "metadata": {},
   "source": [
    "Изобразите график среднего значения весов для обеих регрессий в зависимости от коеф. регуляризации С из `np.logspace(3, -3, 10)` "
   ]
  },
  {
   "cell_type": "code",
   "execution_count": 382,
   "metadata": {},
   "outputs": [],
   "source": [
    "## Your Code Here\n",
    "X, y = make_classification(n_samples=100000, n_features=10, \n",
    "                           n_informative=4, n_redundant=0, \n",
    "                           random_state=123, class_sep=1.0,\n",
    "                           n_clusters_per_class=1)\n",
    "\n",
    "batch_generator_func = functools.partial(batch_generator, X, y, shuffle=True, batch_size=1000)\n",
    "lin_reg_weights = []\n",
    "log_reg_weights = []\n",
    "log_reg_weights_0 = []\n",
    "lin_reg_weights_0 = []\n",
    "x_values  = np.logspace(3,-3,10)\n",
    "for C in x_values:\n",
    "    clf = MySGDClassifier(batch_generator=batch_generator_func, C=C, max_epoch=10, alpha=0.001,model_type='lin_reg')\n",
    "    clf.fit(X, y) \n",
    "    lin_reg_weights.append(np.abs(clf.weights).mean())\n",
    "    lin_reg_weights_0.append(clf.weights[0])\n",
    "    \n",
    "    clf =MySGDClassifier(batch_generator=batch_generator_func, C=C, max_epoch=10, alpha=0.001,model_type='log_reg')\n",
    "    clf.fit(X, y) \n",
    "    log_reg_weights.append(np.abs(clf.weights).mean())\n",
    "    log_reg_weights_0.append(clf.weights[0])"
   ]
  },
  {
   "cell_type": "code",
   "execution_count": 383,
   "metadata": {
    "scrolled": false
   },
   "outputs": [
    {
     "data": {
      "text/plain": [
       "<matplotlib.legend.Legend at 0x1f30fe8ccd0>"
      ]
     },
     "execution_count": 383,
     "metadata": {},
     "output_type": "execute_result"
    },
    {
     "data": {
      "image/png": "[encoded data removed]",
      "text/plain": [
       "<Figure size 1008x360 with 2 Axes>"
      ]
     },
     "metadata": {},
     "output_type": "display_data"
    }
   ],
   "source": [
    "fig = plt.figure(figsize= (14,5))\n",
    "ax1 = fig.add_subplot(121)\n",
    "ax1.set_title(\"weights_1..\")\n",
    "plt.plot(x_values, lin_reg_weights, label='lin_reg')\n",
    "plt.plot(x_values, log_reg_weights, label='log_reg')\n",
    "plt.legend()\n",
    "\n",
    "ax2 = fig.add_subplot(122)\n",
    "ax2.set_title(\"weights_0\")\n",
    "plt.plot(x_values, lin_reg_weights_0, label='lin_reg')\n",
    "plt.plot(x_values, log_reg_weights_0, label='log_reg')\n",
    "plt.legend()"
   ]
  },
  {
   "cell_type": "markdown",
   "metadata": {},
   "source": [
    "Довольны ли Вы, насколько сильно уменьшились Ваши веса? "
   ]
  },
  {
   "cell_type": "markdown",
   "metadata": {},
   "source": [
    "## Ответ:\n",
    "видно, что при увеличении С веса уменьшаются, кроме смещения $w_0$.\n",
    "В теоритической части (выше) умножение 1/C, мне привычнее С * R(w)."
   ]
  },
  {
   "cell_type": "markdown",
   "metadata": {},
   "source": [
    "# Боевое применение (4  балла)\n",
    "\n",
    "**Защита данной части возможна только при преодолении в проекте бейзлайна Handmade baseline.**"
   ]
  },
  {
   "cell_type": "markdown",
   "metadata": {},
   "source": [
    "Давайте применим модель на итоговом проекте! Датасет сделаем точно таким же образом, как было показано в project_overview.ipynb\n",
    "\n",
    "Применим обе регрессии, подберем для них параметры и сравним качество. Может быть Вы еще одновременно с решением домашней работы подрастете на лидерборде!"
   ]
  },
  {
   "cell_type": "code",
   "execution_count": 414,
   "metadata": {},
   "outputs": [
    {
     "name": "stdout",
     "output_type": "stream",
     "text": [
      "28026\n"
     ]
    }
   ],
   "source": [
    "doc_to_title = {}\n",
    "with open('docs_titles.tsv', encoding='UTF-8') as f:\n",
    "    for num_line, line in enumerate(f):\n",
    "        if num_line == 0:\n",
    "            continue\n",
    "        data = line.strip().split('\\t', 1)\n",
    "        doc_id = int(data[0])\n",
    "        if len(data) == 1:\n",
    "            title = ''\n",
    "        else:\n",
    "            title = data[1]\n",
    "        doc_to_title[doc_id] = title\n",
    "print (len(doc_to_title))"
   ]
  },
  {
   "cell_type": "code",
   "execution_count": 139,
   "metadata": {},
   "outputs": [],
   "source": [
    "import pandas as pd\n",
    "train_data = pd.read_csv('train_groups.csv')\n",
    "traingroups_titledata = {}\n",
    "for i in range(len(train_data)):\n",
    "    new_doc = train_data.iloc[i]\n",
    "    doc_group = new_doc['group_id']\n",
    "    doc_id = new_doc['doc_id']\n",
    "    target = new_doc['target']\n",
    "    title = doc_to_title[doc_id]\n",
    "    if doc_group not in traingroups_titledata:\n",
    "        traingroups_titledata[doc_group] = []\n",
    "    traingroups_titledata[doc_group].append((doc_id, title, target))"
   ]
  },
  {
   "cell_type": "code",
   "execution_count": 386,
   "metadata": {},
   "outputs": [
    {
     "name": "stdout",
     "output_type": "stream",
     "text": [
      "(11690, 15) (11690,) (11690,)\n"
     ]
    }
   ],
   "source": [
    "import numpy as np\n",
    "y_train = []\n",
    "X_train = []\n",
    "groups_train = []\n",
    "for new_group in traingroups_titledata:\n",
    "    docs = traingroups_titledata[new_group]\n",
    "    for k, (doc_id, title, target_id) in enumerate(docs):\n",
    "        y_train.append(target_id)\n",
    "        groups_train.append(new_group)\n",
    "        all_dist = []\n",
    "        words = set(title.strip().split())\n",
    "        for j in range(0, len(docs)):\n",
    "            if k == j:\n",
    "                continue\n",
    "            doc_id_j, title_j, target_j = docs[j]\n",
    "            words_j = set(title_j.strip().split())\n",
    "            all_dist.append(len(words.intersection(words_j)))\n",
    "        X_train.append(sorted(all_dist, reverse=True)[0:15]    )\n",
    "X_train = np.array(X_train)\n",
    "y_train = np.array(y_train)\n",
    "groups_train = np.array(groups_train)\n",
    "print (X_train.shape, y_train.shape, groups_train.shape)"
   ]
  },
  {
   "cell_type": "markdown",
   "metadata": {},
   "source": [
    "Подберите размер батча для обучения. Линейная модель не должна учиться дольше нескольких минут. \n",
    "\n",
    "Не забывайте использовать скейлер!"
   ]
  },
  {
   "cell_type": "code",
   "execution_count": 387,
   "metadata": {},
   "outputs": [],
   "source": [
    "from sklearn.metrics import f1_score\n",
    "from sklearn.linear_model import LinearRegression\n",
    "from sklearn.preprocessing import StandardScaler"
   ]
  },
  {
   "cell_type": "code",
   "execution_count": 388,
   "metadata": {},
   "outputs": [],
   "source": [
    "from sklearn.preprocessing import StandardScaler\n",
    "sc = StandardScaler()\n",
    "X_train = sc.fit_transform(X_train)"
   ]
  },
  {
   "cell_type": "code",
   "execution_count": 173,
   "metadata": {},
   "outputs": [
    {
     "data": {
      "text/plain": [
       "(11690, 15)"
      ]
     },
     "execution_count": 173,
     "metadata": {},
     "output_type": "execute_result"
    }
   ],
   "source": [
    "X_train.shape"
   ]
  },
  {
   "cell_type": "code",
   "execution_count": 411,
   "metadata": {},
   "outputs": [
    {
     "data": {
      "text/plain": [
       "0.7852010265183917"
      ]
     },
     "execution_count": 411,
     "metadata": {},
     "output_type": "execute_result"
    }
   ],
   "source": [
    "from sklearn.metrics import accuracy_score\n",
    "\n",
    "batch_generator_func = functools.partial(batch_generator, X_train, y_train, shuffle=True, batch_size=1000)\n",
    "clf = MySGDClassifier(batch_generator=batch_generator_func,  C=0.01, alpha=0.1, max_epoch=1000, model_type='log_reg')\n",
    "clf.fit(X_train, y_train)\n",
    "\n",
    "preds = clf.predict(np.hstack((np.ones(X_train.shape[0])[:, np.newaxis], X_train)))\n",
    "accuracy_score(y_train, preds)"
   ]
  },
  {
   "cell_type": "code",
   "execution_count": 412,
   "metadata": {},
   "outputs": [
    {
     "data": {
      "text/plain": [
       "[<matplotlib.lines.Line2D at 0x1f310795580>]"
      ]
     },
     "execution_count": 412,
     "metadata": {},
     "output_type": "execute_result"
    },
    {
     "data": {
      "image/png": "[encoded data removed]",
      "text/plain": [
       "<Figure size 864x360 with 1 Axes>"
      ]
     },
     "metadata": {},
     "output_type": "display_data"
    }
   ],
   "source": [
    "(mean_x, mean_loss) = plot_mean_loss(clf, 100)\n",
    "plt.plot(mean_x, mean_loss)"
   ]
  },
  {
   "cell_type": "markdown",
   "metadata": {},
   "source": [
    "Разбейте данные на обучение и валидацию. Подберите параметры C, alpha, max_epoch, model_type на валидации (Вы же помните, как правильно в этой задаче делать валидацию?)"
   ]
  },
  {
   "cell_type": "code",
   "execution_count": 413,
   "metadata": {},
   "outputs": [
    {
     "data": {
      "text/plain": [
       "array([  1,   1,   1, ..., 129, 129, 129], dtype=int64)"
      ]
     },
     "execution_count": 413,
     "metadata": {},
     "output_type": "execute_result"
    }
   ],
   "source": [
    "groups_train"
   ]
  },
  {
   "cell_type": "code",
   "execution_count": 419,
   "metadata": {},
   "outputs": [],
   "source": [
    "splits = []\n",
    "#1-ый фолд\n",
    "test_idxs = groups_train <= 43\n",
    "train_idxs = ~test_idxs\n",
    "splits.append((train_idxs, test_idxs))\n",
    "#2-ой фолд\n",
    "test_idxs = (groups_train > 43) & (groups_train <= 86)\n",
    "train_idxs = ~test_idxs\n",
    "splits.append((train_idxs, test_idxs))\n",
    "#3-ый фолд\n",
    "test_idxs = groups_train > 86\n",
    "train_idxs = ~test_idxs\n",
    "splits.append((train_idxs, test_idxs))"
   ]
  },
  {
   "cell_type": "markdown",
   "metadata": {
    "collapsed": true
   },
   "source": [
    "Подберите порог линейной модели, по достижении которого, Вы будете относить объект к классу 1. Вспомните, какую метрику мы оптимизируем в соревновании.  Как тогда правильно подобрать порог?"
   ]
  },
  {
   "cell_type": "code",
   "execution_count": 416,
   "metadata": {},
   "outputs": [],
   "source": [
    "def accuracy(clf, X, y_true, th=0.5):\n",
    "    X = np.hstack((np.ones(X.shape[0])[:, np.newaxis], X))\n",
    "    preds = clf.predict(X, th).ravel()\n",
    "    return accuracy_score(y_true, preds)\n",
    "\n",
    "def log_loss(clf, X, y_true):\n",
    "    X = np.hstack((np.ones(X.shape[0])[:, np.newaxis], X))\n",
    "    preds = sigmoid(X.dot(clf.weights))\n",
    "    l = clf.binary_cross_entropy(y_true, preds)\n",
    "    r = clf.C * np.sum(np.power(clf.weights[1:], 2)) / 2\n",
    "    return (l + r)\n",
    "\n",
    "def lin_loss(clf, X, y_true):\n",
    "    X = np.hstack((np.ones(X.shape[0])[:, np.newaxis], X))\n",
    "    loss = np.mean(np.sum((np.dot(X, clf.weights) - y_true) ** 2)) / 2\n",
    "    r = clf.C * np.sum(np.power(clf.weights[1:], 2)) / 2\n",
    "    loss = loss + r\n",
    "    return loss"
   ]
  },
  {
   "cell_type": "code",
   "execution_count": 457,
   "metadata": {},
   "outputs": [],
   "source": [
    "lin_scores = []\n",
    "for alpha in [1e-03, 1e-02]:\n",
    "    for C in [0.1, 0, 10, 100]:\n",
    "        for max_epoch in range(1, 11):\n",
    "            tmp_lin_scores = []\n",
    "            tmp_lin_acc = []\n",
    "            for train, test in splits:\n",
    "                batch_generator_func = functools.partial(batch_generator, X_train[train], y_train[train], shuffle=True, batch_size=100)\n",
    "                clf = MySGDClassifier(batch_generator=batch_generator_func, alpha=alpha, max_epoch=max_epoch, model_type='lin_reg', C=C)\n",
    "                clf.fit(X_train[train], y_train[train])\n",
    "                tmp_lin_acc.append(accuracy(clf, X_train[test], y_train[test], th=0.5))\n",
    "                tmp_lin_scores.append(lin_loss(clf, X_train[test], y_train[test]))\n",
    "            lin_scores.append({'C': C, 'alpha':alpha, 'max_epoch' : max_epoch, 'loss' : np.mean(tmp_lin_scores), 'acc' : np.mean(tmp_lin_acc)})"
   ]
  },
  {
   "cell_type": "code",
   "execution_count": 459,
   "metadata": {},
   "outputs": [
    {
     "data": {
      "text/plain": [
       "{'C': 100,\n",
       " 'alpha': 0.01,\n",
       " 'max_epoch': 6,\n",
       " 'loss': 1559621.9646146486,\n",
       " 'acc': 0.7124988325078756}"
      ]
     },
     "execution_count": 459,
     "metadata": {},
     "output_type": "execute_result"
    }
   ],
   "source": [
    "lin_scores.sort(key=lambda x: x['loss'])\n",
    "\n",
    "lin_best = lin_scores[0]\n",
    "lin_best\n",
    "\n",
    "# lin_scores.sort(key=lambda x: x['acc'], reverse=True)\n",
    "\n",
    "# lin_best_acc = lin_scores[0]\n",
    "# lin_best_acc['loss'] - lin_best_loss['loss'], lin_best_acc['acc'], lin_best_loss['acc']"
   ]
  },
  {
   "cell_type": "code",
   "execution_count": 460,
   "metadata": {},
   "outputs": [
    {
     "data": {
      "text/plain": [
       "0.7124893071000855"
      ]
     },
     "execution_count": 460,
     "metadata": {},
     "output_type": "execute_result"
    }
   ],
   "source": [
    "batch_generator_func = functools.partial(batch_generator, X_train, y_train, shuffle=True, batch_size=1000)\n",
    "clf = MySGDClassifier(batch_generator=batch_generator_func, alpha=lin_best['alpha'], max_epoch=lin_best['max_epoch'], model_type='lin_reg', C = lin_best['C'])\n",
    "clf.fit(X_train, y_train)\n",
    "accuracy(clf, X_train, y_train, th=0.3)"
   ]
  },
  {
   "cell_type": "code",
   "execution_count": 461,
   "metadata": {},
   "outputs": [],
   "source": [
    "from sklearn.metrics import f1_score\n",
    "lin_f1_scores = []\n",
    "for th in np.arange(0, 0.7, 0.01):\n",
    "    tmp_lin_f1_scores = []\n",
    "    for train, test in splitting:\n",
    "        batch_generator_func = functools.partial(batch_generator, X_train[train], y_train[train], shuffle=True, batch_size=1000)\n",
    "        clf = MySGDClassifier(batch_generator_func, alpha=lin_best['alpha'], max_epoch=lin_best['max_epoch'], model_type='lin_reg', C = lin_best['C'])\n",
    "        clf.fit(X_train[train], y_train[train])\n",
    "        preds = clf.predict(np.hstack((np.ones(X_train[test].shape[0])[:, np.newaxis], X_train[test])), th)\n",
    "        tmp_lin_f1_scores.append(f1_score(preds,y_train[test]))\n",
    "    lin_f1_scores.append({'th':th, 'f1':np.mean(tmp_lin_f1_scores)})"
   ]
  },
  {
   "cell_type": "code",
   "execution_count": 481,
   "metadata": {},
   "outputs": [],
   "source": [
    "lin_f1_scores.sort(key=lambda x: x['f1'], reverse=True)\n",
    "lin_best['th'] = lin_f1_scores[0]['th']\n",
    "lin_best['f1'] = lin_f1_scores[0]['f1']"
   ]
  },
  {
   "cell_type": "code",
   "execution_count": 472,
   "metadata": {},
   "outputs": [],
   "source": [
    "log_scores = []\n",
    "for alpha in [1e-03, 1e-02]:\n",
    "    for C in [1e-01, 1, 10, 100]:\n",
    "        for max_epoch in range(1, 11):\n",
    "            tmp_log_scores = []\n",
    "            tmp_log_acc = []\n",
    "            for train, test in splitting:\n",
    "                batch_generator_func = functools.partial(batch_generator, X_train[train], y_train[train], shuffle=True, batch_size=100)\n",
    "                clf = MySGDClassifier(batch_generator=batch_generator_func, alpha=alpha, max_epoch=max_epoch, model_type='log_reg', C=C)\n",
    "                clf.fit(X_train[train], y_train[train])\n",
    "                tmp_log_scores.append(log_loss(clf, X_train[test], y_train[test]))\n",
    "                tmp_log_acc.append(accuracy(clf, X_train[test], y_train[test], th=0.5))\n",
    "            log_scores.append({'C': C, 'alpha':alpha, 'max_epoch' : max_epoch, 'loss' : np.mean(tmp_log_scores), 'acc' : np.mean(tmp_log_acc)})"
   ]
  },
  {
   "cell_type": "code",
   "execution_count": 473,
   "metadata": {},
   "outputs": [
    {
     "data": {
      "text/plain": [
       "{'C': 0.1,\n",
       " 'alpha': 0.01,\n",
       " 'max_epoch': 10,\n",
       " 'loss': 0.49272775062950896,\n",
       " 'acc': 0.7886846351917814}"
      ]
     },
     "execution_count": 473,
     "metadata": {},
     "output_type": "execute_result"
    }
   ],
   "source": [
    "log_scores.sort(key=lambda x: x['loss'])\n",
    "\n",
    "log_best = log_scores[0]\n",
    "log_best"
   ]
  },
  {
   "cell_type": "code",
   "execution_count": 474,
   "metadata": {},
   "outputs": [
    {
     "data": {
      "text/plain": [
       "0.7679213002566296"
      ]
     },
     "execution_count": 474,
     "metadata": {},
     "output_type": "execute_result"
    }
   ],
   "source": [
    "batch_generator_func = functools.partial(batch_generator, X_train, y_train, shuffle=True, batch_size=1000)\n",
    "clf = MySGDClassifier(batch_generator=batch_generator_func, alpha=log_best['alpha'], max_epoch=log_best['max_epoch'], model_type='log_reg', C = log_best['C'])\n",
    "clf.fit(X_train, y_train)\n",
    "accuracy(clf, X_train, y_train, th=0.5)"
   ]
  },
  {
   "cell_type": "code",
   "execution_count": 475,
   "metadata": {},
   "outputs": [],
   "source": [
    "from sklearn.metrics import f1_score\n",
    "log_f1_scores = []\n",
    "for th in np.arange(0, 0.7, 0.01):\n",
    "    tmp_log_f1_scores = []\n",
    "    for train, test in splitting:\n",
    "        batch_generator_func = functools.partial(batch_generator, X_train[train], y_train[train], shuffle=True, batch_size=1000)\n",
    "        clf = MySGDClassifier(batch_generator_func, alpha=lin_best['alpha'], max_epoch=lin_best['max_epoch'], model_type='log_reg', C = lin_best['C'])\n",
    "        clf.fit(X_train[train], y_train[train])\n",
    "        preds = clf.predict(np.hstack((np.ones(X_train[test].shape[0])[:, np.newaxis], X_train[test])), th)\n",
    "        tmp_log_f1_scores.append(f1_score(preds, y_train[test]))\n",
    "    log_f1_scores.append({'th':th, 'f1':np.mean(tmp_log_f1_scores)})"
   ]
  },
  {
   "cell_type": "code",
   "execution_count": 476,
   "metadata": {},
   "outputs": [
    {
     "data": {
      "text/plain": [
       "{'C': 0.1,\n",
       " 'alpha': 0.01,\n",
       " 'max_epoch': 10,\n",
       " 'loss': 0.49272775062950896,\n",
       " 'acc': 0.7886846351917814,\n",
       " 'th': 0.48,\n",
       " 'f1': 0.6154289280685429}"
      ]
     },
     "execution_count": 476,
     "metadata": {},
     "output_type": "execute_result"
    }
   ],
   "source": [
    "log_f1_scores.sort(key=lambda x: x['f1'], reverse=True)\n",
    "log_best['th'] = log_f1_scores[0]['th']\n",
    "log_best['f1'] = log_f1_scores[0]['f1']\n",
    "log_best"
   ]
  },
  {
   "cell_type": "markdown",
   "metadata": {},
   "source": [
    "С лучшими параметрами на валидации сделайте предсказание на тестовом множестве, отправьте его на проверку на платформу kaggle. Убедитесь, что Вы смогли побить public score первого бейзлайна."
   ]
  },
  {
   "cell_type": "markdown",
   "metadata": {
    "collapsed": true
   },
   "source": [
    "** При сдаче домашки Вам необходимо кроме ссылки на ноутбук показать Ваш ник на kaggle, под которым Вы залили решение, которое побило Handmade baseline. **"
   ]
  },
  {
   "cell_type": "code",
   "execution_count": 230,
   "metadata": {},
   "outputs": [],
   "source": [
    "from sklearn.metrics import f1_score\n",
    "from sklearn.linear_model import LinearRegression\n",
    "from sklearn.preprocessing import StandardScaler"
   ]
  },
  {
   "cell_type": "code",
   "execution_count": 231,
   "metadata": {},
   "outputs": [],
   "source": [
    "test_data = pd.read_csv('test_groups.csv')\n",
    "testgroups_titledata = {}\n",
    "for i in range(len(test_data)):\n",
    "    new_doc = test_data.iloc[i]\n",
    "    doc_group = new_doc['group_id']\n",
    "    doc_id = new_doc['doc_id']\n",
    "    pair_id =  new_doc['pair_id']\n",
    "    title = doc_to_title[doc_id]\n",
    "    if doc_group not in testgroups_titledata:\n",
    "        testgroups_titledata[doc_group] = []\n",
    "    testgroups_titledata[doc_group].append((doc_id, title, pair_id))"
   ]
  },
  {
   "cell_type": "code",
   "execution_count": 232,
   "metadata": {},
   "outputs": [
    {
     "name": "stdout",
     "output_type": "stream",
     "text": [
      "(16627, 15) (16627,) (16627,)\n"
     ]
    }
   ],
   "source": [
    "import numpy as np\n",
    "X_test = []\n",
    "pair_ids = []\n",
    "groups_test = []\n",
    "for new_group in testgroups_titledata:\n",
    "    docs = testgroups_titledata[new_group]\n",
    "    for k, (doc_id, title, pair_id) in enumerate(docs):\n",
    "        pair_ids.append(pair_id)\n",
    "        groups_test.append(new_group)\n",
    "        all_dist = []\n",
    "        words = set(title.strip().split())\n",
    "        for j in range(0, len(docs)):\n",
    "            if k == j:\n",
    "                continue\n",
    "            doc_id_j, title_j, pair_id_j = docs[j]\n",
    "            words_j = set(title_j.strip().split())\n",
    "            all_dist.append(len(words.intersection(words_j)))\n",
    "        X_test.append(sorted(all_dist, reverse=True)[0:15])\n",
    "pair_ids = np.array(pair_ids)\n",
    "X_test = np.array(X_test)\n",
    "groups_test = np.array(groups_test)\n",
    "print(X_test.shape, groups_test.shape, pair_ids.shape)"
   ]
  },
  {
   "cell_type": "code",
   "execution_count": 233,
   "metadata": {},
   "outputs": [],
   "source": [
    "X_test = sc.transform(X_test)"
   ]
  },
  {
   "cell_type": "code",
   "execution_count": 482,
   "metadata": {},
   "outputs": [
    {
     "data": {
      "text/plain": [
       "{'C': 0.1,\n",
       " 'alpha': 0.01,\n",
       " 'max_epoch': 10,\n",
       " 'loss': 0.49272775062950896,\n",
       " 'acc': 0.7886846351917814,\n",
       " 'th': 0.48,\n",
       " 'f1': 0.6154289280685429}"
      ]
     },
     "execution_count": 482,
     "metadata": {},
     "output_type": "execute_result"
    }
   ],
   "source": [
    "best = log_best\n",
    "best"
   ]
  },
  {
   "cell_type": "code",
   "execution_count": 290,
   "metadata": {},
   "outputs": [],
   "source": [
    "batch_generator_func = functools.partial(batch_generator, X_train, y_train, shuffle=True, batch_size=1000)\n",
    "clf = MySGDClassifier(batch_generator=batch_generator_func, alpha=best['alpha'], max_epoch=best['max_epoch'], model_type='log_reg', C = best['C'])\n",
    "clf.fit(X_train, y_train)\n",
    "preds = clf.predict(np.hstack((np.ones(X_test.shape[0])[:, np.newaxis], X_test)), th=0.36)"
   ]
  },
  {
   "cell_type": "code",
   "execution_count": 291,
   "metadata": {},
   "outputs": [],
   "source": [
    "df = pd.DataFrame({'pair_id': pair_ids, 'target': preds.ravel()})"
   ]
  },
  {
   "cell_type": "code",
   "execution_count": 292,
   "metadata": {},
   "outputs": [],
   "source": [
    "df.to_csv('submit_3.csv', index=False)"
   ]
  },
  {
   "cell_type": "code",
   "execution_count": 483,
   "metadata": {},
   "outputs": [
    {
     "data": {
      "text/plain": [
       "{'C': 100,\n",
       " 'alpha': 0.01,\n",
       " 'max_epoch': 6,\n",
       " 'loss': 1559621.9646146486,\n",
       " 'acc': 0.7124988325078756,\n",
       " 'th': 0.1,\n",
       " 'f1': 0.6180616477148788}"
      ]
     },
     "execution_count": 483,
     "metadata": {},
     "output_type": "execute_result"
    }
   ],
   "source": [
    "lin_best"
   ]
  },
  {
   "cell_type": "code",
   "execution_count": 484,
   "metadata": {},
   "outputs": [],
   "source": [
    "batch_generator_func = functools.partial(batch_generator, X_train, y_train, shuffle=True, batch_size=1000)\n",
    "clf = MySGDClassifier(batch_generator=batch_generator_func, alpha=lin_best['alpha'], max_epoch=lin_best['max_epoch'], model_type='lin_reg', C = lin_best['C'])\n",
    "clf.fit(X_train, y_train)\n",
    "preds = clf.predict(np.hstack((np.ones(X_test.shape[0])[:, np.newaxis], X_test)), th=lin_best['th'])"
   ]
  },
  {
   "cell_type": "code",
   "execution_count": 318,
   "metadata": {},
   "outputs": [],
   "source": [
    "df = pd.DataFrame({'pair_id': pair_ids, 'target': preds.ravel()})"
   ]
  },
  {
   "cell_type": "code",
   "execution_count": 319,
   "metadata": {},
   "outputs": [],
   "source": [
    "df.to_csv('submit_lin_5.csv', index=False)"
   ]
  },
  {
   "cell_type": "markdown",
   "metadata": {},
   "source": [
    "# Фидбек (бесценно)"
   ]
  },
  {
   "cell_type": "markdown",
   "metadata": {},
   "source": [
    "* Какие аспекты обучения линейных моделей Вам показались непонятными? Какое место стоит дополнительно объяснить?"
   ]
  },
  {
   "cell_type": "markdown",
   "metadata": {},
   "source": [
    "***Ваше ответ здесь***"
   ]
  },
  {
   "cell_type": "markdown",
   "metadata": {},
   "source": [
    "* Здесь Вы можете оставить отзыв о этой домашней работе или о всем курсе.   "
   ]
  },
  {
   "cell_type": "markdown",
   "metadata": {},
   "source": [
    "*** ВАШ ОТЗЫВ ЗДЕСЬ***"
   ]
  },
  {
   "cell_type": "code",
   "execution_count": null,
   "metadata": {
    "collapsed": true
   },
   "outputs": [],
   "source": []
  },
  {
   "cell_type": "code",
   "execution_count": null,
   "metadata": {
    "collapsed": true
   },
   "outputs": [],
   "source": []
  }
 ],
 "metadata": {
  "anaconda-cloud": {},
  "kernelspec": {
   "display_name": "Python 3",
   "language": "python",
   "name": "python3"
  },
  "language_info": {
   "codemirror_mode": {
    "name": "ipython",
    "version": 3
   },
   "file_extension": ".py",
   "mimetype": "text/x-python",
   "name": "python",
   "nbconvert_exporter": "python",
   "pygments_lexer": "ipython3",
   "version": "3.8.5"
  },
  "nav_menu": {},
  "toc": {
   "colors": {
    "hover_highlight": "#DAA520",
    "navigate_num": "#000000",
    "navigate_text": "#333333",
    "running_highlight": "#FF0000",
    "selected_highlight": "#FFD700",
    "sidebar_border": "#EEEEEE",
    "wrapper_background": "#FFFFFF"
   },
   "moveMenuLeft": true,
   "nav_menu": {
    "height": "402px",
    "width": "253px"
   },
   "navigate_menu": true,
   "number_sections": false,
   "sideBar": true,
   "threshold": 4,
   "toc_cell": false,
   "toc_section_display": "block",
   "toc_window_display": true,
   "widenNotebook": false
  }
 },
 "nbformat": 4,
 "nbformat_minor": 2
}
