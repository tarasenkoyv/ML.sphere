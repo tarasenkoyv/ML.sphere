{
 "cells": [
  {
   "cell_type": "markdown",
   "metadata": {},
   "source": [
    "### Алгоритмы интеллектуальной обработки больших объемов данных\n",
    "## Домашнее задание №3 - Дерево решений\n"
   ]
  },
  {
   "cell_type": "markdown",
   "metadata": {},
   "source": [
    "**Общая информация**\n",
    "\n",
    "**Срок сдачи:** 3 мая 2021, 08:30   \n",
    "**Штраф за опоздание:** -2 балла после 08:30 03 мая, -4 балла после 08:30 10 мая, -6 баллов после 08:30 17 мая, -8 баллов после 08:30 24 мая.\n",
    "\n",
    "При отправлении ДЗ указывайте фамилию в названии файла Присылать ДЗ необходимо в виде ссылки на свой github репозиторий на почту ml1.sphere@mail.ru с указанием темы в следующем формате:\n",
    "[ML0221, Задание 3] Фамилия Имя. \n",
    "\n",
    "\n",
    "Используйте данный Ipython Notebook при оформлении домашнего задания."
   ]
  },
  {
   "cell_type": "markdown",
   "metadata": {},
   "source": [
    "##  Реализуем дерево решений (3 балла)"
   ]
  },
  {
   "cell_type": "markdown",
   "metadata": {},
   "source": [
    "Допишите недостающие части дерева решений. Ваша реализация дерева должна работать по точности не хуже DecisionTreeClassifier из sklearn.\n",
    "Внимание: если Вас не устраивает предложенная структура хранения дерева, Вы без потери баллов можете сделать свой класс DecisionTreeClassifier, в котором сами полностью воспроизведете алгоритм дерева решений. Обязательно в нем иметь только функции fit, predict"
   ]
  },
  {
   "cell_type": "code",
   "execution_count": 1,
   "metadata": {},
   "outputs": [],
   "source": [
    "from scipy.stats import randint as randint\n",
    "\n",
    "import matplotlib.pyplot as plt\n",
    "import numpy as np\n",
    "import pandas as pd\n",
    "\n",
    "from sklearn.base import BaseEstimator\n",
    "from sklearn.base import ClassifierMixin\n",
    "from sklearn.datasets import load_wine\n",
    "from sklearn.ensemble import RandomForestClassifier\n",
    "from sklearn.metrics import accuracy_score\n",
    "from sklearn.model_selection import KFold, train_test_split, GridSearchCV, RandomizedSearchCV\n",
    "from sklearn.tree import DecisionTreeClassifier\n",
    "\n",
    "from sklearn.model_selection import StratifiedKFold\n",
    "from multiprocessing.dummy import Pool as ThreadPool\n",
    "import time\n",
    "import matplotlib.pyplot as plt\n",
    "\n",
    "from sklearn.preprocessing import OneHotEncoder\n",
    "\n",
    "from collections import defaultdict\n",
    "from collections import namedtuple\n",
    "from collections import deque\n",
    "\n",
    "from sklearn.metrics import make_scorer\n",
    "from sklearn.metrics import precision_score\n",
    "from sklearn.metrics import f1_score\n",
    "from sklearn.metrics import accuracy_score\n",
    "\n",
    "from sklearn.model_selection import validation_curve"
   ]
  },
  {
   "cell_type": "code",
   "execution_count": 2,
   "metadata": {},
   "outputs": [],
   "source": [
    "EPSILON = 1e-15\n",
    "\n",
    "class MyDecisionTreeClassifier(BaseEstimator):\n",
    "    NON_LEAF_TYPE = 0\n",
    "    LEAF_TYPE = 1\n",
    "    \n",
    "    def __init__(self, min_samples_split=2, max_depth=5, criterion='gini'):\n",
    "        \"\"\"\n",
    "        criterion -- критерий расщепления. необходимо релизовать три:\n",
    "        Ошибка классификации, Индекс Джини, Энтропийный критерий\n",
    "        max_depth -- максимальная глубина дерева\n",
    "        min_samples_split -- минимальное число объектов в листе, чтобы сделать новый сплит\n",
    "        \"\"\"\n",
    "        self.min_samples_split = min_samples_split\n",
    "        self.max_depth = max_depth\n",
    "        self.num_class = -1\n",
    "        self.criterion = criterion\n",
    "\n",
    "        if criterion  == \"entropy\":\n",
    "            self._criterion_func = self._entropy\n",
    "        elif criterion  == \"gini\":\n",
    "            self._criterion_func = self._gini\n",
    "        elif criterion  == \"misclf\":\n",
    "            self._criterion_func = self._misclf\n",
    "        else:\n",
    "            raise ValueError(f\"criterion '{criterion}' is not recognized\")\n",
    "            \n",
    "        # Структура, которая описывает дерево\n",
    "        # Представляет словарь, где для  node_id (айдишник узла дерева) храним\n",
    "        # (тип_узла, айдишник признака сплита, порог сплита) если тип NON_LEAF_TYPE\n",
    "        # (тип_узла, предсказание класса, вероятность класса) если тип LEAF_TYPE\n",
    "        # Подразумевается, что у каждого node_id в дереве слева \n",
    "        # узел с айди 2 * node_id + 1, а справа 2 * node_id + 2\n",
    "        self.tree = dict()\n",
    "    \n",
    "    def __div_samples(self, x, y, feature_id, threshold):\n",
    "        \"\"\"\n",
    "        Разделяет объекты на 2 множества\n",
    "        x -- матрица объектов\n",
    "        y -- вектор ответов\n",
    "        feature_id -- айдишник признака, по которому делаем сплит\n",
    "        threshold -- порог, по которому делаем сплит\n",
    "        \"\"\"\n",
    "        left_mask = x[:, feature_id] > threshold\n",
    "        right_mask = ~left_mask\n",
    "        return x[left_mask], x[right_mask], y[left_mask], y[right_mask]\n",
    "\n",
    "    def __find_threshold_by_feature_id(self, x, y):\n",
    "        sorted_idx = x.argsort()\n",
    "        x_s, y_s = x[sorted_idx], y[sorted_idx]\n",
    "\n",
    "        ths, splits = np.unique(x_s, return_index=True)\n",
    "        y_l = np.zeros((splits.shape[0], self.num_class))\n",
    "        y_r = np.zeros((splits.shape[0], self.num_class))\n",
    "        for i in range(splits.shape[0]):\n",
    "            y_l[i] = np.bincount(y_s[:splits[i]], minlength=self.num_class)\n",
    "            y_r[i] = np.bincount(y_s[splits[i]:], minlength=self.num_class)\n",
    "        cnt_l = np.sum(y_l, axis=1)\n",
    "        cnt_r = np.sum(y_r, axis=1)\n",
    "        imps = self.__impurity_func(y_l, y_r, cnt_l, cnt_r).ravel()\n",
    "        idx = np.argmax(imps)\n",
    "        return (imps[idx], ths[idx])\n",
    "    \n",
    "    def __find_threshold(self, x, y):\n",
    "        res = np.array([self.__find_threshold_by_feature_id(x[:, feature_id], y) for feature_id in range(x.shape[1])])\n",
    "        best_feature_id = np.argmax(res[:, 0])\n",
    "        best_th = res[best_feature_id, 1]\n",
    "        max_imp = res[best_feature_id, 0]\n",
    "        return (best_feature_id, best_th, max_imp)\n",
    "    \n",
    "\n",
    "    def __build_tree(self, x, y):\n",
    "        \"\"\"\n",
    "        Делаем новый узел в дереве\n",
    "        Решаем, терминальный он или нет\n",
    "        Если нет, то строим левый узел  с айди 2 * node_id + 1\n",
    "        И правый узел с  айди 2 * node_id + 2\n",
    "        \"\"\"\n",
    "        # Ваш код здесь\n",
    "        StackRecord = namedtuple(\"StackRecord\", [\"node_id\", \"depth\", \"x\", \"y\"])\n",
    "        queue = deque([StackRecord(0, 0, x, y)])\n",
    "        while queue:\n",
    "            stack_record = queue.pop()\n",
    "\n",
    "            node_id = stack_record.node_id\n",
    "            depth = stack_record.depth\n",
    "            x = stack_record.x\n",
    "            y = stack_record.y\n",
    "\n",
    "            if depth < self.max_depth and y.shape[0] >= self.min_samples_split and np.unique(y).shape[0] > 1:\n",
    "                best_feature_id, best_th, max_imp = self.__find_threshold(x, y)\n",
    "                self.feature_importances_[best_feature_id] += max_imp\n",
    "                x_left, x_right, y_left, y_right = self.__div_samples(x, y, best_feature_id, best_th)\n",
    "                if x_left.size == 0 or x_right.size == 0:\n",
    "                    self.tree[node_id] = (self.LEAF_TYPE, np.bincount(y).argmax(), np.max(np.bincount(y)) / y.shape[0])\n",
    "                else:\n",
    "                    self.tree[node_id] = (self.NON_LEAF_TYPE, best_feature_id, best_th)\n",
    "                    queue.append(StackRecord(2 * node_id + 1, depth + 1, x_left, y_left))\n",
    "                    queue.append(StackRecord(2 * node_id + 2, depth + 1, x_right, y_right))\n",
    "                    #self.__fit_node(x_left, y_left, 2 * node_id + 1, depth + 1)\n",
    "                    #self.__fit_node(x_right, y_right, 2 * node_id + 2, depth + 1)\n",
    "            else:\n",
    "                cnt_classes = np.bincount(y)\n",
    "                proba = np.max(cnt_classes) / y.shape[0]\n",
    "                prediction = np.argmax(cnt_classes)\n",
    "                self.tree[node_id] = (self.LEAF_TYPE, prediction, proba)\n",
    "    \n",
    "    def fit(self, x, y):\n",
    "        \"\"\"\n",
    "        Рекурсивно строим дерево решений\n",
    "        Начинаем с корня node_id 0\n",
    "        \"\"\"\n",
    "        self.tree = dict()\n",
    "        self.num_class = np.unique(y).size\n",
    "        self.feature_importances_ = np.zeros(x.shape[1])\n",
    "        self.__build_tree(x, y) \n",
    "        self.feature_importances_ /= np.sum(self.feature_importances_)\n",
    "\n",
    "    def __predict_class(self, x, node_id):\n",
    "        \"\"\"\n",
    "        Рекурсивно обходим дерево по всем узлам,\n",
    "        пока не дойдем до терминального\n",
    "        \"\"\"\n",
    "        node = self.tree[node_id]\n",
    "        if node[0] == self.__class__.NON_LEAF_TYPE:\n",
    "            _, feature_id, threshold = node\n",
    "            if x[feature_id] > threshold:\n",
    "                return self.__predict_class(x, 2 * node_id + 1)\n",
    "            else:\n",
    "                return self.__predict_class(x, 2 * node_id + 2)\n",
    "        else:\n",
    "            return node[1]\n",
    "    \n",
    "    def __predict_proba(self, x, node_id):\n",
    "        \"\"\"\n",
    "        Рекурсивно обходим дерево по всем узлам,\n",
    "        пока не дойдем до терминального\n",
    "        \"\"\"\n",
    "        node = self.tree[node_id]\n",
    "        if node[0] == self.__class__.NON_LEAF_TYPE:\n",
    "            _, feature_id, threshold = node\n",
    "            if x[feature_id] > threshold:\n",
    "                return self.__predict_class(x, 2 * node_id + 1)\n",
    "            else:\n",
    "                return self.__predict_class(x, 2 * node_id + 2)\n",
    "        else:\n",
    "            return node[2]\n",
    "        \n",
    "    def predict(self, X):\n",
    "        \"\"\"\n",
    "        Вызывает predict для всех объектов из матрицы X\n",
    "        \"\"\"\n",
    "        return np.array([self.__predict_class(x, 0) for x in X])\n",
    "    \n",
    "    def predict_proba(self, X):\n",
    "        return np.array([self.__predict_proba(x, 0) for x in X]).reshape(-1, 1)\n",
    "    \n",
    "    def fit_predict(self, x_train, y_train, predicted_x):\n",
    "        self.fit(x_train, y_train)\n",
    "        return self.predict(predicted_x)\n",
    "    \n",
    "    def fit_predict_proba(self, x_train, y_train, predicted_x):\n",
    "        self.fit(x_train, y_train)\n",
    "        return self.predict_proba(predicted_x)\n",
    "    \n",
    "    def get_feature_importance(self):\n",
    "        \"\"\"\n",
    "        Возвращает важность признаков\n",
    "        \"\"\"\n",
    "        # Ваш код здесь\n",
    "        return self.feature_importances_\n",
    "    \n",
    "    def __impurity_func(self, y_l, y_r, cnt_l, cnt_r):\n",
    "        mask_gr_EPSILON = (cnt_l > EPSILON) & (cnt_r > EPSILON)\n",
    "        mask_not_gr_EPSILON = ~mask_gr_EPSILON\n",
    "        cnt_l = cnt_l.reshape(-1, 1)\n",
    "        cnt_r = cnt_r.reshape(-1, 1)\n",
    "        y = y_l + y_r\n",
    "        cnt = cnt_l + cnt_r\n",
    "\n",
    "        f = y / cnt\n",
    "        f_l = np.zeros(f.shape)\n",
    "        f_r = np.zeros(f.shape)\n",
    "        imps = np.zeros(cnt.shape)\n",
    "        f_l[mask_gr_EPSILON,:] = y_l[mask_gr_EPSILON,:] / cnt_l[mask_gr_EPSILON,:]\n",
    "        f_r[mask_gr_EPSILON,:] = y_r[mask_gr_EPSILON,:] / cnt_r[mask_gr_EPSILON,:]\n",
    "\n",
    "        imps[mask_gr_EPSILON,:] = self._criterion_func(f[mask_gr_EPSILON,:]) - \\\n",
    "           (cnt_l[mask_gr_EPSILON,:] / cnt[mask_gr_EPSILON,:]) * self._criterion_func(f_l[mask_gr_EPSILON,:]) - \\\n",
    "           (cnt_r[mask_gr_EPSILON,:] / cnt[mask_gr_EPSILON,:]) * self._criterion_func(f_r[mask_gr_EPSILON,:])\n",
    "        imps[mask_not_gr_EPSILON,:] = np.NaN\n",
    "\n",
    "        if np.isnan(imps).all():\n",
    "            return np.array([-np.inf])\n",
    "        return imps[~np.isnan(imps)]\n",
    "    \n",
    "    def _misclf(self, f):\n",
    "        return (1 - np.max(f, axis=1)).reshape(-1, 1)\n",
    "    \n",
    "    def _entropy(self, f):\n",
    "        return (- np.sum(f * np.log(f), axis=1)).reshape(-1, 1)\n",
    "    \n",
    "    def _gini(self, f):\n",
    "        return (1 - np.sum(f ** 2, axis=1)).reshape(-1, 1)"
   ]
  },
  {
   "cell_type": "code",
   "execution_count": 316,
   "metadata": {},
   "outputs": [],
   "source": [
    "my_clf = MyDecisionTreeClassifier(min_samples_split=2)\n",
    "clf = DecisionTreeClassifier(min_samples_split=2)"
   ]
  },
  {
   "cell_type": "code",
   "execution_count": 317,
   "metadata": {},
   "outputs": [],
   "source": [
    "wine = load_wine()\n",
    "X_train, X_test, y_train, y_test = train_test_split(wine.data, wine.target, test_size=0.1,\n",
    "                                                    stratify=wine.target, random_state=0)"
   ]
  },
  {
   "cell_type": "code",
   "execution_count": 5,
   "metadata": {
    "scrolled": true
   },
   "outputs": [
    {
     "data": {
      "text/html": [
       "<div>\n",
       "<style scoped>\n",
       "    .dataframe tbody tr th:only-of-type {\n",
       "        vertical-align: middle;\n",
       "    }\n",
       "\n",
       "    .dataframe tbody tr th {\n",
       "        vertical-align: top;\n",
       "    }\n",
       "\n",
       "    .dataframe thead th {\n",
       "        text-align: right;\n",
       "    }\n",
       "</style>\n",
       "<table border=\"1\" class=\"dataframe\">\n",
       "  <thead>\n",
       "    <tr style=\"text-align: right;\">\n",
       "      <th></th>\n",
       "      <th>0</th>\n",
       "      <th>1</th>\n",
       "      <th>2</th>\n",
       "      <th>3</th>\n",
       "      <th>4</th>\n",
       "      <th>5</th>\n",
       "      <th>6</th>\n",
       "      <th>7</th>\n",
       "      <th>8</th>\n",
       "      <th>9</th>\n",
       "      <th>10</th>\n",
       "      <th>11</th>\n",
       "      <th>12</th>\n",
       "    </tr>\n",
       "  </thead>\n",
       "  <tbody>\n",
       "    <tr>\n",
       "      <th>0</th>\n",
       "      <td>12.53</td>\n",
       "      <td>5.51</td>\n",
       "      <td>2.64</td>\n",
       "      <td>25.0</td>\n",
       "      <td>96.0</td>\n",
       "      <td>1.79</td>\n",
       "      <td>0.60</td>\n",
       "      <td>0.63</td>\n",
       "      <td>1.10</td>\n",
       "      <td>5.00</td>\n",
       "      <td>0.82</td>\n",
       "      <td>1.69</td>\n",
       "      <td>515.0</td>\n",
       "    </tr>\n",
       "    <tr>\n",
       "      <th>1</th>\n",
       "      <td>13.72</td>\n",
       "      <td>1.43</td>\n",
       "      <td>2.50</td>\n",
       "      <td>16.7</td>\n",
       "      <td>108.0</td>\n",
       "      <td>3.40</td>\n",
       "      <td>3.67</td>\n",
       "      <td>0.19</td>\n",
       "      <td>2.04</td>\n",
       "      <td>6.80</td>\n",
       "      <td>0.89</td>\n",
       "      <td>2.87</td>\n",
       "      <td>1285.0</td>\n",
       "    </tr>\n",
       "    <tr>\n",
       "      <th>2</th>\n",
       "      <td>12.29</td>\n",
       "      <td>2.83</td>\n",
       "      <td>2.22</td>\n",
       "      <td>18.0</td>\n",
       "      <td>88.0</td>\n",
       "      <td>2.45</td>\n",
       "      <td>2.25</td>\n",
       "      <td>0.25</td>\n",
       "      <td>1.99</td>\n",
       "      <td>2.15</td>\n",
       "      <td>1.15</td>\n",
       "      <td>3.30</td>\n",
       "      <td>290.0</td>\n",
       "    </tr>\n",
       "    <tr>\n",
       "      <th>3</th>\n",
       "      <td>12.25</td>\n",
       "      <td>3.88</td>\n",
       "      <td>2.20</td>\n",
       "      <td>18.5</td>\n",
       "      <td>112.0</td>\n",
       "      <td>1.38</td>\n",
       "      <td>0.78</td>\n",
       "      <td>0.29</td>\n",
       "      <td>1.14</td>\n",
       "      <td>8.21</td>\n",
       "      <td>0.65</td>\n",
       "      <td>2.00</td>\n",
       "      <td>855.0</td>\n",
       "    </tr>\n",
       "    <tr>\n",
       "      <th>4</th>\n",
       "      <td>13.05</td>\n",
       "      <td>5.80</td>\n",
       "      <td>2.13</td>\n",
       "      <td>21.5</td>\n",
       "      <td>86.0</td>\n",
       "      <td>2.62</td>\n",
       "      <td>2.65</td>\n",
       "      <td>0.30</td>\n",
       "      <td>2.01</td>\n",
       "      <td>2.60</td>\n",
       "      <td>0.73</td>\n",
       "      <td>3.10</td>\n",
       "      <td>380.0</td>\n",
       "    </tr>\n",
       "  </tbody>\n",
       "</table>\n",
       "</div>"
      ],
      "text/plain": [
       "      0     1     2     3      4     5     6     7     8     9     10    11  \\\n",
       "0  12.53  5.51  2.64  25.0   96.0  1.79  0.60  0.63  1.10  5.00  0.82  1.69   \n",
       "1  13.72  1.43  2.50  16.7  108.0  3.40  3.67  0.19  2.04  6.80  0.89  2.87   \n",
       "2  12.29  2.83  2.22  18.0   88.0  2.45  2.25  0.25  1.99  2.15  1.15  3.30   \n",
       "3  12.25  3.88  2.20  18.5  112.0  1.38  0.78  0.29  1.14  8.21  0.65  2.00   \n",
       "4  13.05  5.80  2.13  21.5   86.0  2.62  2.65  0.30  2.01  2.60  0.73  3.10   \n",
       "\n",
       "       12  \n",
       "0   515.0  \n",
       "1  1285.0  \n",
       "2   290.0  \n",
       "3   855.0  \n",
       "4   380.0  "
      ]
     },
     "execution_count": 5,
     "metadata": {},
     "output_type": "execute_result"
    }
   ],
   "source": [
    "pd.DataFrame(X_train).head()"
   ]
  },
  {
   "cell_type": "code",
   "execution_count": 318,
   "metadata": {},
   "outputs": [
    {
     "data": {
      "text/plain": [
       "DecisionTreeClassifier()"
      ]
     },
     "execution_count": 318,
     "metadata": {},
     "output_type": "execute_result"
    }
   ],
   "source": [
    "my_clf.fit(X_train, y_train)\n",
    "clf.fit(X_train, y_train)"
   ]
  },
  {
   "cell_type": "code",
   "execution_count": 319,
   "metadata": {},
   "outputs": [
    {
     "name": "stdout",
     "output_type": "stream",
     "text": [
      "clf accuracy_score = 1.0\n",
      "my_clf accuracy_score = 1.0\n"
     ]
    }
   ],
   "source": [
    "print(f\"clf accuracy_score = {accuracy_score(y_pred=clf.predict(X_test), y_true=y_test)}\")\n",
    "print(f\"my_clf accuracy_score = {accuracy_score(y_pred=my_clf.predict(X_test), y_true=y_test)}\")"
   ]
  },
  {
   "cell_type": "markdown",
   "metadata": {},
   "source": [
    "## Ускоряем дерево решений (2 балла)\n",
    "Добиться скорости работы на fit не медленнее чем в 10 раз sklearn на данных wine. \n",
    "Для этого используем numpy."
   ]
  },
  {
   "cell_type": "code",
   "execution_count": 8,
   "metadata": {
    "scrolled": true
   },
   "outputs": [
    {
     "name": "stdout",
     "output_type": "stream",
     "text": [
      "Wall time: 2 ms\n"
     ]
    },
    {
     "data": {
      "text/plain": [
       "DecisionTreeClassifier()"
      ]
     },
     "execution_count": 8,
     "metadata": {},
     "output_type": "execute_result"
    }
   ],
   "source": [
    "%time clf.fit(X_train, y_train)"
   ]
  },
  {
   "cell_type": "code",
   "execution_count": 49,
   "metadata": {},
   "outputs": [
    {
     "name": "stdout",
     "output_type": "stream",
     "text": [
      "Wall time: 37 ms\n"
     ]
    }
   ],
   "source": [
    "%time my_clf.fit(X_train, y_train)"
   ]
  },
  {
   "cell_type": "markdown",
   "metadata": {},
   "source": [
    "### Ответ:\n",
    "Удалось добиться скорости работы не медленне чем в 15-25 раз.\n",
    "В принципе по порядку условие выполнено.\n",
    "При замене рекурсии (при построении дерева) на цикл с deque стало еще немного быстрее."
   ]
  },
  {
   "cell_type": "markdown",
   "metadata": {},
   "source": [
    "## Боевое применение (3 балла)\n",
    "\n",
    "На практике Вы познакомились с датасетом Speed Dating Data. В нем каждая пара в быстрых свиданиях характеризуется определенным набором признаков. Задача -- предсказать, произойдет ли матч пары (колонка match). \n",
    "\n",
    "Пример работы с датасетом можете найти в практике пункт 2\n",
    "https://github.com/VVVikulin/ml1.sphere/blob/master/2019-09/lecture_06/pract-trees.ipynb\n",
    "\n",
    "Данные и описания колонок лежат тут\n",
    "https://cloud.mail.ru/public/8nHV/p6J7wY1y1/speed-dating-experiment/"
   ]
  },
  {
   "cell_type": "markdown",
   "metadata": {},
   "source": [
    "Скачайте датасет, обработайте данные, как показано на семинаре или своим собственным способом. Обучите дерево классифкации. В качестве таргета возьмите колонку 'match'. Постарайтесь хорошо обработать признаки, чтобы выбить максимальную точность. Если точность будет близка к случайному гаданию, задание не будет защитано. \n"
   ]
  },
  {
   "cell_type": "code",
   "execution_count": 53,
   "metadata": {},
   "outputs": [],
   "source": [
    "df = pd.read_csv('Speed Dating Data.csv', encoding='latin1')\n",
    "df = df.iloc[:, :97]"
   ]
  },
  {
   "cell_type": "markdown",
   "metadata": {},
   "source": [
    "Преобразуем категориальный признак (с количеством значений больше 2) в признаки с 2-мя значениями.\n",
    "Обрабатываем пропуски значений.\n",
    "Поскольку в MyDecisionTreeClassifier с учетом заданной функции __div_samples у нас нет обработки категориальных признаков и пропусков значений."
   ]
  },
  {
   "cell_type": "code",
   "execution_count": 54,
   "metadata": {},
   "outputs": [],
   "source": [
    "df = df.drop(['id'], axis=1)\n",
    "df = df.drop(['idg'], axis=1)\n",
    "df = df.drop(['condtn'], axis=1)\n",
    "df = df.drop(['round'], axis=1)\n",
    "df = df.drop(['position', 'positin1'], axis=1)\n",
    "df = df.drop(['order'], axis=1)\n",
    "df = df.drop(['partner'], axis=1)\n",
    "df = df.drop(['from', 'zipcode'], axis=1)\n",
    "\n",
    "df = df.drop(['undergra'], axis=1)\n",
    "\n",
    "df = df.drop(['field'], axis=1)\n",
    "df = df.drop(['field_cd'], axis=1)"
   ]
  },
  {
   "cell_type": "code",
   "execution_count": 55,
   "metadata": {},
   "outputs": [],
   "source": [
    "# Поскольку есть признак \"int_corr\", который считает корреляцию между интересами пар, то признаки нижу просто удаляем.\n",
    "df = df.drop(['sports','tvsports','exercise','dining','museums','art','hiking','gaming',\n",
    "       'clubbing','reading','tv','theater','movies','concerts','music','shopping','yoga'], axis=1)"
   ]
  },
  {
   "cell_type": "code",
   "execution_count": 56,
   "metadata": {},
   "outputs": [],
   "source": [
    "# Поскольку мы делаем join по таблице с мужчинами и женщинами, \n",
    "# то признаки по партнеру удаляем (т.к. они будут дублироваться).\n",
    "df = df.drop(['age_o', 'race_o', 'pf_o_att', \n",
    "              'pf_o_sin', 'pf_o_int',\n",
    "              'pf_o_fun', 'pf_o_amb', 'pf_o_sha',\n",
    "              'dec_o', 'attr_o', 'sinc_o', 'intel_o', 'fun_o',\n",
    "              'amb_o', 'shar_o', 'like_o', 'prob_o','met_o'], \n",
    "             axis=1)"
   ]
  },
  {
   "cell_type": "code",
   "execution_count": 57,
   "metadata": {},
   "outputs": [],
   "source": [
    "# Удаляем записи с пропуском значений, где их немного\n",
    "# (age.isnull() = 8, imprelig.isnull() = 7, imprace.isnull() = 7)\n",
    "df = df.dropna(subset=['age'])\n",
    "df = df.dropna(subset=['imprelig', 'imprace'])\n",
    "df = df.dropna(subset=['date'])"
   ]
  },
  {
   "cell_type": "code",
   "execution_count": 58,
   "metadata": {},
   "outputs": [],
   "source": [
    "df.loc[:, 'mn_sat'] = df.loc[:, 'mn_sat'].str.replace(',', '').astype(np.float)\n",
    "# Пробуем пропуски заполнить средним баллом\n",
    "df.loc[:, 'mn_sat'] = df.loc[:, 'mn_sat'].fillna(df.loc[:, 'mn_sat'].median())"
   ]
  },
  {
   "cell_type": "code",
   "execution_count": 59,
   "metadata": {},
   "outputs": [],
   "source": [
    "df.loc[:, 'tuition'] = df.loc[:, 'tuition'].str.replace(',', '').astype(np.float)\n",
    "\n",
    "# Попробуем пропуски заполнить так, чтобы распределение сохранилось\n",
    "nulls = df['tuition'].isnull()\n",
    "df.loc[nulls, 'tuition'] = np.random.choice(df.loc[~nulls,'tuition'], size=sum(nulls))\n",
    "df = df.drop(['tuition'], axis=1)"
   ]
  },
  {
   "cell_type": "code",
   "execution_count": 60,
   "metadata": {},
   "outputs": [],
   "source": [
    "# Преобразуем категориальный признак \"race\" (с количеством значений больше 2) в признаки с 2-мя значениями\n",
    "df.loc[:,'race'] = 'race_' + df.race.astype('str')\n",
    "bin_race = pd.get_dummies(df.race)\n",
    "df = df.join(bin_race)\n",
    "df = df.drop(['race'], axis=1)\n",
    "# one = OneHotEncoder(sparse=False)\n",
    "# new_one_features = one.fit_transform(df.race.values.reshape(-1, 1))\n",
    "# tmp = pd.DataFrame(new_one_features, columns=['race' + str(i) for i in range(new_one_features.shape[1])])\n",
    "# df = pd.concat([df, tmp], axis=1)"
   ]
  },
  {
   "cell_type": "code",
   "execution_count": 61,
   "metadata": {},
   "outputs": [],
   "source": [
    "# df.loc[:, 'income'] = df.loc[:, 'income'].str.replace(',', '').astype(np.float)\n",
    "# df.loc[:, 'income'] = df.loc[:, 'income'].fillna(df.loc[:, 'income'].median())\n",
    "df = df.drop(['income'], axis=1)"
   ]
  },
  {
   "cell_type": "code",
   "execution_count": 62,
   "metadata": {},
   "outputs": [],
   "source": [
    "df.loc[:,'goal'] = 'goal_' + df.goal.astype('str')\n",
    "bin_goal = pd.get_dummies(df.goal)\n",
    "df = df.join(bin_goal)\n",
    "df = df.drop(['goal'], axis=1)"
   ]
  },
  {
   "cell_type": "code",
   "execution_count": 63,
   "metadata": {},
   "outputs": [],
   "source": [
    "df.loc[:, 'career_c'] = df.loc[:, 'career_c'].fillna(18)\n",
    "df.loc[:,'career_c'] = 'career_' + df.career_c.astype('str')\n",
    "bin_career = pd.get_dummies(df.career_c)\n",
    "df = df.join(bin_career)\n",
    "df = df.drop(['career','career_c'], axis=1)"
   ]
  },
  {
   "cell_type": "code",
   "execution_count": 64,
   "metadata": {},
   "outputs": [],
   "source": [
    "# df.loc[:, 'expnum'] = df.loc[:, 'expnum'].fillna(df.loc[:, 'expnum'].median())\n",
    "df = df.drop(['expnum'], axis=1)"
   ]
  },
  {
   "cell_type": "code",
   "execution_count": 65,
   "metadata": {},
   "outputs": [],
   "source": [
    "feat = ['iid', 'wave', 'attr1_1', 'sinc1_1', 'intel1_1', 'fun1_1', 'amb1_1', 'shar1_1']\n",
    "temp = df.drop_duplicates(subset=['iid', 'wave']).loc[:, feat]\n",
    "temp.loc[:, 'totalsum'] = temp.iloc[:, 2:].sum(axis=1)\n",
    "df.loc[:, 'temp_totalsum'] = df.loc[:, ['attr1_1', 'sinc1_1', 'intel1_1', 'fun1_1', 'amb1_1', 'shar1_1']].sum(axis=1)\n",
    "df.loc[:, ['attr1_1', 'sinc1_1', 'intel1_1', 'fun1_1', 'amb1_1', 'shar1_1']] = \\\n",
    "(df.loc[:, ['attr1_1', 'sinc1_1', 'intel1_1', 'fun1_1', 'amb1_1', 'shar1_1']].T/df.loc[:, 'temp_totalsum'].T).T * 100\n",
    "\n",
    "feat = ['iid', 'wave', 'attr2_1', 'sinc2_1', 'intel2_1', 'fun2_1', 'amb2_1', 'shar2_1']\n",
    "temp = df.drop_duplicates(subset=['iid', 'wave']).loc[:, feat]\n",
    "temp.loc[:, 'totalsum'] = temp.iloc[:, 2:].sum(axis=1)\n",
    "df.loc[:, 'temp_totalsum'] = df.loc[:, ['attr2_1', 'sinc2_1', 'intel2_1', 'fun2_1', 'amb2_1', 'shar2_1']].sum(axis=1)\n",
    "df.loc[:, ['attr2_1', 'sinc2_1', 'intel2_1', 'fun2_1', 'amb2_1', 'shar2_1']] = \\\n",
    "(df.loc[:, ['attr2_1', 'sinc2_1', 'intel2_1', 'fun2_1', 'amb2_1', 'shar2_1']].T/df.loc[:, 'temp_totalsum'].T).T * 100\n",
    "\n",
    "df = df.drop(['temp_totalsum'], axis=1)\n",
    "\n",
    "# Признаки attr4 и attr5 пока выбросим\n",
    "for i in [3, 4, 5]:\n",
    "    feat = ['attr{}_1'.format(i), 'sinc{}_1'.format(i), \n",
    "            'intel{}_1'.format(i), 'fun{}_1'.format(i), \n",
    "            'amb{}_1'.format(i), 'shar{}_1'.format(i)]\n",
    "    \n",
    "    if i != 4:\n",
    "        feat.remove('shar{}_1'.format(i))\n",
    "    \n",
    "    df = df.drop(feat, axis=1)"
   ]
  },
  {
   "cell_type": "code",
   "execution_count": 66,
   "metadata": {},
   "outputs": [],
   "source": [
    "df = df.drop(['wave'], axis=1)"
   ]
  },
  {
   "cell_type": "code",
   "execution_count": 67,
   "metadata": {},
   "outputs": [],
   "source": [
    "df_male = df.query('gender == 1').drop_duplicates(subset=['iid', 'pid'])\\\n",
    "                                 .drop(['gender'], axis=1)\\\n",
    "                                 .dropna()\n",
    "df_female = df.query('gender == 0').drop_duplicates(subset=['iid', 'pid'])\\\n",
    "                                   .drop(['gender', 'match', 'int_corr', 'samerace'], axis=1)\\\n",
    "                                   .dropna()\n",
    "        \n",
    "df_female.columns = df_female.columns + '_f'\n",
    "df_female = df_female.rename(columns={'pid_f': 'iid', 'iid_f': 'pid'})"
   ]
  },
  {
   "cell_type": "code",
   "execution_count": 68,
   "metadata": {},
   "outputs": [
    {
     "data": {
      "text/plain": [
       "((4069, 53), (4081, 50))"
      ]
     },
     "execution_count": 68,
     "metadata": {},
     "output_type": "execute_result"
    }
   ],
   "source": [
    "df_male.shape, df_female.shape"
   ]
  },
  {
   "cell_type": "code",
   "execution_count": 69,
   "metadata": {},
   "outputs": [],
   "source": [
    "df_male['pid'] = df_male['pid'].astype('int')"
   ]
  },
  {
   "cell_type": "code",
   "execution_count": 70,
   "metadata": {},
   "outputs": [],
   "source": [
    "df_pair = pd.merge(df_male, df_female, on=['iid','pid'])"
   ]
  },
  {
   "cell_type": "code",
   "execution_count": 71,
   "metadata": {},
   "outputs": [
    {
     "data": {
      "text/plain": [
       "(4025, 101)"
      ]
     },
     "execution_count": 71,
     "metadata": {},
     "output_type": "execute_result"
    }
   ],
   "source": [
    "df_pair.shape"
   ]
  },
  {
   "cell_type": "code",
   "execution_count": 72,
   "metadata": {},
   "outputs": [
    {
     "data": {
      "text/plain": [
       "0"
      ]
     },
     "execution_count": 72,
     "metadata": {},
     "output_type": "execute_result"
    }
   ],
   "source": [
    "sum(df_pair['match'].isna())"
   ]
  },
  {
   "cell_type": "code",
   "execution_count": 73,
   "metadata": {},
   "outputs": [],
   "source": [
    "y = np.array(df_pair.match, dtype='int')"
   ]
  },
  {
   "cell_type": "code",
   "execution_count": 74,
   "metadata": {},
   "outputs": [],
   "source": [
    "X = np.array(df_pair.drop(['match', 'iid', 'pid'], axis=1))"
   ]
  },
  {
   "cell_type": "markdown",
   "metadata": {},
   "source": [
    "Разбейте датасет на трейн и валидацию. Подберите на валидации оптимальный критерий  информативности. \n",
    "Постройте графики зависимости точности на валидации от глубины дерева, от минимального числа объектов для сплита. \n",
    "Какой максимальной точности удалось достигнуть?"
   ]
  },
  {
   "cell_type": "code",
   "execution_count": 25,
   "metadata": {},
   "outputs": [],
   "source": [
    "# X = df_pair.iloc[:, 1:].values\n",
    "# y = df_pair.iloc[:, 0].values "
   ]
  },
  {
   "cell_type": "code",
   "execution_count": 75,
   "metadata": {},
   "outputs": [],
   "source": [
    "X_train, X_test, y_train, y_test = train_test_split(X, y, test_size=0.1, stratify = y)"
   ]
  },
  {
   "cell_type": "code",
   "execution_count": 76,
   "metadata": {},
   "outputs": [
    {
     "data": {
      "text/plain": [
       "(3021, 601)"
      ]
     },
     "execution_count": 76,
     "metadata": {},
     "output_type": "execute_result"
    }
   ],
   "source": [
    "(len(y_train[y_train == 0]), len(y_train[y_train == 1]))"
   ]
  },
  {
   "cell_type": "markdown",
   "metadata": {},
   "source": [
    "### С помощью GridSearchCV подбираем criterion."
   ]
  },
  {
   "cell_type": "code",
   "execution_count": 58,
   "metadata": {},
   "outputs": [],
   "source": [
    "param_grid = {'criterion': ['gini', 'entropy', 'misclf']}"
   ]
  },
  {
   "cell_type": "code",
   "execution_count": 59,
   "metadata": {},
   "outputs": [],
   "source": [
    "model = MyDecisionTreeClassifier()"
   ]
  },
  {
   "cell_type": "code",
   "execution_count": 60,
   "metadata": {},
   "outputs": [],
   "source": [
    "cv = StratifiedKFold(n_splits=3, shuffle=True, random_state=132)"
   ]
  },
  {
   "cell_type": "code",
   "execution_count": 61,
   "metadata": {},
   "outputs": [],
   "source": [
    "gs = GridSearchCV(model, param_grid=param_grid, n_jobs=-1, \n",
    "                             cv=cv, scoring='accuracy', verbose=10)"
   ]
  },
  {
   "cell_type": "code",
   "execution_count": 62,
   "metadata": {},
   "outputs": [
    {
     "name": "stdout",
     "output_type": "stream",
     "text": [
      "Fitting 3 folds for each of 3 candidates, totalling 9 fits\n"
     ]
    },
    {
     "name": "stderr",
     "output_type": "stream",
     "text": [
      "[Parallel(n_jobs=-1)]: Using backend LokyBackend with 8 concurrent workers.\n",
      "[Parallel(n_jobs=-1)]: Done   2 out of   9 | elapsed:    1.0s remaining:    3.8s\n",
      "[Parallel(n_jobs=-1)]: Done   3 out of   9 | elapsed:    1.1s remaining:    2.2s\n",
      "[Parallel(n_jobs=-1)]: Done   4 out of   9 | elapsed:    1.1s remaining:    1.4s\n",
      "[Parallel(n_jobs=-1)]: Done   5 out of   9 | elapsed:    1.1s remaining:    0.8s\n",
      "[Parallel(n_jobs=-1)]: Done   6 out of   9 | elapsed:    1.1s remaining:    0.5s\n",
      "[Parallel(n_jobs=-1)]: Done   7 out of   9 | elapsed:    1.1s remaining:    0.2s\n",
      "[Parallel(n_jobs=-1)]: Done   9 out of   9 | elapsed:    1.6s remaining:    0.0s\n",
      "[Parallel(n_jobs=-1)]: Done   9 out of   9 | elapsed:    1.6s finished\n"
     ]
    },
    {
     "data": {
      "text/plain": [
       "GridSearchCV(cv=StratifiedKFold(n_splits=3, random_state=132, shuffle=True),\n",
       "             estimator=MyDecisionTreeClassifier(), n_jobs=-1,\n",
       "             param_grid={'criterion': ['gini', 'entropy', 'misclf']},\n",
       "             scoring='accuracy', verbose=10)"
      ]
     },
     "execution_count": 62,
     "metadata": {},
     "output_type": "execute_result"
    }
   ],
   "source": [
    "gs.fit(X_train, y_train)"
   ]
  },
  {
   "cell_type": "code",
   "execution_count": 63,
   "metadata": {},
   "outputs": [
    {
     "data": {
      "text/plain": [
       "{'criterion': 'gini'}"
      ]
     },
     "execution_count": 63,
     "metadata": {},
     "output_type": "execute_result"
    }
   ],
   "source": [
    "gs.best_params_"
   ]
  },
  {
   "cell_type": "code",
   "execution_count": 64,
   "metadata": {},
   "outputs": [
    {
     "data": {
      "text/plain": [
       "0.8296524047544583"
      ]
     },
     "execution_count": 64,
     "metadata": {},
     "output_type": "execute_result"
    }
   ],
   "source": [
    "gs.best_score_"
   ]
  },
  {
   "cell_type": "code",
   "execution_count": 65,
   "metadata": {},
   "outputs": [
    {
     "name": "stdout",
     "output_type": "stream",
     "text": [
      "my_clf accuracy_score = 0.8337468982630273\n"
     ]
    }
   ],
   "source": [
    "print(f\"my_clf accuracy_score = {accuracy_score(y_pred=gs.best_estimator_.predict(X_test), y_true=y_test)}\")"
   ]
  },
  {
   "cell_type": "markdown",
   "metadata": {},
   "source": [
    "Оптимальный критерий информативности: 'gini'"
   ]
  },
  {
   "cell_type": "markdown",
   "metadata": {},
   "source": [
    "### Строим график зависимости точности на валидации от глубины дерева:"
   ]
  },
  {
   "cell_type": "code",
   "execution_count": 129,
   "metadata": {},
   "outputs": [
    {
     "name": "stderr",
     "output_type": "stream",
     "text": [
      "[Parallel(n_jobs=-1)]: Using backend LokyBackend with 8 concurrent workers.\n",
      "[Parallel(n_jobs=-1)]: Done  29 out of  57 | elapsed:   22.0s remaining:   21.2s\n",
      "[Parallel(n_jobs=-1)]: Done  57 out of  57 | elapsed:   49.6s finished\n"
     ]
    }
   ],
   "source": [
    "model = MyDecisionTreeClassifier(criterion='gini')\n",
    "\n",
    "cv = StratifiedKFold(n_splits=3, shuffle=True, random_state=132)\n",
    "\n",
    "param_range = range(1, 20)\n",
    "tree_train_scores, tree_valid_scores = validation_curve(model, X_train, y_train, \n",
    "                                              param_name='max_depth', param_range=param_range,\n",
    "                                              cv=cv, scoring='accuracy', n_jobs=-1, verbose=2)"
   ]
  },
  {
   "cell_type": "code",
   "execution_count": 127,
   "metadata": {},
   "outputs": [
    {
     "name": "stderr",
     "output_type": "stream",
     "text": [
      "[Parallel(n_jobs=-1)]: Using backend LokyBackend with 8 concurrent workers.\n",
      "[Parallel(n_jobs=-1)]: Done  29 out of  57 | elapsed:   21.2s remaining:   20.5s\n",
      "[Parallel(n_jobs=-1)]: Done  57 out of  57 | elapsed:   46.9s finished\n"
     ]
    }
   ],
   "source": [
    "tree_train_scores_f1, tree_valid_scores_f1 = validation_curve(model, X_train, y_train, \n",
    "                                              param_name='max_depth', param_range=param_range,\n",
    "                                              cv=cv, scoring='f1_macro', n_jobs=-1, verbose=2)"
   ]
  },
  {
   "cell_type": "code",
   "execution_count": 131,
   "metadata": {
    "scrolled": false
   },
   "outputs": [
    {
     "data": {
      "text/plain": [
       "Text(0.5, 1.0, 'Validation Curve with MyDecisionTreeClassifier (max_depth vs. accuracy, f1 macro)')"
      ]
     },
     "execution_count": 131,
     "metadata": {},
     "output_type": "execute_result"
    },
    {
     "data": {
      "image/png": "[encoded data removed]",
      "text/plain": [
       "<Figure size 936x576 with 1 Axes>"
      ]
     },
     "metadata": {
      "needs_background": "light"
     },
     "output_type": "display_data"
    }
   ],
   "source": [
    "plt.figure(figsize=(13, 8))\n",
    "train_score_mean = tree_train_scores.mean(axis=1)\n",
    "train_score_std = tree_train_scores.std(axis=1)\n",
    "valid_scores_mean = tree_valid_scores.mean(axis=1)\n",
    "valid_scores_std = tree_valid_scores.std(axis=1)\n",
    "\n",
    "train_score_mean_f1 = tree_train_scores_f1.mean(axis=1)\n",
    "train_score_std_f1 = tree_train_scores_f1.std(axis=1)\n",
    "valid_scores_mean_f1 = tree_valid_scores_f1.mean(axis=1)\n",
    "valid_scores_std_f1 = tree_valid_scores_f1.std(axis=1)\n",
    "\n",
    "plt.fill_between(param_range, train_score_mean-train_score_std, train_score_mean+train_score_std, color='r',\n",
    "                 interpolate=True, alpha=0.3,)\n",
    "plt.fill_between(param_range, valid_scores_mean-valid_scores_std, valid_scores_mean+valid_scores_std, color='r', \n",
    "                 interpolate=True, alpha=0.5)\n",
    "\n",
    "plt.fill_between(param_range, train_score_mean_f1-train_score_std_f1, train_score_mean_f1+train_score_std_f1, color='b',\n",
    "                 interpolate=True, alpha=0.3,)\n",
    "plt.fill_between(param_range, valid_scores_mean_f1-valid_scores_std_f1, valid_scores_mean_f1+valid_scores_std_f1, color='b', \n",
    "                 interpolate=True, alpha=0.5)\n",
    "\n",
    "plt.plot(param_range, train_score_mean, c='r', linestyle='-.', lw=2, label=\"acc Training score\")\n",
    "plt.plot(param_range, valid_scores_mean, c='r', lw=2, label=\"acc Cross-validation score\")\n",
    "\n",
    "plt.plot(param_range, train_score_mean_f1, c='b', linestyle='-.', lw=2, label=\"F1_macro Training score\")\n",
    "plt.plot(param_range, valid_scores_mean_f1, c='b', lw=2, label=\"F1_macro Cross-validation score\")\n",
    "\n",
    "plt.xlabel('max_depth')\n",
    "plt.ylabel('scores')\n",
    "plt.legend(loc=\"best\")\n",
    "plt.title(\"Validation Curve with MyDecisionTreeClassifier (max_depth vs. accuracy, f1 macro)\")"
   ]
  },
  {
   "cell_type": "markdown",
   "metadata": {},
   "source": [
    "### Строим график зависимости точности на валидации от минимального числа объектов для сплита:"
   ]
  },
  {
   "cell_type": "code",
   "execution_count": 111,
   "metadata": {},
   "outputs": [
    {
     "name": "stderr",
     "output_type": "stream",
     "text": [
      "[Parallel(n_jobs=-1)]: Using backend LokyBackend with 8 concurrent workers.\n",
      "[Parallel(n_jobs=-1)]: Done  11 out of  21 | elapsed:    2.6s remaining:    2.3s\n",
      "[Parallel(n_jobs=-1)]: Done  21 out of  21 | elapsed:    3.6s finished\n"
     ]
    }
   ],
   "source": [
    "model = MyDecisionTreeClassifier(criterion='gini')\n",
    "\n",
    "cv = StratifiedKFold(n_splits=3, shuffle=True, random_state=132)\n",
    "\n",
    "param_range = range(2, 9)\n",
    "tree_train_scores, tree_valid_scores = validation_curve(model, X_train, y_train, \n",
    "                                              param_name='min_samples_split', param_range=param_range,\n",
    "                                              cv=cv, scoring='accuracy', n_jobs=-1, verbose=2)"
   ]
  },
  {
   "cell_type": "code",
   "execution_count": 112,
   "metadata": {},
   "outputs": [
    {
     "data": {
      "text/plain": [
       "Text(0.5, 1.0, 'Validation Curve with MyDecisionTreeClassifier (min_samples_split vs. accuracy)')"
      ]
     },
     "execution_count": 112,
     "metadata": {},
     "output_type": "execute_result"
    },
    {
     "data": {
      "image/png": "[encoded data removed]",
      "text/plain": [
       "<Figure size 936x576 with 1 Axes>"
      ]
     },
     "metadata": {
      "needs_background": "light"
     },
     "output_type": "display_data"
    }
   ],
   "source": [
    "plt.figure(figsize=(13, 8))\n",
    "train_score_mean = tree_train_scores.mean(axis=1)\n",
    "train_score_std = tree_train_scores.std(axis=1)\n",
    "valid_scores_mean = tree_valid_scores.mean(axis=1)\n",
    "valid_scores_std = tree_valid_scores.std(axis=1)\n",
    "\n",
    "plt.fill_between(param_range, train_score_mean-train_score_std, train_score_mean+train_score_std, color='b',\n",
    "                 interpolate=True, alpha=0.5,)\n",
    "plt.fill_between(param_range, valid_scores_mean-valid_scores_std, valid_scores_mean+valid_scores_std, color='r', \n",
    "                 interpolate=True, alpha=0.5)\n",
    "\n",
    "plt.plot(param_range, train_score_mean, c='b', lw=2, label=\"Training score\")\n",
    "plt.plot(param_range, valid_scores_mean, c='r', lw=2, label=\"Cross-validation score\")\n",
    "\n",
    "plt.xlabel('min_samples_split')\n",
    "plt.ylabel('accuracy')\n",
    "plt.legend(loc=\"best\")\n",
    "plt.title(\"Validation Curve with MyDecisionTreeClassifier (min_samples_split vs. accuracy)\")"
   ]
  },
  {
   "cell_type": "markdown",
   "metadata": {},
   "source": [
    "### С помощью GridSearchCV подбираем criterion, max_depth, min_samples_split"
   ]
  },
  {
   "cell_type": "code",
   "execution_count": 82,
   "metadata": {},
   "outputs": [],
   "source": [
    "X_train, X_test, y_train, y_test = train_test_split(X, y, test_size=0.2, stratify = y)"
   ]
  },
  {
   "cell_type": "code",
   "execution_count": 83,
   "metadata": {},
   "outputs": [],
   "source": [
    "param_grid = {'criterion': ['gini', 'entropy'],\n",
    "    'max_depth': range(8, 13),\n",
    "    'min_samples_split': range(2, 5)}"
   ]
  },
  {
   "cell_type": "code",
   "execution_count": 84,
   "metadata": {},
   "outputs": [],
   "source": [
    "model = MyDecisionTreeClassifier()"
   ]
  },
  {
   "cell_type": "code",
   "execution_count": 85,
   "metadata": {},
   "outputs": [],
   "source": [
    "cv = StratifiedKFold(n_splits=3, shuffle=True, random_state=132)"
   ]
  },
  {
   "cell_type": "code",
   "execution_count": 86,
   "metadata": {},
   "outputs": [],
   "source": [
    "my_gs = GridSearchCV(model, param_grid=param_grid, n_jobs=-1, \n",
    "                             cv=cv, scoring='f1_macro', verbose=10)"
   ]
  },
  {
   "cell_type": "code",
   "execution_count": 87,
   "metadata": {},
   "outputs": [
    {
     "name": "stdout",
     "output_type": "stream",
     "text": [
      "Fitting 3 folds for each of 30 candidates, totalling 90 fits\n"
     ]
    },
    {
     "name": "stderr",
     "output_type": "stream",
     "text": [
      "[Parallel(n_jobs=-1)]: Using backend LokyBackend with 8 concurrent workers.\n",
      "[Parallel(n_jobs=-1)]: Done   2 tasks      | elapsed:    3.1s\n",
      "[Parallel(n_jobs=-1)]: Done   9 tasks      | elapsed:    7.0s\n",
      "[Parallel(n_jobs=-1)]: Done  16 tasks      | elapsed:    9.0s\n",
      "[Parallel(n_jobs=-1)]: Done  25 tasks      | elapsed:   17.1s\n",
      "[Parallel(n_jobs=-1)]: Done  34 tasks      | elapsed:   24.8s\n",
      "[Parallel(n_jobs=-1)]: Done  45 tasks      | elapsed:   33.6s\n",
      "[Parallel(n_jobs=-1)]: Done  56 tasks      | elapsed:   40.0s\n",
      "[Parallel(n_jobs=-1)]: Done  69 tasks      | elapsed:   48.1s\n",
      "[Parallel(n_jobs=-1)]: Done  85 out of  90 | elapsed:  1.0min remaining:    3.6s\n",
      "[Parallel(n_jobs=-1)]: Done  90 out of  90 | elapsed:  1.1min finished\n"
     ]
    },
    {
     "data": {
      "text/plain": [
       "GridSearchCV(cv=StratifiedKFold(n_splits=3, random_state=132, shuffle=True),\n",
       "             estimator=MyDecisionTreeClassifier(), n_jobs=-1,\n",
       "             param_grid={'criterion': ['gini', 'entropy'],\n",
       "                         'max_depth': range(8, 13),\n",
       "                         'min_samples_split': range(2, 5)},\n",
       "             scoring='f1_macro', verbose=10)"
      ]
     },
     "execution_count": 87,
     "metadata": {},
     "output_type": "execute_result"
    }
   ],
   "source": [
    "my_gs.fit(X_train, y_train)"
   ]
  },
  {
   "cell_type": "code",
   "execution_count": 88,
   "metadata": {},
   "outputs": [
    {
     "data": {
      "text/plain": [
       "{'criterion': 'gini', 'max_depth': 11, 'min_samples_split': 2}"
      ]
     },
     "execution_count": 88,
     "metadata": {},
     "output_type": "execute_result"
    }
   ],
   "source": [
    "my_gs.best_params_"
   ]
  },
  {
   "cell_type": "code",
   "execution_count": 89,
   "metadata": {},
   "outputs": [
    {
     "name": "stdout",
     "output_type": "stream",
     "text": [
      "my_clf train accuracy_score = 0.9111801242236025\n",
      "my_clf test accuracy_score = 0.7913043478260869\n"
     ]
    }
   ],
   "source": [
    "print(f\"my_clf train accuracy_score = {accuracy_score(y_pred=my_gs.best_estimator_.predict(X_train), y_true=y_train)}\")\n",
    "print(f\"my_clf test accuracy_score = {accuracy_score(y_pred=my_gs.best_estimator_.predict(X_test), y_true=y_test)}\")"
   ]
  },
  {
   "cell_type": "markdown",
   "metadata": {},
   "source": [
    "### Для сравнения подберем параметры для DecisionTreeClassifier из sklearn:"
   ]
  },
  {
   "cell_type": "code",
   "execution_count": 80,
   "metadata": {},
   "outputs": [
    {
     "name": "stdout",
     "output_type": "stream",
     "text": [
      "Fitting 3 folds for each of 30 candidates, totalling 90 fits\n"
     ]
    },
    {
     "name": "stderr",
     "output_type": "stream",
     "text": [
      "[Parallel(n_jobs=-1)]: Using backend LokyBackend with 8 concurrent workers.\n",
      "[Parallel(n_jobs=-1)]: Batch computation too fast (0.0740s.) Setting batch_size=2.\n",
      "[Parallel(n_jobs=-1)]: Done   2 tasks      | elapsed:    0.0s\n",
      "[Parallel(n_jobs=-1)]: Done   9 tasks      | elapsed:    0.0s\n",
      "[Parallel(n_jobs=-1)]: Done  16 tasks      | elapsed:    0.1s\n",
      "[Parallel(n_jobs=-1)]: Batch computation too fast (0.1670s.) Setting batch_size=4.\n",
      "[Parallel(n_jobs=-1)]: Done  34 tasks      | elapsed:    0.3s\n",
      "[Parallel(n_jobs=-1)]: Done  56 tasks      | elapsed:    0.5s\n",
      "[Parallel(n_jobs=-1)]: Done  85 out of  90 | elapsed:    0.6s remaining:    0.0s\n",
      "[Parallel(n_jobs=-1)]: Done  90 out of  90 | elapsed:    0.6s finished\n"
     ]
    },
    {
     "data": {
      "text/plain": [
       "GridSearchCV(cv=StratifiedKFold(n_splits=3, random_state=132, shuffle=True),\n",
       "             estimator=DecisionTreeClassifier(), n_jobs=-1,\n",
       "             param_grid={'criterion': ['gini', 'entropy'],\n",
       "                         'max_depth': range(8, 13),\n",
       "                         'min_samples_split': range(2, 5)},\n",
       "             scoring='f1_macro', verbose=10)"
      ]
     },
     "execution_count": 80,
     "metadata": {},
     "output_type": "execute_result"
    }
   ],
   "source": [
    "model = DecisionTreeClassifier()\n",
    "gs = GridSearchCV(model, param_grid=param_grid, n_jobs=-1, \n",
    "                             cv=cv, scoring='f1_macro', verbose=10)\n",
    "gs.fit(X_train, y_train)"
   ]
  },
  {
   "cell_type": "markdown",
   "metadata": {},
   "source": [
    "#### Видим, что почти совпадают:"
   ]
  },
  {
   "cell_type": "code",
   "execution_count": 90,
   "metadata": {},
   "outputs": [
    {
     "name": "stdout",
     "output_type": "stream",
     "text": [
      "sklearn params: {'criterion': 'gini', 'max_depth': 12, 'min_samples_split': 3}\n",
      "my params: {'criterion': 'gini', 'max_depth': 11, 'min_samples_split': 2}\n"
     ]
    }
   ],
   "source": [
    "print(f\"sklearn params: {gs.best_params_}\")\n",
    "print(f\"my params: {my_gs.best_params_}\")"
   ]
  },
  {
   "cell_type": "markdown",
   "metadata": {},
   "source": [
    "## Находим самые важные признаки (2 балла)\n",
    "\n"
   ]
  },
  {
   "cell_type": "markdown",
   "metadata": {},
   "source": [
    "По построенному дереву  легко понять, какие признаки лучше всего помогли решить задачу. Часто это бывает нужно  не только  для сокращения размерности в данных, но и для лучшего понимания прикладной задачи. Например, Вы хотите понять, какие признаки стоит еще конструировать -- для этого нужно понимать, какие из текущих лучше всего работают в дереве. "
   ]
  },
  {
   "cell_type": "markdown",
   "metadata": {},
   "source": [
    "Самый простой метод -- посчитать число сплитов, где использовался данные признак. Это не лучший вариант, так как по признаку который принимает всего 2 значения, но который почти точно разделяет выборку, число сплитов будет очень 1, но при этом признак сам очень хороший. \n",
    "В этом задании предлагается для каждого признака считать суммарный gain (в лекции обозначено как Q) при использовании этого признака в сплите. Тогда даже у очень хороших признаков с маленьким число сплитов это значение должно быть довольно высоким.  "
   ]
  },
  {
   "cell_type": "markdown",
   "metadata": {},
   "source": [
    "Реализовать это довольно просто: создаете словарь номер фичи : суммарный гейн и добавляете в нужную фичу каждый раз, когда используете ее при построении дерева. "
   ]
  },
  {
   "cell_type": "markdown",
   "metadata": {},
   "source": [
    "Добавьте функционал, который определяет значения feature importance. Обучите дерево на датасете Speed Dating Data.\n",
    "Выведите 10 главных фичей по важности."
   ]
  },
  {
   "cell_type": "code",
   "execution_count": 91,
   "metadata": {},
   "outputs": [],
   "source": [
    "best_model = my_gs.best_estimator_"
   ]
  },
  {
   "cell_type": "code",
   "execution_count": 92,
   "metadata": {},
   "outputs": [],
   "source": [
    "best_model_sklearn = gs.best_estimator_"
   ]
  },
  {
   "cell_type": "code",
   "execution_count": 93,
   "metadata": {},
   "outputs": [],
   "source": [
    "feature_importances = best_model.get_feature_importance()\n",
    "feature_importances_sklearn = best_model_sklearn.feature_importances_"
   ]
  },
  {
   "cell_type": "code",
   "execution_count": 94,
   "metadata": {},
   "outputs": [],
   "source": [
    "df_X = df_pair.drop(['match', 'iid', 'pid'], axis=1)"
   ]
  },
  {
   "cell_type": "code",
   "execution_count": 95,
   "metadata": {
    "scrolled": true
   },
   "outputs": [
    {
     "data": {
      "text/html": [
       "<div>\n",
       "<style scoped>\n",
       "    .dataframe tbody tr th:only-of-type {\n",
       "        vertical-align: middle;\n",
       "    }\n",
       "\n",
       "    .dataframe tbody tr th {\n",
       "        vertical-align: top;\n",
       "    }\n",
       "\n",
       "    .dataframe thead th {\n",
       "        text-align: right;\n",
       "    }\n",
       "</style>\n",
       "<table border=\"1\" class=\"dataframe\">\n",
       "  <thead>\n",
       "    <tr style=\"text-align: right;\">\n",
       "      <th></th>\n",
       "      <th>feature</th>\n",
       "      <th>feature importace</th>\n",
       "    </tr>\n",
       "  </thead>\n",
       "  <tbody>\n",
       "    <tr>\n",
       "      <th>0</th>\n",
       "      <td>int_corr</td>\n",
       "      <td>0.392489</td>\n",
       "    </tr>\n",
       "    <tr>\n",
       "      <th>1</th>\n",
       "      <td>age</td>\n",
       "      <td>0.0544666</td>\n",
       "    </tr>\n",
       "    <tr>\n",
       "      <th>2</th>\n",
       "      <td>imprace</td>\n",
       "      <td>0.048094</td>\n",
       "    </tr>\n",
       "    <tr>\n",
       "      <th>3</th>\n",
       "      <td>exphappy_f</td>\n",
       "      <td>0.0378738</td>\n",
       "    </tr>\n",
       "    <tr>\n",
       "      <th>4</th>\n",
       "      <td>attr1_1</td>\n",
       "      <td>0.0324601</td>\n",
       "    </tr>\n",
       "    <tr>\n",
       "      <th>5</th>\n",
       "      <td>imprelig_f</td>\n",
       "      <td>0.031028</td>\n",
       "    </tr>\n",
       "    <tr>\n",
       "      <th>6</th>\n",
       "      <td>age_f</td>\n",
       "      <td>0.0239731</td>\n",
       "    </tr>\n",
       "    <tr>\n",
       "      <th>7</th>\n",
       "      <td>attr2_1_f</td>\n",
       "      <td>0.0237165</td>\n",
       "    </tr>\n",
       "    <tr>\n",
       "      <th>8</th>\n",
       "      <td>date_f</td>\n",
       "      <td>0.0222136</td>\n",
       "    </tr>\n",
       "    <tr>\n",
       "      <th>9</th>\n",
       "      <td>mn_sat_f</td>\n",
       "      <td>0.0216534</td>\n",
       "    </tr>\n",
       "  </tbody>\n",
       "</table>\n",
       "</div>"
      ],
      "text/plain": [
       "      feature feature importace\n",
       "0    int_corr          0.392489\n",
       "1         age         0.0544666\n",
       "2     imprace          0.048094\n",
       "3  exphappy_f         0.0378738\n",
       "4     attr1_1         0.0324601\n",
       "5  imprelig_f          0.031028\n",
       "6       age_f         0.0239731\n",
       "7   attr2_1_f         0.0237165\n",
       "8      date_f         0.0222136\n",
       "9    mn_sat_f         0.0216534"
      ]
     },
     "execution_count": 95,
     "metadata": {},
     "output_type": "execute_result"
    }
   ],
   "source": [
    "feature_importances_sorted = np.argsort(feature_importances)[::-1]\n",
    "feature_importances_sorted_sklearn = np.argsort(feature_importances_sklearn)[::-1]\n",
    "df_features = pd.DataFrame([\n",
    "                            df_X.columns[feature_importances_sorted],\n",
    "                            feature_importances[feature_importances_sorted],\n",
    "                            ],\n",
    "                            index = [ \"feature\", \"feature importace\"]).T\n",
    "\n",
    "df_features_sklearn = pd.DataFrame([\n",
    "                            df_X.columns[feature_importances_sorted_sklearn],\n",
    "                            feature_importances_sklearn[feature_importances_sorted_sklearn],\n",
    "                            ],\n",
    "                            index = [ \"feature\", \"feature importace\"]).T\n",
    "df_features.iloc[:10]"
   ]
  },
  {
   "cell_type": "code",
   "execution_count": 96,
   "metadata": {},
   "outputs": [
    {
     "data": {
      "text/html": [
       "<div>\n",
       "<style scoped>\n",
       "    .dataframe tbody tr th:only-of-type {\n",
       "        vertical-align: middle;\n",
       "    }\n",
       "\n",
       "    .dataframe tbody tr th {\n",
       "        vertical-align: top;\n",
       "    }\n",
       "\n",
       "    .dataframe thead th {\n",
       "        text-align: right;\n",
       "    }\n",
       "</style>\n",
       "<table border=\"1\" class=\"dataframe\">\n",
       "  <thead>\n",
       "    <tr style=\"text-align: right;\">\n",
       "      <th></th>\n",
       "      <th>feature</th>\n",
       "      <th>feature importace</th>\n",
       "    </tr>\n",
       "  </thead>\n",
       "  <tbody>\n",
       "    <tr>\n",
       "      <th>0</th>\n",
       "      <td>int_corr</td>\n",
       "      <td>0.0823643</td>\n",
       "    </tr>\n",
       "    <tr>\n",
       "      <th>1</th>\n",
       "      <td>fun2_1_f</td>\n",
       "      <td>0.0433612</td>\n",
       "    </tr>\n",
       "    <tr>\n",
       "      <th>2</th>\n",
       "      <td>fun1_1_f</td>\n",
       "      <td>0.0379921</td>\n",
       "    </tr>\n",
       "    <tr>\n",
       "      <th>3</th>\n",
       "      <td>intel2_1_f</td>\n",
       "      <td>0.037288</td>\n",
       "    </tr>\n",
       "    <tr>\n",
       "      <th>4</th>\n",
       "      <td>amb1_1_f</td>\n",
       "      <td>0.0371229</td>\n",
       "    </tr>\n",
       "    <tr>\n",
       "      <th>5</th>\n",
       "      <td>exphappy_f</td>\n",
       "      <td>0.0345052</td>\n",
       "    </tr>\n",
       "    <tr>\n",
       "      <th>6</th>\n",
       "      <td>age_f</td>\n",
       "      <td>0.0339185</td>\n",
       "    </tr>\n",
       "    <tr>\n",
       "      <th>7</th>\n",
       "      <td>exphappy</td>\n",
       "      <td>0.0333167</td>\n",
       "    </tr>\n",
       "    <tr>\n",
       "      <th>8</th>\n",
       "      <td>imprelig_f</td>\n",
       "      <td>0.0289567</td>\n",
       "    </tr>\n",
       "    <tr>\n",
       "      <th>9</th>\n",
       "      <td>age</td>\n",
       "      <td>0.0286927</td>\n",
       "    </tr>\n",
       "  </tbody>\n",
       "</table>\n",
       "</div>"
      ],
      "text/plain": [
       "      feature feature importace\n",
       "0    int_corr         0.0823643\n",
       "1    fun2_1_f         0.0433612\n",
       "2    fun1_1_f         0.0379921\n",
       "3  intel2_1_f          0.037288\n",
       "4    amb1_1_f         0.0371229\n",
       "5  exphappy_f         0.0345052\n",
       "6       age_f         0.0339185\n",
       "7    exphappy         0.0333167\n",
       "8  imprelig_f         0.0289567\n",
       "9         age         0.0286927"
      ]
     },
     "execution_count": 96,
     "metadata": {},
     "output_type": "execute_result"
    }
   ],
   "source": [
    "df_features_sklearn.iloc[:10]"
   ]
  },
  {
   "cell_type": "markdown",
   "metadata": {},
   "source": [
    "Видим, что признаки частично совпали.\n",
    "\n",
    "- int_corr - \"Корреляция между интересами пар\"\n",
    "- age_f - возраст\n",
    "- mn_sat_f - Средний балл по SAT для вуза, в котором учился\n",
    "- imprace_f - \"Насколько важно для вас (по шкале от 1 до 10), чтобы человек, с которым вы встречаетесь, принадлежал к той же расовой / этнической принадлежности?\"\n",
    "- shar1_1_f - \"Имеет общие интересы / хобби.\"\n",
    "- sinc1_1_f - \"Искренность\""
   ]
  },
  {
   "cell_type": "markdown",
   "metadata": {},
   "source": [
    "## Фидбек (бесценно)"
   ]
  },
  {
   "cell_type": "markdown",
   "metadata": {},
   "source": [
    "* Какие аспекты обучения деревьев решений Вам показались непонятными? Какое место стоит дополнительно объяснить?"
   ]
  },
  {
   "cell_type": "markdown",
   "metadata": {},
   "source": [
    "### Ваш ответ здесь"
   ]
  },
  {
   "cell_type": "markdown",
   "metadata": {},
   "source": [
    "* Здесь Вы можете оставить отзыв о этой домашней работе или о всем курсе."
   ]
  },
  {
   "cell_type": "markdown",
   "metadata": {},
   "source": [
    "### ВАШ ОТЗЫВ ЗДЕСЬ\n",
    "\n"
   ]
  },
  {
   "cell_type": "code",
   "execution_count": null,
   "metadata": {
    "collapsed": true
   },
   "outputs": [],
   "source": []
  },
  {
   "cell_type": "code",
   "execution_count": null,
   "metadata": {
    "collapsed": true
   },
   "outputs": [],
   "source": []
  }
 ],
 "metadata": {
  "anaconda-cloud": {},
  "kernelspec": {
   "display_name": "Python 3",
   "language": "python",
   "name": "python3"
  },
  "language_info": {
   "codemirror_mode": {
    "name": "ipython",
    "version": 3
   },
   "file_extension": ".py",
   "mimetype": "text/x-python",
   "name": "python",
   "nbconvert_exporter": "python",
   "pygments_lexer": "ipython3",
   "version": "3.8.5"
  }
 },
 "nbformat": 4,
 "nbformat_minor": 2
}
