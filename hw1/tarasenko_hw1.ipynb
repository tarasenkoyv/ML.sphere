{
 "cells": [
  {
   "cell_type": "markdown",
   "metadata": {
    "id": "AxbLrw_V4lvV"
   },
   "source": [
    "**Общая информация**\n",
    "\n",
    "**Срок сдачи:** 29 марта 2021, 08:30 \n",
    "\n",
    "**Штраф за опоздание:** по 1 баллу за 24 часа задержки. Через 5 дней домашнее задание сгорает.\n",
    "\n",
    "При отправлении ДЗ указывайте фамилию в названии файла\n",
    "Присылать ДЗ необходимо в виде ссылки на свой github репозиторий на почту ml1.sphere@mail.ru с указанием темы в следующем формате:\n",
    "\n",
    "[ML0220, Задание 1] Фамилия Имя.\n",
    "\n",
    "Используйте данный Ipython Notebook при оформлении домашнего задания."
   ]
  },
  {
   "cell_type": "markdown",
   "metadata": {
    "id": "l7p5oFmL4lvh"
   },
   "source": [
    "\n",
    "**Штрафные баллы:**\n",
    "\n",
    "1. Отсутствие фамилии в имени скрипта (скрипт должен называться по аналогии со stroykova_hw1.ipynb) -0.5 баллов\n",
    "2. Все строчки должны быть выполнены. Нужно, чтобы output команды можно было увидеть уже в git'е. В противном случае -0.5 баллов\n"
   ]
  },
  {
   "cell_type": "code",
   "execution_count": 23,
   "metadata": {
    "id": "Co_UjZ254lvi"
   },
   "outputs": [],
   "source": [
    "import numpy as np\n",
    "import matplotlib.pyplot as plt\n",
    "\n",
    "import seaborn as sns\n",
    "from sklearn import datasets\n",
    "from sklearn.base import BaseEstimator\n",
    "from sklearn.datasets import fetch_openml, fetch_20newsgroups\n",
    "\n",
    "from sklearn.model_selection import train_test_split\n",
    "from sklearn.neighbors import KNeighborsClassifier\n",
    "from sklearn.metrics import accuracy_score\n",
    "\n",
    "from scipy import stats\n",
    "from scipy.spatial.distance import cdist\n",
    "from sklearn.neighbors import KDTree\n",
    "\n",
    "from sklearn.feature_extraction.text import CountVectorizer\n",
    "from sklearn.feature_extraction.text import TfidfVectorizer\n",
    "from sklearn.model_selection import cross_val_score\n",
    "from sklearn.model_selection import StratifiedKFold\n",
    "from sklearn.metrics.pairwise import pairwise_distances\n",
    "from scipy.sparse import csr_matrix, issparse"
   ]
  },
  {
   "cell_type": "markdown",
   "metadata": {
    "id": "ey4iDzzj4lvj"
   },
   "source": [
    "##### Задание 1 (1 балл)\n",
    "Реализовать KNN в классе MyKNeighborsClassifier (обязательное условие: точность не ниже sklearn реализации)\n",
    "Разберитесь самостоятельно, какая мера расстояния используется в KNeighborsClassifier дефолтно и реализуйте свой алгоритм именно с этой мерой. \n",
    "Для подсчета расстояний можно использовать функции [отсюда](https://docs.scipy.org/doc/scipy/reference/spatial.distance.html)"
   ]
  },
  {
   "cell_type": "code",
   "execution_count": 24,
   "metadata": {
    "id": "Tq1Owex54lvk"
   },
   "outputs": [],
   "source": [
    "class MyKNeighborsClassifier(BaseEstimator):\n",
    "    \n",
    "    def __init__(self, n_neighbors, algorithm='brute', metric=\"euclidean\"):\n",
    "        self.n_neighbors = n_neighbors\n",
    "        self.algorithm = algorithm\n",
    "\n",
    "        self.leaf_size = 30\n",
    "        self.effective_metric_ = metric\n",
    "        self.effective_metric_params_ = {}\n",
    "\n",
    "    def fit(self, X, y):\n",
    "        self.classes_, self._y = np.unique(y, return_inverse=True)\n",
    "            \n",
    "        self._fit_method = self.algorithm\n",
    "        self._fit_X = X\n",
    "        self.n_samples_fit_ = X.shape[0]\n",
    "\n",
    "        if self._fit_method == 'brute':\n",
    "            self._tree = None\n",
    "        elif self._fit_method == 'kd_tree':\n",
    "            self._tree = KDTree(X, self.leaf_size,\n",
    "                                metric=self.effective_metric_,\n",
    "                                **self.effective_metric_params_)\n",
    "\n",
    "        return self\n",
    "\n",
    "    def predict(self, X):\n",
    "        _y = self._y.reshape((-1, 1))\n",
    "        neigh_ind = self.kneighbors(X)\n",
    "\n",
    "        mode, _ = stats.mode(_y[neigh_ind, 0], axis=1)\n",
    "        mode = np.asarray(mode.ravel(), dtype=np.intp)\n",
    "        y_pred = self.classes_.take(mode)\n",
    "        \n",
    "        return y_pred\n",
    "\n",
    "    def kneighbors(self, X=None):\n",
    "        results = None\n",
    "        if self._fit_method == 'brute':\n",
    "            if issparse(X):\n",
    "                dist = pairwise_distances(X, self._fit_X, self.effective_metric_)\n",
    "            else:\n",
    "                dist = cdist(X, self._fit_X, self.effective_metric_)\n",
    "            results = self._kneighbors_reduce_func(dist, 0, self.n_neighbors)\n",
    "        elif self._fit_method == 'kd_tree':\n",
    "            results = self._tree.query(X, k=self.n_neighbors)[1]\n",
    "        else:\n",
    "            raise ValueError(\"internal: _fit_method not recognized\")\n",
    "\n",
    "        return results\n",
    "\n",
    "    def _kneighbors_reduce_func(self, dist, start, n_neighbors):\n",
    "        sample_range = np.arange(dist.shape[0])[:, None]\n",
    "        neigh_ind = np.argpartition(dist, n_neighbors - 1, axis=1)\n",
    "        neigh_ind = neigh_ind[:, :n_neighbors]\n",
    "        # argpartition doesn't guarantee sorted order, so we sort again\n",
    "        neigh_ind = neigh_ind[\n",
    "            sample_range, np.argsort(dist[sample_range, neigh_ind])]\n",
    "        result = neigh_ind\n",
    "        return result\n",
    "    "
   ]
  },
  {
   "cell_type": "markdown",
   "metadata": {
    "id": "Tu6Oj3M04lvm"
   },
   "source": [
    "**IRIS**\n",
    "\n",
    "В библиотеке scikit-learn есть несколько датасетов из коробки. Один из них [Ирисы Фишера](https://ru.wikipedia.org/wiki/%D0%98%D1%80%D0%B8%D1%81%D1%8B_%D0%A4%D0%B8%D1%88%D0%B5%D1%80%D0%B0)"
   ]
  },
  {
   "cell_type": "code",
   "execution_count": 25,
   "metadata": {
    "id": "VAc-5BQO4lvm"
   },
   "outputs": [],
   "source": [
    "iris = datasets.load_iris()"
   ]
  },
  {
   "cell_type": "code",
   "execution_count": 26,
   "metadata": {
    "id": "wU-GkSdY4lvn"
   },
   "outputs": [],
   "source": [
    "X_train, X_test, y_train, y_test = train_test_split(iris.data, iris.target, test_size=0.1, stratify=iris.target)"
   ]
  },
  {
   "cell_type": "code",
   "execution_count": 27,
   "metadata": {
    "id": "a1P4bld34lvn"
   },
   "outputs": [],
   "source": [
    "clf = KNeighborsClassifier(n_neighbors=2, algorithm='brute')\n",
    "my_clf = MyKNeighborsClassifier(n_neighbors=2, algorithm='brute')"
   ]
  },
  {
   "cell_type": "code",
   "execution_count": 30,
   "metadata": {
    "colab": {
     "base_uri": "https://localhost:8080/"
    },
    "id": "NotmjrA24lvo",
    "outputId": "1a3130af-fbcc-4479-ab49-52e53f61a99c"
   },
   "outputs": [
    {
     "data": {
      "text/plain": [
       "KNeighborsClassifier(algorithm='brute', n_neighbors=2)"
      ]
     },
     "execution_count": 30,
     "metadata": {},
     "output_type": "execute_result"
    }
   ],
   "source": [
    "clf.fit(X_train, y_train)"
   ]
  },
  {
   "cell_type": "code",
   "execution_count": 32,
   "metadata": {},
   "outputs": [
    {
     "data": {
      "text/plain": [
       "MyKNeighborsClassifier(metric=None, n_neighbors=2)"
      ]
     },
     "execution_count": 32,
     "metadata": {},
     "output_type": "execute_result"
    }
   ],
   "source": [
    "my_clf.fit(X_train, y_train)"
   ]
  },
  {
   "cell_type": "code",
   "execution_count": 33,
   "metadata": {
    "id": "OpTf0a6u4lvq"
   },
   "outputs": [],
   "source": [
    "sklearn_pred = clf.predict(X_test)\n",
    "my_clf_pred = my_clf.predict(X_test)\n",
    "assert abs( accuracy_score(y_test, my_clf_pred) -  accuracy_score(y_test, sklearn_pred ) )<0.005, \"Score must be simillar\""
   ]
  },
  {
   "cell_type": "markdown",
   "metadata": {
    "id": "-eDZMjxt4lvq"
   },
   "source": [
    "**Задание 2 (0.5 балла)**\n",
    "\n",
    "Давайте попробуем добиться скорости работы на fit, predict сравнимой со sklearn для iris. Допускается замедление не более чем в 2 раза. \n",
    "Для этого используем numpy. "
   ]
  },
  {
   "cell_type": "code",
   "execution_count": 34,
   "metadata": {
    "colab": {
     "base_uri": "https://localhost:8080/"
    },
    "id": "4X2Vl4Ca4lvr",
    "outputId": "2a25b9df-2cb8-43a0-892e-b477bdd0259e"
   },
   "outputs": [
    {
     "name": "stdout",
     "output_type": "stream",
     "text": [
      "Wall time: 1 ms\n"
     ]
    },
    {
     "data": {
      "text/plain": [
       "KNeighborsClassifier(algorithm='brute', n_neighbors=2)"
      ]
     },
     "execution_count": 34,
     "metadata": {},
     "output_type": "execute_result"
    }
   ],
   "source": [
    "%time clf.fit(X_train, y_train)"
   ]
  },
  {
   "cell_type": "code",
   "execution_count": 36,
   "metadata": {
    "colab": {
     "base_uri": "https://localhost:8080/"
    },
    "id": "FczH0sQ24lvs",
    "outputId": "41a1050f-d9a4-4dd9-b82c-0a34598b8abe"
   },
   "outputs": [
    {
     "name": "stdout",
     "output_type": "stream",
     "text": [
      "Wall time: 1 ms\n"
     ]
    },
    {
     "data": {
      "text/plain": [
       "MyKNeighborsClassifier(metric=None, n_neighbors=2)"
      ]
     },
     "execution_count": 36,
     "metadata": {},
     "output_type": "execute_result"
    }
   ],
   "source": [
    "%time my_clf.fit(X_train, y_train)"
   ]
  },
  {
   "cell_type": "code",
   "execution_count": 37,
   "metadata": {
    "colab": {
     "base_uri": "https://localhost:8080/"
    },
    "id": "lr9IOIv84lvt",
    "outputId": "4d6c93e7-5d4c-42e1-bbe7-6d47484cdab0"
   },
   "outputs": [
    {
     "name": "stdout",
     "output_type": "stream",
     "text": [
      "Wall time: 4 ms\n"
     ]
    },
    {
     "data": {
      "text/plain": [
       "array([2, 2, 1, 0, 1, 0, 2, 2, 1, 1, 0, 2, 1, 0, 0])"
      ]
     },
     "execution_count": 37,
     "metadata": {},
     "output_type": "execute_result"
    }
   ],
   "source": [
    "%time clf.predict(X_test)"
   ]
  },
  {
   "cell_type": "code",
   "execution_count": 38,
   "metadata": {
    "colab": {
     "base_uri": "https://localhost:8080/"
    },
    "id": "dRdjZEBZ4lvt",
    "outputId": "f4341c77-6818-428e-858d-8e3ce4d724fd"
   },
   "outputs": [
    {
     "name": "stdout",
     "output_type": "stream",
     "text": [
      "Wall time: 3 ms\n"
     ]
    },
    {
     "data": {
      "text/plain": [
       "array([2, 2, 1, 0, 1, 0, 2, 2, 1, 1, 0, 2, 1, 0, 0])"
      ]
     },
     "execution_count": 38,
     "metadata": {},
     "output_type": "execute_result"
    }
   ],
   "source": [
    "%time my_clf.predict(X_test)"
   ]
  },
  {
   "cell_type": "markdown",
   "metadata": {
    "id": "rbqn2ddW4lvu"
   },
   "source": [
    "###### Задание 3 (1 балл)\n",
    "Добавьте algorithm='kd_tree' в реализацию KNN (использовать KDTree из sklearn.neighbors). Необходимо добиться скорости работы на fit,  predict сравнимой со sklearn для iris. Допускается замедление не более чем в 2 раза. \n",
    "Для этого используем numpy. Точность не должна уступать значению KNN из sklearn. "
   ]
  },
  {
   "cell_type": "code",
   "execution_count": 39,
   "metadata": {
    "id": "YEf-rFfy4lvu"
   },
   "outputs": [],
   "source": [
    "clf = KNeighborsClassifier(n_neighbors=2, algorithm='kd_tree')\n",
    "my_clf = MyKNeighborsClassifier(n_neighbors=2, algorithm='kd_tree')"
   ]
  },
  {
   "cell_type": "code",
   "execution_count": 40,
   "metadata": {
    "id": "fu8ldmjH4lvv"
   },
   "outputs": [],
   "source": [
    "X_train, X_test, y_train, y_test = train_test_split(iris.data, iris.target, test_size=0.1, stratify=iris.target)"
   ]
  },
  {
   "cell_type": "code",
   "execution_count": 41,
   "metadata": {
    "colab": {
     "base_uri": "https://localhost:8080/"
    },
    "id": "1kkvOxmg4lvv",
    "outputId": "3ef08fa5-08e6-4732-e93e-89c112cfd559"
   },
   "outputs": [
    {
     "name": "stdout",
     "output_type": "stream",
     "text": [
      "Wall time: 2 ms\n"
     ]
    },
    {
     "data": {
      "text/plain": [
       "KNeighborsClassifier(algorithm='kd_tree', n_neighbors=2)"
      ]
     },
     "execution_count": 41,
     "metadata": {},
     "output_type": "execute_result"
    }
   ],
   "source": [
    "%time clf.fit(X_train, y_train)"
   ]
  },
  {
   "cell_type": "code",
   "execution_count": 43,
   "metadata": {
    "colab": {
     "base_uri": "https://localhost:8080/"
    },
    "id": "saN6XTLe4lvv",
    "outputId": "cd2b85ac-bd7a-4c53-a126-1fc11817a98c"
   },
   "outputs": [
    {
     "name": "stdout",
     "output_type": "stream",
     "text": [
      "Wall time: 0 ns\n"
     ]
    },
    {
     "data": {
      "text/plain": [
       "MyKNeighborsClassifier(algorithm='kd_tree', metric=None, n_neighbors=2)"
      ]
     },
     "execution_count": 43,
     "metadata": {},
     "output_type": "execute_result"
    }
   ],
   "source": [
    "%time my_clf.fit(X_train, y_train)"
   ]
  },
  {
   "cell_type": "code",
   "execution_count": 44,
   "metadata": {
    "colab": {
     "base_uri": "https://localhost:8080/"
    },
    "id": "v91ePaNy4lvw",
    "outputId": "bfd304a9-9e5a-475d-8f4e-d848533c8c20"
   },
   "outputs": [
    {
     "name": "stdout",
     "output_type": "stream",
     "text": [
      "Wall time: 3 ms\n"
     ]
    },
    {
     "data": {
      "text/plain": [
       "array([1, 1, 1, 2, 0, 0, 0, 1, 0, 1, 2, 1, 0, 2, 1])"
      ]
     },
     "execution_count": 44,
     "metadata": {},
     "output_type": "execute_result"
    }
   ],
   "source": [
    "%time clf.predict(X_test)"
   ]
  },
  {
   "cell_type": "code",
   "execution_count": 45,
   "metadata": {
    "colab": {
     "base_uri": "https://localhost:8080/"
    },
    "id": "Z6sAIm8W4lvw",
    "outputId": "4ae6f3b7-c94f-4392-b0bc-dffcd8d832c6"
   },
   "outputs": [
    {
     "name": "stdout",
     "output_type": "stream",
     "text": [
      "Wall time: 2.96 ms\n"
     ]
    },
    {
     "data": {
      "text/plain": [
       "array([1, 1, 1, 2, 0, 0, 0, 1, 0, 1, 2, 1, 0, 2, 1])"
      ]
     },
     "execution_count": 45,
     "metadata": {},
     "output_type": "execute_result"
    }
   ],
   "source": [
    "%time my_clf.predict(X_test)"
   ]
  },
  {
   "cell_type": "code",
   "execution_count": 46,
   "metadata": {
    "id": "rXva_OJ24lvx"
   },
   "outputs": [],
   "source": [
    "sklearn_pred = clf.predict(X_test)\n",
    "my_clf_pred = my_clf.predict(X_test)\n",
    "assert abs( accuracy_score(y_test, my_clf_pred) -  accuracy_score(y_test, sklearn_pred ) )<0.005, \"Score must be simillar\""
   ]
  },
  {
   "cell_type": "markdown",
   "metadata": {
    "id": "MLyJNse_4lvy"
   },
   "source": [
    "**Задание 4 (2.5 балла)**\n",
    "\n",
    "Рассмотрим новый датасет 20 newsgroups"
   ]
  },
  {
   "cell_type": "code",
   "execution_count": 146,
   "metadata": {
    "id": "zb-7M7Ih4lvy"
   },
   "outputs": [],
   "source": [
    "newsgroups_train = fetch_20newsgroups(subset='train',remove=['headers','footers', 'quotes'])"
   ]
  },
  {
   "cell_type": "code",
   "execution_count": 152,
   "metadata": {
    "collapsed": true,
    "id": "75cHL5r24lvz"
   },
   "outputs": [],
   "source": [
    "train_data = newsgroups_train['data']\n",
    "train_target = newsgroups_train['target']"
   ]
  },
  {
   "cell_type": "markdown",
   "metadata": {
    "id": "yHMna-8O4lvz"
   },
   "source": [
    "Преобразуйте текстовые данные из data с помощью [CountVectorizer](https://scikit-learn.org/stable/modules/generated/sklearn.feature_extraction.text.CountVectorizer.html). Словарь можно ограничить по частотности."
   ]
  },
  {
   "cell_type": "code",
   "execution_count": 154,
   "metadata": {
    "collapsed": true,
    "id": "JieuG8Zc4lvz"
   },
   "outputs": [],
   "source": [
    "vect = CountVectorizer(max_df=.15, stop_words=\"english\", max_features = 10_000, ngram_range = (1, 3))\n",
    "vect.fit(train_data)\n",
    "train_input_csr = vect.transform(train_data)"
   ]
  },
  {
   "cell_type": "markdown",
   "metadata": {
    "id": "6IOwdG1X4lv0"
   },
   "source": [
    "*Так мы получили векторное представление наших текстов. Значит можно приступать к задаче обучения модели*"
   ]
  },
  {
   "cell_type": "markdown",
   "metadata": {
    "id": "4huc_vJ84lv0"
   },
   "source": [
    "Реализуйте разбиение выборки для кросс-валидации на 3 фолдах. Разрешено использовать sklearn.cross_validation"
   ]
  },
  {
   "cell_type": "code",
   "execution_count": 212,
   "metadata": {
    "collapsed": true,
    "id": "kk2ES-6q4lv0"
   },
   "outputs": [],
   "source": [
    "def cross_val_score2(input_csr, target, n_neighbors=1, algorithm='brute', metric='euclidean', n_splits=3):\n",
    "    scores = []\n",
    "    skf = StratifiedKFold(n_splits=n_splits)\n",
    "    for train_idx, test_idx in skf.split(input_csr, target):\n",
    "        X_train, X_test = input_csr[train_idx], input_csr[test_idx]\n",
    "        y_train, y_test = target[train_idx], target[test_idx]\n",
    "        my_clf = MyKNeighborsClassifier(n_neighbors=n_neighbors, algorithm=algorithm, metric=metric)\n",
    "        my_clf.fit(X_train, y_train)\n",
    "        my_clf_pred = my_clf.predict(X_test)\n",
    "        scores.append(accuracy_score(y_test, my_clf_pred))\n",
    "    return sum(scores)/len(scores)"
   ]
  },
  {
   "cell_type": "code",
   "execution_count": 214,
   "metadata": {
    "colab": {
     "base_uri": "https://localhost:8080/"
    },
    "collapsed": true,
    "id": "aFADSASD4lv2",
    "outputId": "00abfb41-88ef-4590-d71d-d43e5be7fc3d"
   },
   "outputs": [
    {
     "data": {
      "text/plain": [
       "0.28760794153892905"
      ]
     },
     "execution_count": 214,
     "metadata": {
      "tags": []
     },
     "output_type": "execute_result"
    }
   ],
   "source": [
    "cross_val_score2(train_input_csr, train_target, n_neighbors=1)"
   ]
  },
  {
   "cell_type": "markdown",
   "metadata": {
    "id": "4m2kef324lv2"
   },
   "source": [
    "Напишите метод, позволяющий найти оптимальное количество ближайших соседей(дающее максимальную точность в среднем на валидации на 3 фолдах).\n",
    "Постройте график зависимости средней точности от количества соседей. Можно рассмотреть число соседей от 1 до 10."
   ]
  },
  {
   "cell_type": "code",
   "execution_count": 134,
   "metadata": {
    "collapsed": true,
    "id": "1m_iMtO14lv3"
   },
   "outputs": [],
   "source": [
    "def get_best_n_neighbors(input_csr, target, metric='euclidean'):\n",
    "    scores = np.array([cross_val_score2(input_csr, target, n_neighbors=n_neighbors, metric=metric) for n_neighbors in range(1, 11)])\n",
    "    idx = np.argmax(scores)\n",
    "    return (idx + 1, scores[idx])"
   ]
  },
  {
   "cell_type": "code",
   "execution_count": 215,
   "metadata": {
    "colab": {
     "base_uri": "https://localhost:8080/"
    },
    "id": "xyDsAUBPBrK1",
    "outputId": "0a793b66-de94-4486-8a2e-bdc798a7cab2"
   },
   "outputs": [
    {
     "data": {
      "text/plain": [
       "(1, 0.28760794153892905)"
      ]
     },
     "execution_count": 215,
     "metadata": {
      "tags": []
     },
     "output_type": "execute_result"
    }
   ],
   "source": [
    "get_best_n_neighbors(train_input_csr, train_target)"
   ]
  },
  {
   "cell_type": "code",
   "execution_count": 216,
   "metadata": {
    "id": "8SYk3dWMF8Uh"
   },
   "outputs": [],
   "source": [
    "x_values = range(1, 11)\n",
    "y_values1 = [cross_val_score2(train_input_csr, train_target, n_neighbors=n_neighbors) for n_neighbors in x_values]"
   ]
  },
  {
   "cell_type": "code",
   "execution_count": 127,
   "metadata": {
    "colab": {
     "base_uri": "https://localhost:8080/",
     "height": 353
    },
    "id": "LHtAFl8UFOYi",
    "outputId": "70af3289-0870-4a66-d40d-551fd9beeba7"
   },
   "outputs": [
    {
     "data": {
      "text/plain": [
       "<matplotlib.legend.Legend at 0x7f3d23500d90>"
      ]
     },
     "execution_count": 127,
     "metadata": {
      "tags": []
     },
     "output_type": "execute_result"
    },
    {
     "data": {
      "image/png": "[encoded data removed]",
      "text/plain": [
       "<Figure size 1008x360 with 1 Axes>"
      ]
     },
     "metadata": {
      "needs_background": "light",
      "tags": []
     },
     "output_type": "display_data"
    }
   ],
   "source": [
    "fig = plt.figure(figsize= (14,5))\n",
    "ax1 = fig.add_subplot(111)\n",
    "ax1.set_title(\"График зависимости средней точности от количества соседей\")\n",
    "plt.plot(x_values, y_values1, label=\"accuracy\")\n",
    "plt.legend()"
   ]
  },
  {
   "cell_type": "markdown",
   "metadata": {
    "id": "G5vCm-pl4lv3"
   },
   "source": [
    "Как изменится качество на валидации, если:\n",
    "\n",
    "1. Используется косинусная метрика вместо евклидовой.\n",
    "2. К текстам применяется TfIdf векторизацию( sklearn.feature_extraction.text.TfidfVectorizer)\n",
    "\n",
    "Сравните модели, выберите лучшую."
   ]
  },
  {
   "cell_type": "code",
   "execution_count": 166,
   "metadata": {
    "id": "R-HzXgbpPYvZ"
   },
   "outputs": [],
   "source": [
    "y_values2 = [cross_val_score2(train_input_csr, train_target, n_neighbors=n_neighbors, metric='cosine') for n_neighbors in x_values]"
   ]
  },
  {
   "cell_type": "code",
   "execution_count": 217,
   "metadata": {
    "id": "zKSN-ZzhPmuU"
   },
   "outputs": [],
   "source": [
    "vect_tfidf = TfidfVectorizer(max_df=.15, stop_words=\"english\", max_features = 10_000, ngram_range = (1, 3))          \n",
    "vect_tfidf.fit(train_data)   \n",
    "train_input_csr_tfidf = vect_tfidf.transform(train_data)  "
   ]
  },
  {
   "cell_type": "code",
   "execution_count": 175,
   "metadata": {
    "id": "744otnM-PrM-"
   },
   "outputs": [],
   "source": [
    "y_values3 = [cross_val_score2(train_input_csr_tfidf, train_target, n_neighbors=n_neighbors, metric='cosine') for n_neighbors in x_values]"
   ]
  },
  {
   "cell_type": "code",
   "execution_count": 218,
   "metadata": {
    "colab": {
     "base_uri": "https://localhost:8080/"
    },
    "id": "F9dxKZvtQ35t",
    "outputId": "e241dcd2-ff77-438e-bcbd-7ed16aade7d2"
   },
   "outputs": [
    {
     "data": {
      "text/plain": [
       "(10, 0.6366458355185745)"
      ]
     },
     "execution_count": 218,
     "metadata": {
      "tags": []
     },
     "output_type": "execute_result"
    }
   ],
   "source": [
    "get_best_n_neighbors(train_input_csr_tfidf, train_target, metric='cosine')"
   ]
  },
  {
   "cell_type": "code",
   "execution_count": 219,
   "metadata": {
    "colab": {
     "base_uri": "https://localhost:8080/",
     "height": 353
    },
    "id": "tiJJT-WUPvLN",
    "outputId": "caa0c482-a29b-4b50-b7af-b34836f2dbbf"
   },
   "outputs": [
    {
     "data": {
      "text/plain": [
       "<matplotlib.legend.Legend at 0x7f3d074f0290>"
      ]
     },
     "execution_count": 219,
     "metadata": {
      "tags": []
     },
     "output_type": "execute_result"
    },
    {
     "data": {
      "image/png": "[encoded data removed]",
      "text/plain": [
       "<Figure size 1008x360 with 1 Axes>"
      ]
     },
     "metadata": {
      "needs_background": "light",
      "tags": []
     },
     "output_type": "display_data"
    }
   ],
   "source": [
    "fig = plt.figure(figsize= (14,5))\n",
    "ax1 = fig.add_subplot(111)\n",
    "ax1.set_title(\"График зависимости средней точности от количества соседей\")\n",
    "plt.plot(x_values, y_values1, label=\"euclidean\")\n",
    "plt.plot(x_values, y_values2, label=\"cosine\")\n",
    "plt.plot(x_values, y_values3, label=\"cosine+tf_idf\")\n",
    "plt.legend()"
   ]
  },
  {
   "cell_type": "markdown",
   "metadata": {
    "id": "O_5ycq2XVhPI"
   },
   "source": [
    "Качество улучшилось при использовании косинусной меры +  TfIdf. Лучшая модель \"cosine+tf_idf\"."
   ]
  },
  {
   "cell_type": "markdown",
   "metadata": {
    "id": "hom1qFxn4lv3"
   },
   "source": [
    "Загрузим  теперь test  часть нашей выборки и преобразуем её аналогично с train частью. Не забудьте, что наборы слов в train и test части могут отличаться."
   ]
  },
  {
   "cell_type": "code",
   "execution_count": 143,
   "metadata": {
    "collapsed": true,
    "id": "qbR4kKjY4lv4"
   },
   "outputs": [],
   "source": [
    "newsgroups_test = fetch_20newsgroups(subset='test',remove=['headers','footers', 'quotes'])"
   ]
  },
  {
   "cell_type": "code",
   "execution_count": 144,
   "metadata": {
    "id": "bXyzPoVHLz8V"
   },
   "outputs": [],
   "source": [
    "test_data = newsgroups_test['data']\n",
    "test_target = newsgroups_test['target']"
   ]
  },
  {
   "cell_type": "markdown",
   "metadata": {
    "id": "uPj_iRmC4lv4"
   },
   "source": [
    "Оценим точность вашей лучшей модели на test части датасета. Отличается ли оно от кросс-валидации? Попробуйте сделать выводы, почему отличается качество."
   ]
  },
  {
   "cell_type": "code",
   "execution_count": 185,
   "metadata": {
    "id": "5tmCt02WMSay"
   },
   "outputs": [],
   "source": [
    "test_input_csr = vect_tfidf.transform(test_data)"
   ]
  },
  {
   "cell_type": "code",
   "execution_count": 191,
   "metadata": {
    "id": "cyHh-cCDUXgi"
   },
   "outputs": [],
   "source": [
    "y_values4 = []\n",
    "for n in x_values:\n",
    "    my_clf = MyKNeighborsClassifier(n_neighbors=n, metric='cosine')\n",
    "    my_clf.fit(train_input_csr_tfidf, train_target)\n",
    "    my_clf_pred = my_clf.predict(test_input_csr)\n",
    "    y_values4.append(accuracy_score(test_target, my_clf_pred))"
   ]
  },
  {
   "cell_type": "code",
   "execution_count": 192,
   "metadata": {
    "colab": {
     "base_uri": "https://localhost:8080/",
     "height": 353
    },
    "id": "OtOUcCDDSJnM",
    "outputId": "f6925847-1dad-412f-ab4f-5f2675c6e759"
   },
   "outputs": [
    {
     "data": {
      "text/plain": [
       "<matplotlib.legend.Legend at 0x7f3d2279d650>"
      ]
     },
     "execution_count": 192,
     "metadata": {
      "tags": []
     },
     "output_type": "execute_result"
    },
    {
     "data": {
      "image/png": "[encoded data removed]",
      "text/plain": [
       "<Figure size 1008x360 with 1 Axes>"
      ]
     },
     "metadata": {
      "needs_background": "light",
      "tags": []
     },
     "output_type": "display_data"
    }
   ],
   "source": [
    "fig = plt.figure(figsize= (14,5))\n",
    "ax1 = fig.add_subplot(111)\n",
    "ax1.set_title(\"График зависимости средней точности от количества соседей\")\n",
    "plt.plot(x_values, y_values3, label=\"train\")\n",
    "plt.plot(x_values, y_values4, label=\"test\")\n",
    "plt.legend()"
   ]
  },
  {
   "cell_type": "code",
   "execution_count": 195,
   "metadata": {
    "colab": {
     "base_uri": "https://localhost:8080/"
    },
    "id": "ZRIon4ZESeMf",
    "outputId": "023cc7d8-4a68-46f5-b9a4-1b52fec148e5"
   },
   "outputs": [
    {
     "data": {
      "text/plain": [
       "0.5707647371216145"
      ]
     },
     "execution_count": 195,
     "metadata": {
      "tags": []
     },
     "output_type": "execute_result"
    }
   ],
   "source": [
    "my_clf = MyKNeighborsClassifier(n_neighbors=10, metric='cosine')\n",
    "my_clf.fit(train_input_csr_tfidf, train_target)\n",
    "my_clf_pred = my_clf.predict(test_input_csr)\n",
    "accuracy_score(test_target, my_clf_pred)"
   ]
  },
  {
   "cell_type": "markdown",
   "metadata": {
    "id": "7lZ5EKquV37c"
   },
   "source": [
    "Максимальная точность достигается при n_neighbors = 10.\n",
    "Точность хуже, чем при кросс-валидации.\n",
    "Вероятно, качество отличается из-за того, что словарь был построен только на основе train_data."
   ]
  },
  {
   "cell_type": "markdown",
   "metadata": {
    "id": "WolzPr8ZWoZR"
   },
   "source": [
    "Попробуем сделать общий словарь и увеличить кол-во признаков.\n"
   ]
  },
  {
   "cell_type": "code",
   "execution_count": 234,
   "metadata": {
    "id": "xacMw_7SXKrP"
   },
   "outputs": [],
   "source": [
    "all_data = list(train_data)\n",
    "all_data.extend(test_data)"
   ]
  },
  {
   "cell_type": "code",
   "execution_count": 235,
   "metadata": {
    "id": "19soNaHDYY9X"
   },
   "outputs": [],
   "source": [
    "all_target = list(train_target)\n",
    "all_target.extend(test_target)"
   ]
  },
  {
   "cell_type": "code",
   "execution_count": 255,
   "metadata": {
    "colab": {
     "base_uri": "https://localhost:8080/"
    },
    "id": "lBHDWdbQWs2N",
    "outputId": "0b843e99-a3fe-4b7d-cb5d-f8c24412eaa1"
   },
   "outputs": [
    {
     "data": {
      "text/plain": [
       "TfidfVectorizer(analyzer='word', binary=False, decode_error='strict',\n",
       "                dtype=<class 'numpy.float64'>, encoding='utf-8',\n",
       "                input='content', lowercase=True, max_df=0.15,\n",
       "                max_features=100000, min_df=1, ngram_range=(1, 3), norm='l2',\n",
       "                preprocessor=None, smooth_idf=True, stop_words='english',\n",
       "                strip_accents=None, sublinear_tf=False,\n",
       "                token_pattern='(?u)\\\\b\\\\w\\\\w+\\\\b', tokenizer=None, use_idf=True,\n",
       "                vocabulary=None)"
      ]
     },
     "execution_count": 255,
     "metadata": {
      "tags": []
     },
     "output_type": "execute_result"
    }
   ],
   "source": [
    "vect_tfidf2 = TfidfVectorizer(max_df=.15, stop_words=\"english\", max_features = 100_000, ngram_range = (1, 3))          \n",
    "vect_tfidf2.fit(all_data)"
   ]
  },
  {
   "cell_type": "code",
   "execution_count": 256,
   "metadata": {
    "id": "ugbIoKfOYseu"
   },
   "outputs": [],
   "source": [
    "test_input_csr2 = vect_tfidf2.transform(test_data)\n",
    "train_input_csr2 = vect_tfidf2.transform(train_data)"
   ]
  },
  {
   "cell_type": "code",
   "execution_count": 257,
   "metadata": {
    "colab": {
     "base_uri": "https://localhost:8080/"
    },
    "id": "HuaCHRQyYN8u",
    "outputId": "78aaf118-8493-4ecf-fe2d-0bf2330b6a0e"
   },
   "outputs": [
    {
     "data": {
      "text/plain": [
       "0.6074083908656399"
      ]
     },
     "execution_count": 257,
     "metadata": {
      "tags": []
     },
     "output_type": "execute_result"
    }
   ],
   "source": [
    "my_clf2 = MyKNeighborsClassifier(n_neighbors=10, metric='cosine')\n",
    "my_clf2.fit(train_input_csr2, train_target)\n",
    "my_clf_pred2 = my_clf2.predict(test_input_csr2)\n",
    "accuracy_score(test_target, my_clf_pred2)"
   ]
  },
  {
   "cell_type": "markdown",
   "metadata": {
    "id": "O8Rw9wYWY-oO"
   },
   "source": [
    "Точность стала лучше: 0.607 > 0.570."
   ]
  },
  {
   "cell_type": "code",
   "execution_count": 258,
   "metadata": {
    "id": "MvBY3bAcZD87"
   },
   "outputs": [],
   "source": [
    "y_values5 = [cross_val_score2(train_input_csr2, train_target, n_neighbors=n_neighbors, metric='cosine') for n_neighbors in x_values]"
   ]
  },
  {
   "cell_type": "code",
   "execution_count": 260,
   "metadata": {
    "id": "jhHucPN2c4G2"
   },
   "outputs": [],
   "source": [
    "y_values6 = []\n",
    "for n in x_values:\n",
    "    my_clf6 = MyKNeighborsClassifier(n_neighbors=n, metric='cosine')\n",
    "    my_clf6.fit(train_input_csr2, train_target)\n",
    "    my_clf_pred6 = my_clf6.predict(test_input_csr2)\n",
    "    accuracy_score(test_target, my_clf_pred6)\n",
    "    y_values6.append(accuracy_score(test_target, my_clf_pred6))"
   ]
  },
  {
   "cell_type": "code",
   "execution_count": 261,
   "metadata": {
    "colab": {
     "base_uri": "https://localhost:8080/",
     "height": 353
    },
    "id": "AknIaGECckFy",
    "outputId": "af975a18-8348-4f64-d2dd-7b68b12992bc"
   },
   "outputs": [
    {
     "data": {
      "text/plain": [
       "<matplotlib.legend.Legend at 0x7f3d27906d90>"
      ]
     },
     "execution_count": 261,
     "metadata": {
      "tags": []
     },
     "output_type": "execute_result"
    },
    {
     "data": {
      "image/png": "[encoded data removed]",
      "text/plain": [
       "<Figure size 1008x360 with 1 Axes>"
      ]
     },
     "metadata": {
      "needs_background": "light",
      "tags": []
     },
     "output_type": "display_data"
    }
   ],
   "source": [
    "fig = plt.figure(figsize= (14,5))\n",
    "ax1 = fig.add_subplot(111)\n",
    "ax1.set_title(\"График зависимости средней точности от количества соседей (на словаре train+test)\")\n",
    "plt.plot(x_values, y_values5, label=\"train+test cross-val\")\n",
    "plt.plot(x_values, y_values6, label=\"test\")\n",
    "plt.legend()"
   ]
  }
 ],
 "metadata": {
  "accelerator": "GPU",
  "colab": {
   "collapsed_sections": [],
   "machine_shape": "hm",
   "name": "hw1.ipynb",
   "provenance": []
  },
  "kernelspec": {
   "display_name": "Python 3",
   "language": "python",
   "name": "python3"
  },
  "language_info": {
   "codemirror_mode": {
    "name": "ipython",
    "version": 3
   },
   "file_extension": ".py",
   "mimetype": "text/x-python",
   "name": "python",
   "nbconvert_exporter": "python",
   "pygments_lexer": "ipython3",
   "version": "3.8.5"
  }
 },
 "nbformat": 4,
 "nbformat_minor": 1
}
