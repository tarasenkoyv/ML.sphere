{
 "cells": [
  {
   "cell_type": "code",
   "execution_count": 949,
   "metadata": {},
   "outputs": [],
   "source": [
    "import numpy as np\n",
    "import pandas as pd\n",
    "import csv\n",
    "import matplotlib.pyplot as plt\n",
    "import re\n",
    "from tqdm import tqdm\n",
    "from sklearn.feature_extraction.text import TfidfVectorizer\n",
    "from sklearn.feature_extraction.text import CountVectorizer\n",
    "from nltk.stem import WordNetLemmatizer\n",
    "from nltk.stem.snowball import SnowballStemmer\n",
    "from nltk.corpus import stopwords\n",
    "from sklearn.metrics import pairwise_distances\n",
    "from sklearn.metrics import f1_score, accuracy_score\n",
    "from sklearn.preprocessing import StandardScaler\n",
    "from copy import deepcopy\n",
    "from bs4 import BeautifulSoup\n",
    "import requests\n",
    "import codecs\n",
    "from tqdm import tqdm\n",
    "from multiprocessing.dummy import Pool, Lock, Queue\n",
    "import pickle\n",
    "from collections import namedtuple"
   ]
  },
  {
   "cell_type": "code",
   "execution_count": 73,
   "metadata": {},
   "outputs": [],
   "source": [
    "import warnings\n",
    "warnings.filterwarnings('ignore')"
   ]
  },
  {
   "cell_type": "markdown",
   "metadata": {},
   "source": [
    "### Загрузка данных:"
   ]
  },
  {
   "cell_type": "code",
   "execution_count": 936,
   "metadata": {},
   "outputs": [],
   "source": [
    "train_df = pd.read_csv('train_groups.csv')\n",
    "test_df = pd.read_csv('test_groups.csv')"
   ]
  },
  {
   "cell_type": "code",
   "execution_count": 5,
   "metadata": {},
   "outputs": [],
   "source": [
    "doc_to_title = {}\n",
    "with open('docs_titles.tsv', encoding='UTF-8') as f:\n",
    "    for num_line, line in enumerate(f):\n",
    "        if num_line == 0:\n",
    "            continue\n",
    "        data = line.strip().split('\\t', 1)\n",
    "        doc_id = int(data[0])\n",
    "        if len(data) == 1:\n",
    "            title = ''\n",
    "        else:\n",
    "            title = data[1]\n",
    "        doc_to_title[doc_id] = title"
   ]
  },
  {
   "cell_type": "markdown",
   "metadata": {},
   "source": [
    "### Функции для сохранения данных:"
   ]
  },
  {
   "cell_type": "code",
   "execution_count": 939,
   "metadata": {},
   "outputs": [],
   "source": [
    "from helpers import save_obj, load_obj"
   ]
  },
  {
   "cell_type": "markdown",
   "metadata": {},
   "source": [
    "### Загрузка и сохранение информации о веб-страницах:"
   ]
  },
  {
   "cell_type": "code",
   "execution_count": 940,
   "metadata": {},
   "outputs": [],
   "source": [
    "from helpers import WebDocInfo, get_url, get_web_doc_info, web_doc_info_process"
   ]
  },
  {
   "cell_type": "code",
   "execution_count": 11,
   "metadata": {},
   "outputs": [],
   "source": [
    "doc_ids = train_df.doc_id.drop_duplicates()"
   ]
  },
  {
   "cell_type": "code",
   "execution_count": 35,
   "metadata": {},
   "outputs": [
    {
     "name": "stderr",
     "output_type": "stream",
     "text": [
      "100%|████████████████████████████████████████████████████████████████████████████| 11648/11648 [49:58<00:00,  3.88it/s]\n"
     ]
    }
   ],
   "source": [
    "dict_web_doc_info = {}\n",
    "for doc_id in tqdm(doc_ids):\n",
    "    web_doc_info_process(doc_id, False)"
   ]
  },
  {
   "cell_type": "code",
   "execution_count": 37,
   "metadata": {},
   "outputs": [],
   "source": [
    "save_obj(dict_web_doc_info, 'dict_web_doc_info_train')"
   ]
  },
  {
   "cell_type": "markdown",
   "metadata": {},
   "source": [
    "## Обработка и сохранение предобработанных документов:"
   ]
  },
  {
   "cell_type": "code",
   "execution_count": 16,
   "metadata": {},
   "outputs": [],
   "source": [
    "stemmer_rus = SnowballStemmer(\"russian\")\n",
    "stop_words = set(stopwords.words([\"russian\"]))"
   ]
  },
  {
   "cell_type": "markdown",
   "metadata": {},
   "source": [
    "### Обработка заголовков (стемминг):"
   ]
  },
  {
   "cell_type": "code",
   "execution_count": null,
   "metadata": {},
   "outputs": [],
   "source": [
    "import from helpers get_preprocessed_title, doc_title_process"
   ]
  },
  {
   "cell_type": "code",
   "execution_count": null,
   "metadata": {},
   "outputs": [],
   "source": [
    "doc_titles = doc_to_title.copy()"
   ]
  },
  {
   "cell_type": "code",
   "execution_count": null,
   "metadata": {},
   "outputs": [],
   "source": [
    "doc_ids = doc_titles.keys()"
   ]
  },
  {
   "cell_type": "code",
   "execution_count": null,
   "metadata": {},
   "outputs": [],
   "source": [
    "doc_titles_processed = {}\n",
    "with Pool(processes=8) as pool, tqdm(total=len(doc_ids)) as pbar:\n",
    "    lock = pbar.get_lock()\n",
    "    pool.map(doc_title_process, doc_ids)\n",
    "pool.join()"
   ]
  },
  {
   "cell_type": "code",
   "execution_count": null,
   "metadata": {},
   "outputs": [],
   "source": [
    "save_obj(doc_titles_processed, 'doc_titles_processed')"
   ]
  },
  {
   "cell_type": "markdown",
   "metadata": {},
   "source": [
    "### Извлекаем текст из body веб-страницы:"
   ]
  },
  {
   "cell_type": "code",
   "execution_count": 938,
   "metadata": {},
   "outputs": [],
   "source": [
    "from helpers import get_body, get_preprocessed_text, get_preprocessed_text_wo_stop_words, doc_text_process\n",
    "from helpers import doc_text_process_wo_stop_words, doc_text_process_safe, doc_text_process_wo_stop_words_safe"
   ]
  },
  {
   "cell_type": "markdown",
   "metadata": {},
   "source": [
    "#### Обработка Train:"
   ]
  },
  {
   "cell_type": "code",
   "execution_count": 26,
   "metadata": {},
   "outputs": [],
   "source": [
    "dict_doc_text = {}"
   ]
  },
  {
   "cell_type": "code",
   "execution_count": 27,
   "metadata": {},
   "outputs": [
    {
     "name": "stderr",
     "output_type": "stream",
     "text": [
      "100%|██████████████████████████████████████████████████████████████████████████| 11648/11648 [3:00:28<00:00,  1.08it/s]\n"
     ]
    }
   ],
   "source": [
    "with Pool(processes=16) as pool, tqdm(total=len(doc_ids)) as pbar:\n",
    "    lock = pbar.get_lock()\n",
    "    pool.map(doc_text_process_safe, doc_ids)\n",
    "pool.join()"
   ]
  },
  {
   "cell_type": "code",
   "execution_count": 29,
   "metadata": {},
   "outputs": [],
   "source": [
    "save_obj(dict_doc_text, 'dict_doc_text_train')"
   ]
  },
  {
   "cell_type": "markdown",
   "metadata": {},
   "source": [
    "#### Удаляем стоп-слова:"
   ]
  },
  {
   "cell_type": "code",
   "execution_count": 45,
   "metadata": {},
   "outputs": [],
   "source": [
    "dict_doc_text_wo_stop_words = {}"
   ]
  },
  {
   "cell_type": "code",
   "execution_count": 46,
   "metadata": {},
   "outputs": [
    {
     "name": "stderr",
     "output_type": "stream",
     "text": [
      "100%|███████████████████████████████████████████████████████████████████████████| 11648/11648 [00:39<00:00, 298.30it/s]\n"
     ]
    }
   ],
   "source": [
    "with Pool(processes=16) as pool, tqdm(total=len(doc_ids)) as pbar:\n",
    "    lock = pbar.get_lock()\n",
    "    pool.map(doc_text_process_wo_stop_words_safe, doc_ids)\n",
    "pool.join()"
   ]
  },
  {
   "cell_type": "code",
   "execution_count": 50,
   "metadata": {},
   "outputs": [],
   "source": [
    "save_obj(dict_doc_text_wo_stop_words, 'dict_doc_text_wo_stop_words_train')"
   ]
  },
  {
   "cell_type": "markdown",
   "metadata": {},
   "source": [
    "### Обработка Test:"
   ]
  },
  {
   "cell_type": "code",
   "execution_count": 14,
   "metadata": {},
   "outputs": [],
   "source": [
    "doc_ids = test_df.doc_id.drop_duplicates()"
   ]
  },
  {
   "cell_type": "code",
   "execution_count": 54,
   "metadata": {},
   "outputs": [],
   "source": [
    "dict_doc_text = {}"
   ]
  },
  {
   "cell_type": "code",
   "execution_count": 55,
   "metadata": {},
   "outputs": [
    {
     "name": "stderr",
     "output_type": "stream",
     "text": [
      "100%|██████████████████████████████████████████████████████████████████████████| 16503/16503 [4:29:04<00:00,  1.02it/s]\n"
     ]
    }
   ],
   "source": [
    "with Pool(processes=16) as pool, tqdm(total=len(doc_ids)) as pbar:\n",
    "    lock = pbar.get_lock()\n",
    "    pool.map(doc_text_process_safe, doc_ids)\n",
    "pool.join()"
   ]
  },
  {
   "cell_type": "code",
   "execution_count": null,
   "metadata": {},
   "outputs": [],
   "source": [
    "save_obj(dict_doc_text, 'dict_doc_text_test')"
   ]
  },
  {
   "cell_type": "code",
   "execution_count": 11,
   "metadata": {},
   "outputs": [],
   "source": [
    "dict_doc_text = load_obj('dict_doc_text_test')"
   ]
  },
  {
   "cell_type": "markdown",
   "metadata": {},
   "source": [
    "#### Удаляем стоп-слова:"
   ]
  },
  {
   "cell_type": "code",
   "execution_count": 12,
   "metadata": {},
   "outputs": [],
   "source": [
    "dict_doc_text_wo_stop_words = {}"
   ]
  },
  {
   "cell_type": "code",
   "execution_count": 24,
   "metadata": {},
   "outputs": [
    {
     "name": "stderr",
     "output_type": "stream",
     "text": [
      "100%|███████████████████████████████████████████████████████████████████████████| 16503/16503 [00:45<00:00, 362.05it/s]\n"
     ]
    }
   ],
   "source": [
    "with Pool(processes=16) as pool, tqdm(total=len(doc_ids)) as pbar:\n",
    "    lock = pbar.get_lock()\n",
    "    pool.map(doc_text_process_wo_stop_words_safe, doc_ids)\n",
    "pool.join()"
   ]
  },
  {
   "cell_type": "code",
   "execution_count": 25,
   "metadata": {},
   "outputs": [],
   "source": [
    "save_obj(dict_doc_text_wo_stop_words, 'dict_doc_text_wo_stop_words_test')"
   ]
  },
  {
   "cell_type": "markdown",
   "metadata": {},
   "source": [
    "### Извлекаем из текстов (body) топ 10 слов, результат конкатенируем c title:"
   ]
  },
  {
   "cell_type": "code",
   "execution_count": 37,
   "metadata": {},
   "outputs": [],
   "source": [
    "from helpers import get_content_top_words, get_corpus"
   ]
  },
  {
   "cell_type": "code",
   "execution_count": 35,
   "metadata": {},
   "outputs": [],
   "source": [
    "doc_titles_processed = load_obj('doc_titles_processed')\n",
    "dict_doc_text_wo_stop_words_train = load_obj('dict_doc_text_wo_stop_words_train')\n",
    "dict_doc_text_wo_stop_words_test = load_obj('dict_doc_text_wo_stop_words_test')"
   ]
  },
  {
   "cell_type": "code",
   "execution_count": 858,
   "metadata": {},
   "outputs": [],
   "source": [
    "dict_doc_text_train = load_obj('dict_doc_text_train')\n",
    "dict_doc_text_test = load_obj('dict_doc_text_test')"
   ]
  },
  {
   "cell_type": "markdown",
   "metadata": {},
   "source": [
    "#### Каждый документ представляется в виде:  топ 10 слов body + title"
   ]
  },
  {
   "cell_type": "code",
   "execution_count": 415,
   "metadata": {},
   "outputs": [
    {
     "name": "stderr",
     "output_type": "stream",
     "text": [
      "100%|████████████████████████████████████████████████████████████████████████████| 11648/11648 [03:14<00:00, 60.03it/s]\n"
     ]
    }
   ],
   "source": [
    "train_corpus = get_corpus(doc_ids_train, dict_doc_text_wo_stop_words_train)\n",
    "save_obj(train_corpus, 'train_corpus')"
   ]
  },
  {
   "cell_type": "code",
   "execution_count": 416,
   "metadata": {},
   "outputs": [
    {
     "name": "stderr",
     "output_type": "stream",
     "text": [
      "100%|████████████████████████████████████████████████████████████████████████████| 16503/16503 [05:25<00:00, 50.66it/s]\n"
     ]
    }
   ],
   "source": [
    "test_corpus = get_corpus(doc_ids_test, dict_doc_text_wo_stop_words_test)\n",
    "save_obj(test_corpus, 'test_corpus')"
   ]
  },
  {
   "cell_type": "code",
   "execution_count": 417,
   "metadata": {},
   "outputs": [],
   "source": [
    "train_corpus = load_obj('train_corpus')\n",
    "test_corpus = load_obj('test_corpus')"
   ]
  },
  {
   "cell_type": "markdown",
   "metadata": {},
   "source": [
    "## Анализ датасета и конструирование признаков"
   ]
  },
  {
   "cell_type": "markdown",
   "metadata": {},
   "source": [
    "### Соотношение между выбросами и настоящими документами в группах:"
   ]
  },
  {
   "cell_type": "code",
   "execution_count": 603,
   "metadata": {},
   "outputs": [],
   "source": [
    "target_grouped = train_df.groupby('group_id')['target'].sum().to_frame().reset_index()"
   ]
  },
  {
   "cell_type": "code",
   "execution_count": 606,
   "metadata": {},
   "outputs": [
    {
     "data": {
      "text/plain": [
       "<AxesSubplot:>"
      ]
     },
     "execution_count": 606,
     "metadata": {},
     "output_type": "execute_result"
    },
    {
     "data": {
      "image/png": "[encoded data removed]",
      "text/plain": [
       "<Figure size 432x288 with 1 Axes>"
      ]
     },
     "metadata": {
      "needs_background": "light"
     },
     "output_type": "display_data"
    }
   ],
   "source": [
    "target_grouped.target.hist(bins = 10)"
   ]
  },
  {
   "cell_type": "markdown",
   "metadata": {},
   "source": [
    "Группы в основном состоят из выбросов, то есть в основном в каждой группе выбросов больше, чем настоящих объектов.  "
   ]
  },
  {
   "cell_type": "code",
   "execution_count": 611,
   "metadata": {},
   "outputs": [
    {
     "data": {
      "text/plain": [
       "81"
      ]
     },
     "execution_count": 611,
     "metadata": {},
     "output_type": "execute_result"
    }
   ],
   "source": [
    "sum(train_df.groupby('group_id')['target'].sum() < 20)"
   ]
  },
  {
   "cell_type": "markdown",
   "metadata": {},
   "source": [
    "Кол-во групп, в которых настоящих объектов меньше 20, равно 81."
   ]
  },
  {
   "cell_type": "code",
   "execution_count": 616,
   "metadata": {},
   "outputs": [
    {
     "data": {
      "text/plain": [
       "10.0"
      ]
     },
     "execution_count": 616,
     "metadata": {},
     "output_type": "execute_result"
    }
   ],
   "source": [
    "train_df.groupby('group_id')['target'].sum().median()"
   ]
  },
  {
   "cell_type": "markdown",
   "metadata": {},
   "source": [
    "Медиана по кол-ву настоящих объектов в группах равна 10."
   ]
  },
  {
   "cell_type": "markdown",
   "metadata": {},
   "source": [
    "### Косинусное расстояние между векторами текстов tf-idf:"
   ]
  },
  {
   "cell_type": "markdown",
   "metadata": {},
   "source": [
    "Будем брать в качестве признаков расстояния до 20 ближайших документов.  "
   ]
  },
  {
   "cell_type": "code",
   "execution_count": 922,
   "metadata": {},
   "outputs": [],
   "source": [
    "train_df_grouped = train_df.groupby(\"group_id\")"
   ]
  },
  {
   "cell_type": "code",
   "execution_count": 1125,
   "metadata": {},
   "outputs": [],
   "source": [
    "n_grp = 1"
   ]
  },
  {
   "cell_type": "code",
   "execution_count": 1126,
   "metadata": {},
   "outputs": [],
   "source": [
    "doc_indices = dict(train_df_grouped.groups.items())[n_grp]"
   ]
  },
  {
   "cell_type": "code",
   "execution_count": 1127,
   "metadata": {},
   "outputs": [],
   "source": [
    "X_train_grp = X_train_20[doc_indices]\n",
    "y_train_grp = train_df.iloc[doc_indices].target"
   ]
  },
  {
   "cell_type": "code",
   "execution_count": 916,
   "metadata": {},
   "outputs": [
    {
     "data": {
      "text/plain": [
       "'Кол-во настоящих объектов: 8'"
      ]
     },
     "execution_count": 916,
     "metadata": {},
     "output_type": "execute_result"
    }
   ],
   "source": [
    "\"Кол-во настоящих объектов: {}\".format(len(y_train_1[y_train_1 == 1]))"
   ]
  },
  {
   "cell_type": "code",
   "execution_count": 1128,
   "metadata": {},
   "outputs": [
    {
     "data": {
      "text/plain": [
       "Text(0.5, 1.0, 'Расстояние после шкалирования')"
      ]
     },
     "execution_count": 1128,
     "metadata": {},
     "output_type": "execute_result"
    },
    {
     "data": {
      "image/png": "[encoded data removed]",
      "text/plain": [
       "<Figure size 432x288 with 1 Axes>"
      ]
     },
     "metadata": {
      "needs_background": "light"
     },
     "output_type": "display_data"
    }
   ],
   "source": [
    "plt.scatter(X_train_grp[:, 0], X_train_grp[:, 1], c=y_train_grp)\n",
    "plt.xlabel('Расстояние до 1 ближайщего документа')\n",
    "plt.ylabel('Расстояние до 2 ближайщего документа')\n",
    "plt.title('Расстояние после шкалирования')"
   ]
  },
  {
   "cell_type": "markdown",
   "metadata": {},
   "source": [
    "Настоящие объекты расположены ниже и левее на графике.  \n",
    "Но при этом часть выбросов также попадает в эту область."
   ]
  },
  {
   "cell_type": "markdown",
   "metadata": {},
   "source": [
    "#### Анализ отличий между выбросами и настоящими объектами:"
   ]
  },
  {
   "cell_type": "code",
   "execution_count": 549,
   "metadata": {},
   "outputs": [],
   "source": [
    "import fasttext\n",
    "from sklearn.metrics.pairwise import cosine_similarity\n",
    "import spacy"
   ]
  },
  {
   "cell_type": "code",
   "execution_count": 563,
   "metadata": {},
   "outputs": [
    {
     "data": {
      "text/html": [
       "<div>\n",
       "<style scoped>\n",
       "    .dataframe tbody tr th:only-of-type {\n",
       "        vertical-align: middle;\n",
       "    }\n",
       "\n",
       "    .dataframe tbody tr th {\n",
       "        vertical-align: top;\n",
       "    }\n",
       "\n",
       "    .dataframe thead th {\n",
       "        text-align: right;\n",
       "    }\n",
       "</style>\n",
       "<table border=\"1\" class=\"dataframe\">\n",
       "  <thead>\n",
       "    <tr style=\"text-align: right;\">\n",
       "      <th></th>\n",
       "      <th>pair_id</th>\n",
       "      <th>group_id</th>\n",
       "      <th>doc_id</th>\n",
       "      <th>target</th>\n",
       "      <th>is_redirect</th>\n",
       "      <th>is_accessible</th>\n",
       "    </tr>\n",
       "  </thead>\n",
       "  <tbody>\n",
       "    <tr>\n",
       "      <th>0</th>\n",
       "      <td>1</td>\n",
       "      <td>1</td>\n",
       "      <td>15731</td>\n",
       "      <td>0</td>\n",
       "      <td>0</td>\n",
       "      <td>1</td>\n",
       "    </tr>\n",
       "    <tr>\n",
       "      <th>1</th>\n",
       "      <td>2</td>\n",
       "      <td>1</td>\n",
       "      <td>14829</td>\n",
       "      <td>0</td>\n",
       "      <td>1</td>\n",
       "      <td>1</td>\n",
       "    </tr>\n",
       "    <tr>\n",
       "      <th>2</th>\n",
       "      <td>3</td>\n",
       "      <td>1</td>\n",
       "      <td>15764</td>\n",
       "      <td>0</td>\n",
       "      <td>1</td>\n",
       "      <td>1</td>\n",
       "    </tr>\n",
       "    <tr>\n",
       "      <th>3</th>\n",
       "      <td>4</td>\n",
       "      <td>1</td>\n",
       "      <td>17669</td>\n",
       "      <td>0</td>\n",
       "      <td>0</td>\n",
       "      <td>0</td>\n",
       "    </tr>\n",
       "    <tr>\n",
       "      <th>4</th>\n",
       "      <td>5</td>\n",
       "      <td>1</td>\n",
       "      <td>14852</td>\n",
       "      <td>0</td>\n",
       "      <td>1</td>\n",
       "      <td>1</td>\n",
       "    </tr>\n",
       "    <tr>\n",
       "      <th>...</th>\n",
       "      <td>...</td>\n",
       "      <td>...</td>\n",
       "      <td>...</td>\n",
       "      <td>...</td>\n",
       "      <td>...</td>\n",
       "      <td>...</td>\n",
       "    </tr>\n",
       "    <tr>\n",
       "      <th>97</th>\n",
       "      <td>98</td>\n",
       "      <td>1</td>\n",
       "      <td>16184</td>\n",
       "      <td>0</td>\n",
       "      <td>0</td>\n",
       "      <td>0</td>\n",
       "    </tr>\n",
       "    <tr>\n",
       "      <th>98</th>\n",
       "      <td>99</td>\n",
       "      <td>1</td>\n",
       "      <td>17050</td>\n",
       "      <td>1</td>\n",
       "      <td>1</td>\n",
       "      <td>1</td>\n",
       "    </tr>\n",
       "    <tr>\n",
       "      <th>99</th>\n",
       "      <td>100</td>\n",
       "      <td>1</td>\n",
       "      <td>15734</td>\n",
       "      <td>0</td>\n",
       "      <td>1</td>\n",
       "      <td>1</td>\n",
       "    </tr>\n",
       "    <tr>\n",
       "      <th>100</th>\n",
       "      <td>101</td>\n",
       "      <td>1</td>\n",
       "      <td>16407</td>\n",
       "      <td>0</td>\n",
       "      <td>0</td>\n",
       "      <td>0</td>\n",
       "    </tr>\n",
       "    <tr>\n",
       "      <th>101</th>\n",
       "      <td>102</td>\n",
       "      <td>1</td>\n",
       "      <td>14929</td>\n",
       "      <td>0</td>\n",
       "      <td>0</td>\n",
       "      <td>0</td>\n",
       "    </tr>\n",
       "  </tbody>\n",
       "</table>\n",
       "<p>102 rows × 6 columns</p>\n",
       "</div>"
      ],
      "text/plain": [
       "     pair_id  group_id  doc_id  target is_redirect is_accessible\n",
       "0          1         1   15731       0           0             1\n",
       "1          2         1   14829       0           1             1\n",
       "2          3         1   15764       0           1             1\n",
       "3          4         1   17669       0           0             0\n",
       "4          5         1   14852       0           1             1\n",
       "..       ...       ...     ...     ...         ...           ...\n",
       "97        98         1   16184       0           0             0\n",
       "98        99         1   17050       1           1             1\n",
       "99       100         1   15734       0           1             1\n",
       "100      101         1   16407       0           0             0\n",
       "101      102         1   14929       0           0             0\n",
       "\n",
       "[102 rows x 6 columns]"
      ]
     },
     "execution_count": 563,
     "metadata": {},
     "output_type": "execute_result"
    }
   ],
   "source": [
    "train_df[((train_df.group_id == 1))]"
   ]
  },
  {
   "cell_type": "markdown",
   "metadata": {},
   "source": [
    "#### Выброс:"
   ]
  },
  {
   "cell_type": "code",
   "execution_count": 579,
   "metadata": {},
   "outputs": [
    {
     "data": {
      "text/plain": [
       "'подшипник 16 ступиц поворотн кулак снят тормозн кольц передн рычаг ваз 21213 зам подшипник ступиц нив'"
      ]
     },
     "execution_count": 579,
     "metadata": {},
     "output_type": "execute_result"
    }
   ],
   "source": [
    "train_corpus[15731]"
   ]
  },
  {
   "cell_type": "code",
   "execution_count": 597,
   "metadata": {},
   "outputs": [
    {
     "data": {
      "text/plain": [
       "'ВАЗ 21213 | Замена подшипников ступицы | Нива'"
      ]
     },
     "execution_count": 597,
     "metadata": {},
     "output_type": "execute_result"
    }
   ],
   "source": [
    "doc_to_title[15731]"
   ]
  },
  {
   "cell_type": "markdown",
   "metadata": {},
   "source": [
    "#### Настоящий объект:"
   ]
  },
  {
   "cell_type": "code",
   "execution_count": 580,
   "metadata": {},
   "outputs": [
    {
     "data": {
      "text/plain": [
       "'18 подшипник ступиц поворотн кулак снят передн тормозн кольц рычаг ваз 2121 зам подшипник ступиц'"
      ]
     },
     "execution_count": 580,
     "metadata": {},
     "output_type": "execute_result"
    }
   ],
   "source": [
    "train_corpus[17050]"
   ]
  },
  {
   "cell_type": "code",
   "execution_count": 598,
   "metadata": {},
   "outputs": [
    {
     "data": {
      "text/plain": [
       "'ВАЗ 2121 Замена подшипников ступицы'"
      ]
     },
     "execution_count": 598,
     "metadata": {},
     "output_type": "execute_result"
    }
   ],
   "source": [
    "doc_to_title[17050]"
   ]
  },
  {
   "cell_type": "code",
   "execution_count": 550,
   "metadata": {},
   "outputs": [],
   "source": [
    "nlp = spacy.load(\"ru_core_news_sm\")"
   ]
  },
  {
   "cell_type": "code",
   "execution_count": 593,
   "metadata": {},
   "outputs": [],
   "source": [
    "doc_nlp_outliner = nlp(train_corpus[15731]).vector\n",
    "doc_nlp = nlp(train_corpus[17050]).vector"
   ]
  },
  {
   "cell_type": "code",
   "execution_count": 594,
   "metadata": {},
   "outputs": [
    {
     "data": {
      "text/plain": [
       "array([[0.9784919]], dtype=float32)"
      ]
     },
     "execution_count": 594,
     "metadata": {},
     "output_type": "execute_result"
    }
   ],
   "source": [
    "cosine_similarity([doc_nlp_outliner], [doc_nlp])"
   ]
  },
  {
   "cell_type": "code",
   "execution_count": 1115,
   "metadata": {},
   "outputs": [
    {
     "data": {
      "text/plain": [
       "array([[0.99852968]])"
      ]
     },
     "execution_count": 1115,
     "metadata": {},
     "output_type": "execute_result"
    }
   ],
   "source": [
    "cosine_similarity([X_train_20[0]], [X_train_20[98]])"
   ]
  },
  {
   "cell_type": "markdown",
   "metadata": {},
   "source": [
    "Косинусная мера близка к единице между текстами выброса и настоящего объекта.  \n",
    "Визуально тексты также очень похожи."
   ]
  },
  {
   "cell_type": "markdown",
   "metadata": {},
   "source": [
    "Построенная модель model_80 (CatBoostClassifier) не может определить, что \"15731.dat\" является выбросом."
   ]
  },
  {
   "cell_type": "code",
   "execution_count": 1110,
   "metadata": {},
   "outputs": [
    {
     "data": {
      "text/plain": [
       "(0, 1)"
      ]
     },
     "execution_count": 1110,
     "metadata": {},
     "output_type": "execute_result"
    }
   ],
   "source": [
    "model_20.predict(X_train_web_20[0]), model_20.predict(X_train_web_20[98]) "
   ]
  },
  {
   "cell_type": "code",
   "execution_count": 1111,
   "metadata": {},
   "outputs": [
    {
     "data": {
      "text/plain": [
       "(1, 1)"
      ]
     },
     "execution_count": 1111,
     "metadata": {},
     "output_type": "execute_result"
    }
   ],
   "source": [
    "model_80.predict(X_train_web_80[0]), model_80.predict(X_train_web_80[98]) "
   ]
  },
  {
   "cell_type": "code",
   "execution_count": 1112,
   "metadata": {},
   "outputs": [
    {
     "data": {
      "text/plain": [
       "(1, 1)"
      ]
     },
     "execution_count": 1112,
     "metadata": {},
     "output_type": "execute_result"
    }
   ],
   "source": [
    "model_80_wo_web.predict(X_train_s_80[0]), model_80_wo_web.predict(X_train_s_80[98]) "
   ]
  },
  {
   "cell_type": "markdown",
   "metadata": {},
   "source": [
    "#### Замечание:"
   ]
  },
  {
   "cell_type": "markdown",
   "metadata": {},
   "source": [
    "Не понятно почему документ \"15731.dat\" является выбросом.  \n",
    "Поскольку по содержанию очень похож на настоящий документ \"17050.dat\"."
   ]
  },
  {
   "cell_type": "markdown",
   "metadata": {},
   "source": [
    "#### Использование статистик по каждой группе в качестве признаков:"
   ]
  },
  {
   "cell_type": "markdown",
   "metadata": {},
   "source": [
    "Предлагается использовать статистики по признакам (расстояниям) в каждой группе отдельно:  \n",
    "стандартное отклонение, среднее, медиана."
   ]
  },
  {
   "cell_type": "code",
   "execution_count": 924,
   "metadata": {},
   "outputs": [],
   "source": [
    "n_grp1 = 20\n",
    "n_grp2 = 100"
   ]
  },
  {
   "cell_type": "code",
   "execution_count": 1104,
   "metadata": {},
   "outputs": [],
   "source": [
    "doc_indices_grp_1 = dict(train_df_grouped.groups.items())[n_grp1]\n",
    "doc_indices_grp_2 = dict(train_df_grouped.groups.items())[n_grp2]\n",
    "d_grp_1 = X_train_80[doc_indices_grp_1, 0]\n",
    "d_grp_2= X_train_80[doc_indices_grp_2, 0]"
   ]
  },
  {
   "cell_type": "code",
   "execution_count": 1105,
   "metadata": {},
   "outputs": [
    {
     "data": {
      "image/png": "[encoded data removed]",
      "text/plain": [
       "<Figure size 432x288 with 1 Axes>"
      ]
     },
     "metadata": {
      "needs_background": "light"
     },
     "output_type": "display_data"
    }
   ],
   "source": [
    "data = [d_grp_1, d_grp_2]\n",
    "fig, ax = plt.subplots()\n",
    "ax.set_title('dist vs. group')\n",
    "ax.boxplot(data, labels=[n_grp1, n_grp2])\n",
    "plt.grid()\n",
    "plt.xlabel('dist')\n",
    "plt.ylabel('group')\n",
    "plt.show()"
   ]
  },
  {
   "cell_type": "code",
   "execution_count": 681,
   "metadata": {},
   "outputs": [
    {
     "data": {
      "text/plain": [
       "(5, 72)"
      ]
     },
     "execution_count": 681,
     "metadata": {},
     "output_type": "execute_result"
    }
   ],
   "source": [
    "len(train_df[((train_df.group_id == 20) & (train_df.target == 1))]), \\\n",
    "len(train_df[((train_df.group_id == 100) & (train_df.target == 1))])"
   ]
  },
  {
   "cell_type": "markdown",
   "metadata": {},
   "source": [
    "В группе \"100\" больше настоящих объектов, чем в \"20\".  \n",
    "Настоящие объекты по идее \"кучнее\" должны быть расположены.  \n",
    "Значит, std, mediana, mean по расстоянию до ближайшего объекта  должны быть меньше, чем в \"20\".  \n",
    "Поэтому если, например, mean у нас по \"признаку 0\" меньше какого-то порога, то мы можем считать, что  \n",
    "объект относится к группе, где больше \"настоящих\" объектов,  \n",
    "то есть в первом приближении считать объект \"настоящим\"."
   ]
  },
  {
   "cell_type": "markdown",
   "metadata": {},
   "source": [
    "### Создание признаков:"
   ]
  },
  {
   "cell_type": "code",
   "execution_count": 941,
   "metadata": {},
   "outputs": [],
   "source": [
    "train_corpus = load_obj('train_corpus')\n",
    "test_corpus = load_obj('test_corpus')"
   ]
  },
  {
   "cell_type": "code",
   "execution_count": 932,
   "metadata": {},
   "outputs": [],
   "source": [
    "from sklearn.preprocessing import StandardScaler"
   ]
  },
  {
   "cell_type": "code",
   "execution_count": 974,
   "metadata": {},
   "outputs": [],
   "source": [
    "from helpers import add_to_df_web_info, fill_grp_20, fill_grp_80, fill_grp_80_simple\n",
    "from helpers import get_X_20, get_X_80, get_X_80_simple, get_X_web"
   ]
  },
  {
   "cell_type": "markdown",
   "metadata": {},
   "source": [
    "###  Добавление признаков: is_resirect, is_accessible:"
   ]
  },
  {
   "cell_type": "code",
   "execution_count": 946,
   "metadata": {},
   "outputs": [],
   "source": [
    "dict_web_doc_info_test = load_obj('dict_web_doc_info_test')\n",
    "dict_web_doc_info_train = load_obj('dict_web_doc_info_train')\n",
    "\n",
    "add_to_df_web_info(train_df, dict_web_doc_info_train)\n",
    "add_to_df_web_info(test_df, dict_web_doc_info_test)"
   ]
  },
  {
   "cell_type": "markdown",
   "metadata": {},
   "source": [
    "### Расстояния до 20 ближайших документов + web признаки:"
   ]
  },
  {
   "cell_type": "code",
   "execution_count": 958,
   "metadata": {},
   "outputs": [],
   "source": [
    "X_train_web_20, X_train_s_20, X_train_20 = get_X_20(train_df, train_corpus)"
   ]
  },
  {
   "cell_type": "markdown",
   "metadata": {},
   "source": [
    "### Расстояния до 20 ближайших документов + std, mean, mediana по группам + web признаки:"
   ]
  },
  {
   "cell_type": "code",
   "execution_count": 964,
   "metadata": {},
   "outputs": [],
   "source": [
    "X_train_web_80, X_train_s_80, X_train_80 = get_X_80(train_df, train_corpus)"
   ]
  },
  {
   "cell_type": "code",
   "execution_count": 968,
   "metadata": {},
   "outputs": [],
   "source": [
    "y_train = train_df.target"
   ]
  },
  {
   "cell_type": "markdown",
   "metadata": {},
   "source": [
    "### Разбиение Train на обучающую выборку (t) и на валидационную (val):"
   ]
  },
  {
   "cell_type": "code",
   "execution_count": 973,
   "metadata": {},
   "outputs": [],
   "source": [
    "from helpers import get_t_val_indices"
   ]
  },
  {
   "cell_type": "markdown",
   "metadata": {},
   "source": [
    "Для валидации берем произвольные 30 групп из train, остальные 99 групп используем для кроосс-валидации:"
   ]
  },
  {
   "cell_type": "code",
   "execution_count": 970,
   "metadata": {},
   "outputs": [],
   "source": [
    "grp_val_indices = np.random.choice(129, 30, replace=False)\n",
    "t_indices, val_indices = get_t_val_indices(train_df, grp_val_indices)\n",
    "val_df = train_df.iloc[val_indices]\n",
    "t_df = train_df.iloc[t_indices]"
   ]
  },
  {
   "cell_type": "code",
   "execution_count": 975,
   "metadata": {},
   "outputs": [],
   "source": [
    "X_t_web_20 = get_X_web(X_train_s_20, train_df, t_indices)\n",
    "X_t_s_20 = X_train_s_20[t_indices]\n",
    "X_val_web_20 = get_X_web(X_train_s_20, train_df, val_indices)\n",
    "X_val_s_20 = X_train_s_20[val_indices]\n",
    "\n",
    "X_t_web_80 = get_X_web(X_train_s_80, train_df, t_indices)\n",
    "X_t_s_80 = X_train_s_80[t_indices]\n",
    "X_val_web_80 = get_X_web(X_train_s_80, train_df, val_indices)\n",
    "X_val_s_80 = X_train_s_80[val_indices]"
   ]
  },
  {
   "cell_type": "code",
   "execution_count": 976,
   "metadata": {},
   "outputs": [],
   "source": [
    "y_t = t_df.target\n",
    "y_val = val_df.target"
   ]
  },
  {
   "cell_type": "markdown",
   "metadata": {},
   "source": [
    "**В качестве модели используем CatBoostClassifier:**"
   ]
  },
  {
   "cell_type": "code",
   "execution_count": 977,
   "metadata": {},
   "outputs": [],
   "source": [
    "from catboost import CatBoostRegressor, CatBoostClassifier\n",
    "import catboost"
   ]
  },
  {
   "cell_type": "markdown",
   "metadata": {},
   "source": [
    "**5-фолдная кросс-валидация на 99 группах:**"
   ]
  },
  {
   "cell_type": "code",
   "execution_count": 993,
   "metadata": {},
   "outputs": [],
   "source": [
    "import hyperopt\n",
    "from numpy.random import RandomState"
   ]
  },
  {
   "cell_type": "code",
   "execution_count": 1035,
   "metadata": {},
   "outputs": [],
   "source": [
    "def hyperopt_objective_20(params):\n",
    "    model = CatBoostClassifier(thread_count=8,\n",
    "                               l2_leaf_reg=int(params['l2_leaf_reg']),\n",
    "                               learning_rate=params['learning_rate'],\n",
    "                               iterations=int(params['iterations']),\n",
    "                               depth=int(params['depth']),\n",
    "                               eval_metric='F1',\n",
    "                               random_seed=42,\n",
    "                               verbose=False,\n",
    "                               loss_function='Logloss')\n",
    "    \n",
    "    cv_data = catboost.cv(\n",
    "        catboost.Pool(X_t_web_20, y_t, cat_features=[20, 21], group_id = t_df.group_id),\n",
    "        model.get_params(),\n",
    "        shuffle=True,\n",
    "        fold_count=5,\n",
    "        stratified=False\n",
    "    )\n",
    "    best_f1 = np.max(cv_data['test-F1-mean'])\n",
    "    \n",
    "    return 1 - best_f1 # as hyperopt minimises\n",
    " \n",
    "def hyperopt_objective_80(params):\n",
    "    model = CatBoostClassifier(thread_count=8,\n",
    "                               l2_leaf_reg=int(params['l2_leaf_reg']),\n",
    "                               learning_rate=params['learning_rate'],\n",
    "                               iterations=int(params['iterations']),\n",
    "                               depth=int(params['depth']),\n",
    "                               eval_metric='F1',\n",
    "                               random_seed=42,\n",
    "                               verbose=False,\n",
    "                               loss_function='Logloss')\n",
    "    \n",
    "    cv_data = catboost.cv(\n",
    "        catboost.Pool(X_t_web_80, y_t, cat_features=[80, 81], group_id = t_df.group_id),\n",
    "        model.get_params(),\n",
    "        shuffle=True,\n",
    "        fold_count=5,\n",
    "        stratified=False\n",
    "    )\n",
    "    best_f1 = np.max(cv_data['test-F1-mean'])\n",
    "    \n",
    "    return 1 - best_f1 # as hyperopt minimises\n",
    "\n",
    "def hyperopt_objective_80_wo_web(params):\n",
    "    model = CatBoostClassifier(thread_count=8,\n",
    "                               l2_leaf_reg=int(params['l2_leaf_reg']),\n",
    "                               learning_rate=params['learning_rate'],\n",
    "                               iterations=int(params['iterations']),\n",
    "                               depth=int(params['depth']),\n",
    "                               eval_metric='F1',\n",
    "                               random_seed=42,\n",
    "                               verbose=False,\n",
    "                               loss_function='Logloss')\n",
    "    \n",
    "    cv_data = catboost.cv(\n",
    "        catboost.Pool(X_t_s_80, y_t, cat_features=[], group_id = t_df.group_id),\n",
    "        model.get_params(),\n",
    "        shuffle=True,\n",
    "        fold_count=5,\n",
    "        stratified=False\n",
    "    )\n",
    "    best_f1 = np.max(cv_data['test-F1-mean'])\n",
    "    \n",
    "    return 1 - best_f1 # as hyperopt minimises"
   ]
  },
  {
   "cell_type": "code",
   "execution_count": 1036,
   "metadata": {},
   "outputs": [
    {
     "name": "stdout",
     "output_type": "stream",
     "text": [
      "100%|██████████████████████████████████████████████████| 80/80 [06:58<00:00,  5.23s/trial, best loss: 0.25712582411428]\n"
     ]
    }
   ],
   "source": [
    "params_space = {\n",
    "    'l2_leaf_reg': hyperopt.hp.qloguniform('l2_leaf_reg', 0, 2, 1),\n",
    "    'learning_rate': hyperopt.hp.uniform('learning_rate', 1e-2, 5e-1),\n",
    "    'depth': (1 + hyperopt.hp.uniform('depth', 3, 10)),\n",
    "    'iterations': (1 + hyperopt.hp.uniform('iterations', 4, 50)),\n",
    "}\n",
    "\n",
    "trials = hyperopt.Trials()\n",
    "\n",
    "best_20 = hyperopt.fmin(\n",
    "    hyperopt_objective_20,\n",
    "    space=params_space,\n",
    "    algo=hyperopt.tpe.suggest,\n",
    "    max_evals=80,\n",
    "    trials=trials,\n",
    "    rstate=RandomState(123)\n",
    ")"
   ]
  },
  {
   "cell_type": "code",
   "execution_count": 1037,
   "metadata": {},
   "outputs": [
    {
     "data": {
      "text/plain": [
       "{'depth': 5.651209562019351,\n",
       " 'iterations': 45.19956234035183,\n",
       " 'l2_leaf_reg': 1.0,\n",
       " 'learning_rate': 0.1784105589602183}"
      ]
     },
     "execution_count": 1037,
     "metadata": {},
     "output_type": "execute_result"
    }
   ],
   "source": [
    "best_20"
   ]
  },
  {
   "cell_type": "code",
   "execution_count": 998,
   "metadata": {},
   "outputs": [
    {
     "name": "stdout",
     "output_type": "stream",
     "text": [
      "100%|███████████████████████████████████████████████| 80/80 [24:35<00:00, 18.44s/trial, best loss: 0.24133453102149405]\n"
     ]
    }
   ],
   "source": [
    "trials = hyperopt.Trials()\n",
    "\n",
    "best_80 = hyperopt.fmin(\n",
    "    hyperopt_objective_80,\n",
    "    space=params_space,\n",
    "    algo=hyperopt.tpe.suggest,\n",
    "    max_evals=80,\n",
    "    trials=trials,\n",
    "    rstate=RandomState(123)\n",
    ")"
   ]
  },
  {
   "cell_type": "code",
   "execution_count": 999,
   "metadata": {},
   "outputs": [
    {
     "data": {
      "text/plain": [
       "{'depth': 8.33161004556447,\n",
       " 'iterations': 39.97931078522098,\n",
       " 'l2_leaf_reg': 6.0,\n",
       " 'learning_rate': 0.11000520760631624}"
      ]
     },
     "execution_count": 999,
     "metadata": {},
     "output_type": "execute_result"
    }
   ],
   "source": [
    "best_80"
   ]
  },
  {
   "cell_type": "code",
   "execution_count": 1009,
   "metadata": {},
   "outputs": [
    {
     "name": "stdout",
     "output_type": "stream",
     "text": [
      "100%|███████████████████████████████████████████████| 80/80 [04:41<00:00,  3.51s/trial, best loss: 0.24949010898780744]\n"
     ]
    }
   ],
   "source": [
    "trials = hyperopt.Trials()\n",
    "\n",
    "best_80_wo_web = hyperopt.fmin(\n",
    "    hyperopt_objective_80_wo_web,\n",
    "    space=params_space,\n",
    "    algo=hyperopt.tpe.suggest,\n",
    "    max_evals=80,\n",
    "    trials=trials,\n",
    "    rstate=RandomState(123)\n",
    ")"
   ]
  },
  {
   "cell_type": "code",
   "execution_count": 1011,
   "metadata": {},
   "outputs": [
    {
     "data": {
      "text/plain": [
       "{'depth': 4.351981722413607,\n",
       " 'iterations': 49.36681023366074,\n",
       " 'l2_leaf_reg': 2.0,\n",
       " 'learning_rate': 0.11529642431842818}"
      ]
     },
     "execution_count": 1011,
     "metadata": {},
     "output_type": "execute_result"
    }
   ],
   "source": [
    "best_80_wo_web"
   ]
  },
  {
   "cell_type": "code",
   "execution_count": 1087,
   "metadata": {},
   "outputs": [],
   "source": [
    "model_20 = CatBoostClassifier(thread_count=8,\n",
    "                              l2_leaf_reg=int(best_20['l2_leaf_reg']),\n",
    "                              learning_rate=best_20['learning_rate'],\n",
    "                              iterations=int(best_20['iterations']),\n",
    "                              depth=int(best_20['depth']))"
   ]
  },
  {
   "cell_type": "code",
   "execution_count": 1088,
   "metadata": {},
   "outputs": [],
   "source": [
    "model_80 = CatBoostClassifier(thread_count=8,\n",
    "                              l2_leaf_reg=int(best_80['l2_leaf_reg']),\n",
    "                              learning_rate=best_80['learning_rate'],\n",
    "                              iterations=int(best_80['iterations']),\n",
    "                              depth=int(best_80['depth']))"
   ]
  },
  {
   "cell_type": "code",
   "execution_count": 1089,
   "metadata": {},
   "outputs": [],
   "source": [
    "model_80_wo_web = CatBoostClassifier(thread_count=8,\n",
    "                                     l2_leaf_reg=int(best_80_wo_web['l2_leaf_reg']),\n",
    "                                     learning_rate=best_80_wo_web['learning_rate'],\n",
    "                                     iterations=int(best_80_wo_web['iterations']),\n",
    "                                     depth=int(best_80_wo_web['depth']))"
   ]
  },
  {
   "cell_type": "markdown",
   "metadata": {},
   "source": [
    "**model_20 на кросс-валидации:**"
   ]
  },
  {
   "cell_type": "code",
   "execution_count": 1090,
   "metadata": {},
   "outputs": [
    {
     "data": {
      "text/plain": [
       "0.7780623132735808"
      ]
     },
     "execution_count": 1090,
     "metadata": {},
     "output_type": "execute_result"
    }
   ],
   "source": [
    "model_20.fit(X_t_web_20, y_t, verbose=False, cat_features=[20, 21])\n",
    "y_t_pred_20 = model_20.predict(X_t_web_20)\n",
    "model_20_cv_f1 = f1_score(y_t, y_t_pred_20)\n",
    "model_20_cv_f1"
   ]
  },
  {
   "cell_type": "markdown",
   "metadata": {},
   "source": [
    "**model_20 на отложенной выборке:**"
   ]
  },
  {
   "cell_type": "code",
   "execution_count": 1091,
   "metadata": {},
   "outputs": [
    {
     "data": {
      "text/plain": [
       "0.6758304696449026"
      ]
     },
     "execution_count": 1091,
     "metadata": {},
     "output_type": "execute_result"
    }
   ],
   "source": [
    "model_20.fit(X_t_web_20, y_t, verbose=False, cat_features=[20, 21])\n",
    "y_val_pred_20 = model_20.predict(X_val_web_20)\n",
    "model_20_test_f1 = f1_score(y_val, y_val_pred_20)\n",
    "model_20_test_f1"
   ]
  },
  {
   "cell_type": "markdown",
   "metadata": {},
   "source": [
    "**На Liderboard sub_cb_20.csv - 0.71987**"
   ]
  },
  {
   "cell_type": "markdown",
   "metadata": {},
   "source": [
    "**model_80 на кросс-валидации:**"
   ]
  },
  {
   "cell_type": "code",
   "execution_count": 1092,
   "metadata": {},
   "outputs": [
    {
     "data": {
      "text/plain": [
       "0.8282955499580186"
      ]
     },
     "execution_count": 1092,
     "metadata": {},
     "output_type": "execute_result"
    }
   ],
   "source": [
    "model_80.fit(X_t_web_80, y_t, verbose=False, cat_features=[80, 81])\n",
    "y_t_pred_80 = model_80.predict(X_t_web_80)\n",
    "model_80_cv_f1 = f1_score(y_t, y_t_pred_80)\n",
    "model_80_cv_f1"
   ]
  },
  {
   "cell_type": "markdown",
   "metadata": {},
   "source": [
    "**model_80 на отложенной выборке:**"
   ]
  },
  {
   "cell_type": "code",
   "execution_count": 1093,
   "metadata": {},
   "outputs": [
    {
     "data": {
      "text/plain": [
       "0.6367601246105918"
      ]
     },
     "execution_count": 1093,
     "metadata": {},
     "output_type": "execute_result"
    }
   ],
   "source": [
    "model_80.fit(X_t_web_80, y_t, verbose=False, cat_features=[80, 81])\n",
    "y_val_pred_80 = model_80.predict(X_val_web_80)\n",
    "model_80_test_f1 = f1_score(y_val, y_val_pred_80)\n",
    "model_80_test_f1"
   ]
  },
  {
   "cell_type": "markdown",
   "metadata": {},
   "source": [
    "**На Liderboard sub_80.csv - 0.74678**"
   ]
  },
  {
   "cell_type": "markdown",
   "metadata": {},
   "source": [
    "**model_80_wo_web на кросс-валидации:**"
   ]
  },
  {
   "cell_type": "code",
   "execution_count": 1096,
   "metadata": {},
   "outputs": [
    {
     "data": {
      "text/plain": [
       "0.8049351201871942"
      ]
     },
     "execution_count": 1096,
     "metadata": {},
     "output_type": "execute_result"
    }
   ],
   "source": [
    "model_80_wo_web.fit(X_t_s_80, y_t, verbose=False, cat_features=[])\n",
    "y_t_pred_80_wo_web = model_80_wo_web.predict(X_t_s_80)\n",
    "model_80_wo_web_cv_f1 = f1_score(y_t, y_t_pred_80_wo_web)\n",
    "model_80_wo_web_cv_f1"
   ]
  },
  {
   "cell_type": "markdown",
   "metadata": {},
   "source": [
    "**model_80_wo_web на отложенной выборке:**"
   ]
  },
  {
   "cell_type": "code",
   "execution_count": 1097,
   "metadata": {},
   "outputs": [
    {
     "data": {
      "text/plain": [
       "0.6569872958257713"
      ]
     },
     "execution_count": 1097,
     "metadata": {},
     "output_type": "execute_result"
    }
   ],
   "source": [
    "model_80_wo_web.fit(X_t_s_80, y_t, verbose=False, cat_features=[])\n",
    "y_val_pred_80_wo_web = model_80_wo_web.predict(X_val_s_80)\n",
    "model_80_wo_web_test_f1 = f1_score(y_val, y_val_pred_80_wo_web)\n",
    "model_80_wo_web_test_f1"
   ]
  },
  {
   "cell_type": "markdown",
   "metadata": {},
   "source": [
    "**На Liderboard sub_80_wo_web.csv - 0.73605**"
   ]
  },
  {
   "cell_type": "code",
   "execution_count": 1098,
   "metadata": {},
   "outputs": [
    {
     "name": "stdout",
     "output_type": "stream",
     "text": [
      "1: 11.88180957690874\n",
      "2: 11.617603981064034\n",
      "19: 9.19470936075975\n",
      "20: 7.836276257209228\n",
      "0: 7.712670884582694\n",
      "4: 6.534199803656132\n",
      "8: 5.822366701449409\n",
      "5: 5.645703504980219\n",
      "11: 4.281900381952004\n",
      "15: 4.004237528637544\n"
     ]
    }
   ],
   "source": [
    "feature_importances_20 = model_20.get_feature_importance()\n",
    "feature_names_20 = range(22)\n",
    "\n",
    "for score, name in sorted(zip(feature_importances_20, feature_names_20), reverse=True)[:10]:\n",
    "    print('{}: {}'.format(name, score))"
   ]
  },
  {
   "cell_type": "code",
   "execution_count": 1099,
   "metadata": {},
   "outputs": [
    {
     "name": "stdout",
     "output_type": "stream",
     "text": [
      "2: 7.9569476477852765\n",
      "3: 7.823549413918691\n",
      "80: 5.304872312015004\n",
      "43: 5.041003465845854\n",
      "0: 4.562224174913974\n",
      "1: 3.935204809150055\n",
      "40: 3.122445955091863\n",
      "19: 2.4338030805872592\n",
      "4: 2.3525444257113244\n",
      "53: 2.003431256930842\n"
     ]
    }
   ],
   "source": [
    "feature_importances_80 = model_80.get_feature_importance()\n",
    "feature_names_80 = range(82)\n",
    "\n",
    "for score, name in sorted(zip(feature_importances_80, feature_names_80), reverse=True)[:10]:\n",
    "    print('{}: {}'.format(name, score))"
   ]
  },
  {
   "cell_type": "code",
   "execution_count": 1100,
   "metadata": {},
   "outputs": [
    {
     "name": "stdout",
     "output_type": "stream",
     "text": [
      "0: 10.048229292345507\n",
      "1: 9.634718972540844\n",
      "6: 8.252967481940416\n",
      "5: 7.16909886003722\n",
      "9: 5.309951565981519\n",
      "3: 5.041768948515201\n",
      "8: 3.983444996444356\n",
      "4: 3.9307938042958304\n",
      "27: 3.2388131682902244\n",
      "20: 2.718336952180136\n"
     ]
    }
   ],
   "source": [
    "feature_importances_80_wo_web = model_80_wo_web.get_feature_importance()\n",
    "feature_names_80_wo_web = range(80)\n",
    "\n",
    "for score, name in sorted(zip(feature_importances_80_wo_web, feature_names_80_wo_web), reverse=True)[:10]:\n",
    "    print('{}: {}'.format(name, score))"
   ]
  },
  {
   "cell_type": "markdown",
   "metadata": {},
   "source": [
    "## Итого:"
   ]
  },
  {
   "cell_type": "code",
   "execution_count": 1102,
   "metadata": {},
   "outputs": [],
   "source": [
    "data = {'model':['20 признаков + web признаки', '80 признаков + web признаки', '80 признаков - web признаки'],\n",
    "        'cross-val': [model_20_cv_f1, model_80_cv_f1, model_80_wo_web_cv_f1],\n",
    "        'test': [model_20_test_f1, model_80_test_f1, model_80_wo_web_test_f1], \n",
    "        'liderboard': [0.71987, 0.74678, 0.73605],\n",
    "        'file': ['sub_cb_20.csv', 'sub_80.csv', 'sub_80_wo_web.csv']}"
   ]
  },
  {
   "cell_type": "code",
   "execution_count": 1103,
   "metadata": {},
   "outputs": [
    {
     "data": {
      "text/html": [
       "<div>\n",
       "<style scoped>\n",
       "    .dataframe tbody tr th:only-of-type {\n",
       "        vertical-align: middle;\n",
       "    }\n",
       "\n",
       "    .dataframe tbody tr th {\n",
       "        vertical-align: top;\n",
       "    }\n",
       "\n",
       "    .dataframe thead th {\n",
       "        text-align: right;\n",
       "    }\n",
       "</style>\n",
       "<table border=\"1\" class=\"dataframe\">\n",
       "  <thead>\n",
       "    <tr style=\"text-align: right;\">\n",
       "      <th></th>\n",
       "      <th>model</th>\n",
       "      <th>cross-val</th>\n",
       "      <th>test</th>\n",
       "      <th>liderboard</th>\n",
       "      <th>file</th>\n",
       "    </tr>\n",
       "  </thead>\n",
       "  <tbody>\n",
       "    <tr>\n",
       "      <th>0</th>\n",
       "      <td>20 признаков + web признаки</td>\n",
       "      <td>0.778062</td>\n",
       "      <td>0.675830</td>\n",
       "      <td>0.71987</td>\n",
       "      <td>sub_cb_20.csv</td>\n",
       "    </tr>\n",
       "    <tr>\n",
       "      <th>1</th>\n",
       "      <td>80 признаков + web признаки</td>\n",
       "      <td>0.828296</td>\n",
       "      <td>0.636760</td>\n",
       "      <td>0.74678</td>\n",
       "      <td>sub_80.csv</td>\n",
       "    </tr>\n",
       "    <tr>\n",
       "      <th>2</th>\n",
       "      <td>80 признаков - web признаки</td>\n",
       "      <td>0.804935</td>\n",
       "      <td>0.656987</td>\n",
       "      <td>0.73605</td>\n",
       "      <td>sub_80_wo_web.csv</td>\n",
       "    </tr>\n",
       "  </tbody>\n",
       "</table>\n",
       "</div>"
      ],
      "text/plain": [
       "                         model  cross-val      test  liderboard  \\\n",
       "0  20 признаков + web признаки   0.778062  0.675830     0.71987   \n",
       "1  80 признаков + web признаки   0.828296  0.636760     0.74678   \n",
       "2  80 признаков - web признаки   0.804935  0.656987     0.73605   \n",
       "\n",
       "                file  \n",
       "0      sub_cb_20.csv  \n",
       "1         sub_80.csv  \n",
       "2  sub_80_wo_web.csv  "
      ]
     },
     "execution_count": 1103,
     "metadata": {},
     "output_type": "execute_result"
    }
   ],
   "source": [
    "pd.DataFrame.from_dict(data)"
   ]
  },
  {
   "cell_type": "markdown",
   "metadata": {},
   "source": [
    "**Лучшая модель: 80 признаков + web признаки**"
   ]
  },
  {
   "cell_type": "markdown",
   "metadata": {},
   "source": [
    "## Submission:"
   ]
  },
  {
   "cell_type": "code",
   "execution_count": 1017,
   "metadata": {},
   "outputs": [],
   "source": [
    "X_test_web_20, X_test_s_20, X_test_20 = get_X_20(test_df, test_corpus)\n",
    "X_test_web_80, X_test_s_80, X_test_80 = get_X_80(test_df, test_corpus)"
   ]
  },
  {
   "cell_type": "code",
   "execution_count": 1061,
   "metadata": {},
   "outputs": [
    {
     "data": {
      "text/plain": [
       "<catboost.core.CatBoostClassifier at 0x2d54cfe8ac0>"
      ]
     },
     "execution_count": 1061,
     "metadata": {},
     "output_type": "execute_result"
    }
   ],
   "source": [
    "model_20 = CatBoostClassifier(thread_count=8,\n",
    "                              l2_leaf_reg=int(best_20['l2_leaf_reg']),\n",
    "                              learning_rate=best_20['learning_rate'],\n",
    "                              iterations=int(best_20['iterations']),\n",
    "                              depth=int(best_20['depth']))\n",
    "model_20.fit(X_train_web_20, y_train, verbose=False, cat_features=[20, 21])"
   ]
  },
  {
   "cell_type": "code",
   "execution_count": 1062,
   "metadata": {},
   "outputs": [
    {
     "data": {
      "text/plain": [
       "<catboost.core.CatBoostClassifier at 0x2d54cfe8520>"
      ]
     },
     "execution_count": 1062,
     "metadata": {},
     "output_type": "execute_result"
    }
   ],
   "source": [
    "model_80 = CatBoostClassifier(thread_count=8,\n",
    "                              l2_leaf_reg=int(best_80['l2_leaf_reg']),\n",
    "                              learning_rate=best_80['learning_rate'],\n",
    "                              iterations=int(best_80['iterations']),\n",
    "                              depth=int(best_80['depth']))\n",
    "model_80.fit(X_train_web_80, y_train, verbose=False, cat_features=[80, 81])"
   ]
  },
  {
   "cell_type": "code",
   "execution_count": 1063,
   "metadata": {},
   "outputs": [
    {
     "data": {
      "text/plain": [
       "<catboost.core.CatBoostClassifier at 0x2d54cfe8b50>"
      ]
     },
     "execution_count": 1063,
     "metadata": {},
     "output_type": "execute_result"
    }
   ],
   "source": [
    "model_80_wo_web = CatBoostClassifier(thread_count=8,\n",
    "                                     l2_leaf_reg=int(best_80_wo_web['l2_leaf_reg']),\n",
    "                                     learning_rate=best_80_wo_web['learning_rate'],\n",
    "                                     iterations=int(best_80_wo_web['iterations']),\n",
    "                                     depth=int(best_80_wo_web['depth']))\n",
    "model_80_wo_web.fit(X_train_s_80, y_train, verbose=False, cat_features=[])"
   ]
  },
  {
   "cell_type": "code",
   "execution_count": 1064,
   "metadata": {},
   "outputs": [],
   "source": [
    "y_pred_20 = model_20.predict(X_test_web_20)"
   ]
  },
  {
   "cell_type": "code",
   "execution_count": 1065,
   "metadata": {},
   "outputs": [],
   "source": [
    "y_pred_80 = model_80.predict(X_test_web_80)"
   ]
  },
  {
   "cell_type": "code",
   "execution_count": 1066,
   "metadata": {},
   "outputs": [],
   "source": [
    "y_pred_80_wo_web = model_80_wo_web.predict(X_test_s_80)"
   ]
  },
  {
   "cell_type": "code",
   "execution_count": 1080,
   "metadata": {},
   "outputs": [
    {
     "data": {
      "text/plain": [
       "(4409, 4509, 4409)"
      ]
     },
     "execution_count": 1080,
     "metadata": {},
     "output_type": "execute_result"
    }
   ],
   "source": [
    "y_pred_20.sum(), y_pred_80.sum(), y_pred_80_wo_web.sum()"
   ]
  },
  {
   "cell_type": "code",
   "execution_count": 1076,
   "metadata": {},
   "outputs": [],
   "source": [
    "y_pred = (y_pred_20 + y_pred_80 + y_pred_80_wo_web) / 3\n",
    "y_pred = y_pred > 0.5"
   ]
  },
  {
   "cell_type": "code",
   "execution_count": 1079,
   "metadata": {},
   "outputs": [],
   "source": [
    "y_pred = y_pred_80_wo_web\n",
    "y_pred = np.array(y_pred, dtype=np.int)\n",
    "with open('sub_80_wo_web.csv', 'w') as f:\n",
    "    fieldnames = ['pair_id', 'target']\n",
    "    writer = csv.DictWriter(f, fieldnames=fieldnames)\n",
    "    writer.writeheader()\n",
    "    i = 11691\n",
    "    for elem in y_pred:\n",
    "        writer.writerow({'pair_id': str(i), 'target': str(elem)})\n",
    "        i += 1\n",
    "f.close()"
   ]
  },
  {
   "cell_type": "markdown",
   "metadata": {},
   "source": [
    "## На Liderboard:"
   ]
  },
  {
   "cell_type": "markdown",
   "metadata": {},
   "source": [
    "'sub_vote_sh.csv' - 0.74706  \n",
    "'sub_80.csv' - 0.74678  \n",
    "'sub_80_wo_web.csv' - 0.73605  \n",
    "'sub_cb_20.csv' - 0.71987  "
   ]
  }
 ],
 "metadata": {
  "kernelspec": {
   "display_name": "Python 3",
   "language": "python",
   "name": "python3"
  },
  "language_info": {
   "codemirror_mode": {
    "name": "ipython",
    "version": 3
   },
   "file_extension": ".py",
   "mimetype": "text/x-python",
   "name": "python",
   "nbconvert_exporter": "python",
   "pygments_lexer": "ipython3",
   "version": "3.8.5"
  }
 },
 "nbformat": 4,
 "nbformat_minor": 4
}
